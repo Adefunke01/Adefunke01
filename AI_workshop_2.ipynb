{
  "nbformat": 4,
  "nbformat_minor": 5,
  "metadata": {
    "kernelspec": {
      "display_name": "Python 3",
      "language": "python",
      "name": "python3"
    },
    "language_info": {
      "codemirror_mode": {
        "name": "ipython",
        "version": 3
      },
      "file_extension": ".py",
      "mimetype": "text/x-python",
      "name": "python",
      "nbconvert_exporter": "python",
      "pygments_lexer": "ipython3",
      "version": "3.9.5"
    },
    "colab": {
      "name": "AI workshop 2.ipynb",
      "provenance": [],
      "collapsed_sections": [],
      "include_colab_link": true
    }
  },
  "cells": [
    {
      "cell_type": "markdown",
      "metadata": {
        "id": "view-in-github",
        "colab_type": "text"
      },
      "source": [
        "<a href=\"https://colab.research.google.com/github/Adefunke01/Adefunke01/blob/main/AI_workshop_2.ipynb\" target=\"_parent\"><img src=\"https://colab.research.google.com/assets/colab-badge.svg\" alt=\"Open In Colab\"/></a>"
      ]
    },
    {
      "cell_type": "code",
      "metadata": {
        "id": "Gw9WvxNmVOS4"
      },
      "source": [
        ""
      ],
      "id": "Gw9WvxNmVOS4",
      "execution_count": null,
      "outputs": []
    },
    {
      "cell_type": "code",
      "metadata": {
        "colab": {
          "base_uri": "https://localhost:8080/"
        },
        "id": "lW4f4qpsQlQ5",
        "outputId": "3f1a2493-674c-4854-bf8e-af841d701d4e"
      },
      "source": [
        "from google.colab import drive \n",
        "drive.mount('/content/gdrive')"
      ],
      "id": "lW4f4qpsQlQ5",
      "execution_count": null,
      "outputs": [
        {
          "output_type": "stream",
          "name": "stdout",
          "text": [
            "Mounted at /content/gdrive\n"
          ]
        }
      ]
    },
    {
      "cell_type": "code",
      "metadata": {
        "id": "jiB4JEGsVLX-"
      },
      "source": [
        ""
      ],
      "id": "jiB4JEGsVLX-",
      "execution_count": null,
      "outputs": []
    },
    {
      "cell_type": "code",
      "metadata": {
        "id": "5c5HnRQuTc0V"
      },
      "source": [
        "import pandas as pd\n",
        "import numpy as np\n",
        "import matplotlib.pyplot as plt\n",
        "df=pd.read_csv('gdrive/My Drive/phytoplankton.csv', encoding= 'unicode_escape')"
      ],
      "id": "5c5HnRQuTc0V",
      "execution_count": null,
      "outputs": []
    },
    {
      "cell_type": "code",
      "metadata": {
        "id": "690e5115",
        "colab": {
          "base_uri": "https://localhost:8080/",
          "height": 640
        },
        "outputId": "d26658da-225e-4252-eb25-54ad2869d92f"
      },
      "source": [
        "new_header = df.iloc[0] #grab the first row for the header\n",
        "df = df[1:] #take the data less the header row\n",
        "df.columns = new_header #set the header row as the df header\n",
        "df = df[:828]\n",
        "df"
      ],
      "id": "690e5115",
      "execution_count": null,
      "outputs": [
        {
          "output_type": "execute_result",
          "data": {
            "text/html": [
              "<div>\n",
              "<style scoped>\n",
              "    .dataframe tbody tr th:only-of-type {\n",
              "        vertical-align: middle;\n",
              "    }\n",
              "\n",
              "    .dataframe tbody tr th {\n",
              "        vertical-align: top;\n",
              "    }\n",
              "\n",
              "    .dataframe thead th {\n",
              "        text-align: right;\n",
              "    }\n",
              "</style>\n",
              "<table border=\"1\" class=\"dataframe\">\n",
              "  <thead>\n",
              "    <tr style=\"text-align: right;\">\n",
              "      <th></th>\n",
              "      <th>Sample number</th>\n",
              "      <th>Production area</th>\n",
              "      <th>Bed ID</th>\n",
              "      <th>Local authority</th>\n",
              "      <th>Grid reference\\n\\nNote 1</th>\n",
              "      <th>Sampling point</th>\n",
              "      <th>Date sample collected</th>\n",
              "      <th>Alexandrium spp. \\ncells L-1\\n(PSP)</th>\n",
              "      <th>Dinophysiaceae \\ncells L-1\\n(DSP)</th>\n",
              "      <th>Prorocentrum lima \\ncells L-1\\n(DSP)</th>\n",
              "      <th>Pseudo-nitzschia spp. \\ncells L-1\\n(ASP)</th>\n",
              "      <th>Ligulodinium polyedrum \\ncells L-1\\n(Yessotoxin)</th>\n",
              "      <th>Protoceratium reticulatum \\ncells L-1\\n(Yessotoxin)</th>\n",
              "      <th>Prorocentrum cordatum \\ncells L-1\\n(Venerupin)</th>\n",
              "      <th>NaN</th>\n",
              "      <th>NaN</th>\n",
              "    </tr>\n",
              "  </thead>\n",
              "  <tbody>\n",
              "    <tr>\n",
              "      <th>1</th>\n",
              "      <td>1/21</td>\n",
              "      <td>Solent</td>\n",
              "      <td>B24BK</td>\n",
              "      <td>Southampton PHA</td>\n",
              "      <td>SZ57479794</td>\n",
              "      <td>Browndown</td>\n",
              "      <td>04/01/2021</td>\n",
              "      <td>ND</td>\n",
              "      <td>ND</td>\n",
              "      <td>ND</td>\n",
              "      <td>ND</td>\n",
              "      <td>ND</td>\n",
              "      <td>ND</td>\n",
              "      <td>ND</td>\n",
              "      <td>NaN</td>\n",
              "      <td>NaN</td>\n",
              "    </tr>\n",
              "    <tr>\n",
              "      <th>2</th>\n",
              "      <td>2/21</td>\n",
              "      <td>Southampton Water</td>\n",
              "      <td>B21AT</td>\n",
              "      <td>Southampton PHA</td>\n",
              "      <td>SU48760530</td>\n",
              "      <td>Hamble Estuary</td>\n",
              "      <td>04/01/2021</td>\n",
              "      <td>ND</td>\n",
              "      <td>ND</td>\n",
              "      <td>ND</td>\n",
              "      <td>ND</td>\n",
              "      <td>ND</td>\n",
              "      <td>ND</td>\n",
              "      <td>ND</td>\n",
              "      <td>NaN</td>\n",
              "      <td>NaN</td>\n",
              "    </tr>\n",
              "    <tr>\n",
              "      <th>3</th>\n",
              "      <td>3/21</td>\n",
              "      <td>Brancaster</td>\n",
              "      <td>B05AS</td>\n",
              "      <td>Kings Lynn &amp; W Norfolk BC</td>\n",
              "      <td>TF79884539</td>\n",
              "      <td>Norton Creek Mussels</td>\n",
              "      <td>05/01/2021</td>\n",
              "      <td>ND</td>\n",
              "      <td>ND</td>\n",
              "      <td>ND</td>\n",
              "      <td>400</td>\n",
              "      <td>ND</td>\n",
              "      <td>ND</td>\n",
              "      <td>ND</td>\n",
              "      <td>NaN</td>\n",
              "      <td>NaN</td>\n",
              "    </tr>\n",
              "    <tr>\n",
              "      <th>4</th>\n",
              "      <td>4/21</td>\n",
              "      <td>Porlock</td>\n",
              "      <td>B094D</td>\n",
              "      <td>Somerset West and Taunton Council</td>\n",
              "      <td>SS87114787</td>\n",
              "      <td>Porlock East</td>\n",
              "      <td>05/01/2021</td>\n",
              "      <td>ND</td>\n",
              "      <td>ND</td>\n",
              "      <td>ND</td>\n",
              "      <td>ND</td>\n",
              "      <td>ND</td>\n",
              "      <td>ND</td>\n",
              "      <td>ND</td>\n",
              "      <td>NaN</td>\n",
              "      <td>NaN</td>\n",
              "    </tr>\n",
              "    <tr>\n",
              "      <th>5</th>\n",
              "      <td>5/21</td>\n",
              "      <td>Blackwater</td>\n",
              "      <td>B14AD</td>\n",
              "      <td>Maldon DC</td>\n",
              "      <td>TM04060768</td>\n",
              "      <td>St Peters Flats</td>\n",
              "      <td>06/01/2021</td>\n",
              "      <td>ND</td>\n",
              "      <td>ND</td>\n",
              "      <td>ND</td>\n",
              "      <td>ND</td>\n",
              "      <td>ND</td>\n",
              "      <td>ND</td>\n",
              "      <td>ND</td>\n",
              "      <td>NaN</td>\n",
              "      <td>NaN</td>\n",
              "    </tr>\n",
              "    <tr>\n",
              "      <th>...</th>\n",
              "      <td>...</td>\n",
              "      <td>...</td>\n",
              "      <td>...</td>\n",
              "      <td>...</td>\n",
              "      <td>...</td>\n",
              "      <td>...</td>\n",
              "      <td>...</td>\n",
              "      <td>...</td>\n",
              "      <td>...</td>\n",
              "      <td>...</td>\n",
              "      <td>...</td>\n",
              "      <td>...</td>\n",
              "      <td>...</td>\n",
              "      <td>...</td>\n",
              "      <td>...</td>\n",
              "      <td>...</td>\n",
              "    </tr>\n",
              "    <tr>\n",
              "      <th>824</th>\n",
              "      <td>853/21</td>\n",
              "      <td>St Austell Bay</td>\n",
              "      <td>B70AE</td>\n",
              "      <td>Cornwall PHA</td>\n",
              "      <td>SX05744972</td>\n",
              "      <td>Ropehaven Outer</td>\n",
              "      <td>25/10/2021</td>\n",
              "      <td>ND</td>\n",
              "      <td>40</td>\n",
              "      <td>ND</td>\n",
              "      <td>7080</td>\n",
              "      <td>ND</td>\n",
              "      <td>ND</td>\n",
              "      <td>ND</td>\n",
              "      <td>NaN</td>\n",
              "      <td>NaN</td>\n",
              "    </tr>\n",
              "    <tr>\n",
              "      <th>825</th>\n",
              "      <td>854/21</td>\n",
              "      <td>Crouch</td>\n",
              "      <td>B015Y</td>\n",
              "      <td>Maldon DC</td>\n",
              "      <td>TQ90429738</td>\n",
              "      <td>Althorne</td>\n",
              "      <td>26/10/2021</td>\n",
              "      <td>ND</td>\n",
              "      <td>ND</td>\n",
              "      <td>ND</td>\n",
              "      <td>ND</td>\n",
              "      <td>ND</td>\n",
              "      <td>ND</td>\n",
              "      <td>ND</td>\n",
              "      <td>NaN</td>\n",
              "      <td>NaN</td>\n",
              "    </tr>\n",
              "    <tr>\n",
              "      <th>826</th>\n",
              "      <td>855/21</td>\n",
              "      <td>Lyme Bay</td>\n",
              "      <td>B090M</td>\n",
              "      <td>Torbay BC</td>\n",
              "      <td>UNVERIFIED</td>\n",
              "      <td>Site 1</td>\n",
              "      <td>25/10/2021</td>\n",
              "      <td>ND</td>\n",
              "      <td>40</td>\n",
              "      <td>ND</td>\n",
              "      <td>ND</td>\n",
              "      <td>ND</td>\n",
              "      <td>ND</td>\n",
              "      <td>ND</td>\n",
              "      <td>NaN</td>\n",
              "      <td>NaN</td>\n",
              "    </tr>\n",
              "    <tr>\n",
              "      <th>827</th>\n",
              "      <td>856/21</td>\n",
              "      <td>Burry Inlet</td>\n",
              "      <td>B038I</td>\n",
              "      <td>City and Council of Swansea</td>\n",
              "      <td>SS50509590</td>\n",
              "      <td>South East 4</td>\n",
              "      <td>27/10/2021</td>\n",
              "      <td>ND</td>\n",
              "      <td>ND</td>\n",
              "      <td>ND</td>\n",
              "      <td>ND</td>\n",
              "      <td>ND</td>\n",
              "      <td>ND</td>\n",
              "      <td>ND</td>\n",
              "      <td>NaN</td>\n",
              "      <td>NaN</td>\n",
              "    </tr>\n",
              "    <tr>\n",
              "      <th>828</th>\n",
              "      <td>857/21</td>\n",
              "      <td>Dee</td>\n",
              "      <td>B45AB</td>\n",
              "      <td>Flintshire CC</td>\n",
              "      <td>SJ17568056</td>\n",
              "      <td>Salisbury</td>\n",
              "      <td>26/10/2021</td>\n",
              "      <td>ND</td>\n",
              "      <td>ND</td>\n",
              "      <td>ND</td>\n",
              "      <td>ND</td>\n",
              "      <td>ND</td>\n",
              "      <td>ND</td>\n",
              "      <td>ND</td>\n",
              "      <td>NaN</td>\n",
              "      <td>NaN</td>\n",
              "    </tr>\n",
              "  </tbody>\n",
              "</table>\n",
              "<p>828 rows × 16 columns</p>\n",
              "</div>"
            ],
            "text/plain": [
              "0   Sample number    Production area  ... NaN NaN\n",
              "1            1/21             Solent  ... NaN NaN\n",
              "2            2/21  Southampton Water  ... NaN NaN\n",
              "3            3/21         Brancaster  ... NaN NaN\n",
              "4            4/21            Porlock  ... NaN NaN\n",
              "5            5/21         Blackwater  ... NaN NaN\n",
              "..            ...                ...  ...  ..  ..\n",
              "824        853/21     St Austell Bay  ... NaN NaN\n",
              "825        854/21             Crouch  ... NaN NaN\n",
              "826        855/21           Lyme Bay  ... NaN NaN\n",
              "827        856/21        Burry Inlet  ... NaN NaN\n",
              "828        857/21                Dee  ... NaN NaN\n",
              "\n",
              "[828 rows x 16 columns]"
            ]
          },
          "metadata": {},
          "execution_count": 22
        }
      ]
    },
    {
      "cell_type": "code",
      "metadata": {
        "id": "c5207225"
      },
      "source": [
        "def clean_data(df):\n",
        "    df[\"Alexandrium spp. \\ncells L-1\\n(PSP)\"] = df[\"Alexandrium spp. \\ncells L-1\\n(PSP)\"].replace(\"ND\", 0)\n",
        "    df[\"Pseudo-nitzschia spp. \\ncells L-1\\n(ASP) \"] = df[\"Pseudo-nitzschia spp. \\ncells L-1\\n(ASP) \"].replace(\"ND\", 0)\n",
        "    df[\"Dinophysiaceae \\ncells L-1\\n(DSP)\"] = df[\"Dinophysiaceae \\ncells L-1\\n(DSP)\"].replace(\"ND\", 0)\n",
        "    df[\"Prorocentrum lima \\ncells L-1\\n(DSP)\"] = df[\"Prorocentrum lima \\ncells L-1\\n(DSP)\"].replace(\"ND\", 0) \n",
        "    \n",
        "    df[\"Alexandrium spp. \\ncells L-1\\n(PSP)\"] = pd.to_numeric(df[\"Alexandrium spp. \\ncells L-1\\n(PSP)\"], errors='coerce')\n",
        "    df[\"Pseudo-nitzschia spp. \\ncells L-1\\n(ASP) \"] = pd.to_numeric(df[\"Pseudo-nitzschia spp. \\ncells L-1\\n(ASP) \"], errors='coerce')\n",
        "    df[\"Dinophysiaceae \\ncells L-1\\n(DSP)\"] = pd.to_numeric(df[\"Dinophysiaceae \\ncells L-1\\n(DSP)\"], errors='coerce')\n",
        "    df[\"Prorocentrum lima \\ncells L-1\\n(DSP)\"] = pd.to_numeric(df[\"Prorocentrum lima \\ncells L-1\\n(DSP)\"], errors='coerce')\n",
        "    \n",
        "    df[\"Alexandrium spp. \\ncells L-1\\n(PSP)\"] = df[\"Alexandrium spp. \\ncells L-1\\n(PSP)\"].fillna(-1)\n",
        "    df[\"Pseudo-nitzschia spp. \\ncells L-1\\n(ASP) \"] = df[\"Pseudo-nitzschia spp. \\ncells L-1\\n(ASP) \"].fillna(-1)\n",
        "    df[\"Dinophysiaceae \\ncells L-1\\n(DSP)\"] = df[\"Dinophysiaceae \\ncells L-1\\n(DSP)\"].fillna(-1)\n",
        "    df[\"Prorocentrum lima \\ncells L-1\\n(DSP)\"] = df[\"Prorocentrum lima \\ncells L-1\\n(DSP)\"].fillna(-1)\n",
        "clean_data(df)"
      ],
      "id": "c5207225",
      "execution_count": null,
      "outputs": []
    },
    {
      "cell_type": "code",
      "metadata": {
        "id": "f06e276b",
        "colab": {
          "base_uri": "https://localhost:8080/"
        },
        "outputId": "d4394054-b8e3-42dc-8023-200e77fc78ea"
      },
      "source": [
        "df['Alexandrium spp. \\ncells L-1\\n(PSP)'].unique()"
      ],
      "id": "f06e276b",
      "execution_count": null,
      "outputs": [
        {
          "output_type": "execute_result",
          "data": {
            "text/plain": [
              "array([  0.,  -1., 200.,  40., 100., 120.,  80., 320., 400., 500., 160.,\n",
              "       240.])"
            ]
          },
          "metadata": {},
          "execution_count": 24
        }
      ]
    },
    {
      "cell_type": "code",
      "metadata": {
        "id": "e57e7288"
      },
      "source": [
        "thresholds = {\"Alexandrium spp. \\ncells L-1\\n(PSP)\" : 40, \"Dinophysiaceae \\ncells L-1\\n(DSP)\" : 100, \"Prorocentrum lima \\ncells L-1\\n(DSP)\" : 100, \"Pseudo-nitzschia spp. \\ncells L-1\\n(ASP) \" : 150000}"
      ],
      "id": "e57e7288",
      "execution_count": null,
      "outputs": []
    },
    {
      "cell_type": "code",
      "metadata": {
        "id": "86c6ca4f"
      },
      "source": [
        "def check_thresholds(df):  \n",
        "    t = []\n",
        "    for i,j in enumerate(df[\"Sample number\"]):    \n",
        "        alexandrium = df.iloc[i][\"Alexandrium spp. \\ncells L-1\\n(PSP)\"]       \n",
        "        pseudo_nitzschia = df.iloc[i][\"Pseudo-nitzschia spp. \\ncells L-1\\n(ASP) \"]    \n",
        "        dinophysiaceae = df.iloc[i][\"Dinophysiaceae \\ncells L-1\\n(DSP)\"]    \n",
        "        prorocentrum = df.iloc[i][\"Prorocentrum lima \\ncells L-1\\n(DSP)\"]    \n",
        "        \n",
        "        \n",
        "        threshold_reached = 0\n",
        "        if pseudo_nitzschia >= thresholds[\"Pseudo-nitzschia spp. \\ncells L-1\\n(ASP) \"]:      \n",
        "            threshold_reached = 1\n",
        "        elif dinophysiaceae >= thresholds[\"Dinophysiaceae \\ncells L-1\\n(DSP)\"]:\n",
        "            threshold_reached = 1\n",
        "        elif prorocentrum >= thresholds[\"Prorocentrum lima \\ncells L-1\\n(DSP)\"]:      \n",
        "            threshold_reached = 1\n",
        "        elif alexandrium >= thresholds[\"Alexandrium spp. \\ncells L-1\\n(PSP)\"]:      \n",
        "            threshold_reached = 1    \n",
        "        t.append(threshold_reached)\n",
        "    return t"
      ],
      "id": "86c6ca4f",
      "execution_count": null,
      "outputs": []
    },
    {
      "cell_type": "code",
      "metadata": {
        "id": "f2a7e1c7"
      },
      "source": [
        "thresholds_reached = check_thresholds(df)\n",
        "df['thresholds_reached'] = thresholds_reached\n",
        "pd.DataFrame.to_csv(df, './thresholds_cleaned.csv', sep=',', index=False)"
      ],
      "id": "f2a7e1c7",
      "execution_count": null,
      "outputs": []
    },
    {
      "cell_type": "code",
      "metadata": {
        "id": "fb53f4ef"
      },
      "source": [
        "x = pd.read_csv('./thresholds_cleaned.csv', usecols=[\"Pseudo-nitzschia spp. \\ncells L-1\\n(ASP) \", \"Dinophysiaceae \\ncells L-1\\n(DSP)\", \"Prorocentrum lima \\ncells L-1\\n(DSP)\", \"Alexandrium spp. \\ncells L-1\\n(PSP)\"], na_values = ['no info', '.'])\n",
        "y = pd.read_csv('./thresholds_cleaned.csv', usecols=[\"thresholds_reached\"])"
      ],
      "id": "fb53f4ef",
      "execution_count": null,
      "outputs": []
    },
    {
      "cell_type": "code",
      "metadata": {
        "id": "97d8784f"
      },
      "source": [
        "import keras\n",
        "from keras.models import Sequential \n",
        "from keras.layers import Dense, Dropout \n",
        "from keras.optimizers import*\n",
        "from keras.utils import np_utils"
      ],
      "id": "97d8784f",
      "execution_count": null,
      "outputs": []
    },
    {
      "cell_type": "code",
      "metadata": {
        "id": "550d6e65"
      },
      "source": [
        "model = Sequential()\n",
        "model.add(Dense(units=1000, activation='sigmoid', input_shape=(4,)))\n",
        "model.add(Dropout(0.5))\n",
        "model.add(Dense(units=5, activation='sigmoid'))\n",
        "model.add(Dropout(0.2))\n",
        "model.add(Dense(1, activation='sigmoid'))"
      ],
      "id": "550d6e65",
      "execution_count": 48,
      "outputs": []
    },
    {
      "cell_type": "code",
      "metadata": {
        "colab": {
          "base_uri": "https://localhost:8080/"
        },
        "id": "TBxxF58wSOiB",
        "outputId": "d2085174-73a2-4316-ede7-d9b39b01f28c"
      },
      "source": [
        "model.summary()\n",
        "\n",
        "model.compile(loss='binary_crossentropy',              \n",
        "              optimizer='adam',              \n",
        "              metrics=['accuracy'])"
      ],
      "id": "TBxxF58wSOiB",
      "execution_count": 49,
      "outputs": [
        {
          "output_type": "stream",
          "name": "stdout",
          "text": [
            "Model: \"sequential_1\"\n",
            "_________________________________________________________________\n",
            " Layer (type)                Output Shape              Param #   \n",
            "=================================================================\n",
            " dense_3 (Dense)             (None, 1000)              5000      \n",
            "                                                                 \n",
            " dropout_2 (Dropout)         (None, 1000)              0         \n",
            "                                                                 \n",
            " dense_4 (Dense)             (None, 5)                 5005      \n",
            "                                                                 \n",
            " dropout_3 (Dropout)         (None, 5)                 0         \n",
            "                                                                 \n",
            " dense_5 (Dense)             (None, 1)                 6         \n",
            "                                                                 \n",
            "=================================================================\n",
            "Total params: 10,011\n",
            "Trainable params: 10,011\n",
            "Non-trainable params: 0\n",
            "_________________________________________________________________\n"
          ]
        }
      ]
    },
    {
      "cell_type": "code",
      "metadata": {
        "id": "FBXIkgU2WGbg"
      },
      "source": [
        "from sklearn.model_selection import train_test_split\n",
        "x_train, x_test, y_train, y_test = train_test_split(x, y, test_size=0.20, random_state=42)"
      ],
      "id": "FBXIkgU2WGbg",
      "execution_count": null,
      "outputs": []
    },
    {
      "cell_type": "code",
      "metadata": {
        "colab": {
          "base_uri": "https://localhost:8080/"
        },
        "id": "H8i9PRm5SZlf",
        "outputId": "024ed8d4-0a28-4116-d854-ddee45c325bc"
      },
      "source": [
        "history = model.fit(x_train, y_train,                    \n",
        "                    batch_size=16,                    \n",
        "                    epochs=10,                    \n",
        "                    verbose=1,                    \n",
        "                    validation_data=(x_test, y_test))\n",
        "score = model.evaluate(x_test, y_test, verbose=0)\n",
        "print('Test loss:', score[0])\n",
        "print('Test accuracy:', score[1])"
      ],
      "id": "H8i9PRm5SZlf",
      "execution_count": null,
      "outputs": [
        {
          "output_type": "stream",
          "name": "stdout",
          "text": [
            "Epoch 1/10\n",
            "42/42 [==============================] - 1s 8ms/step - loss: nan - accuracy: 0.8761 - val_loss: nan - val_accuracy: 0.8916\n",
            "Epoch 2/10\n",
            "42/42 [==============================] - 0s 3ms/step - loss: nan - accuracy: 0.8837 - val_loss: nan - val_accuracy: 0.8916\n",
            "Epoch 3/10\n",
            "42/42 [==============================] - 0s 3ms/step - loss: nan - accuracy: 0.8837 - val_loss: nan - val_accuracy: 0.8916\n",
            "Epoch 4/10\n",
            "42/42 [==============================] - 0s 3ms/step - loss: nan - accuracy: 0.8837 - val_loss: nan - val_accuracy: 0.8916\n",
            "Epoch 5/10\n",
            "42/42 [==============================] - 0s 3ms/step - loss: nan - accuracy: 0.8837 - val_loss: nan - val_accuracy: 0.8916\n",
            "Epoch 6/10\n",
            "42/42 [==============================] - 0s 3ms/step - loss: nan - accuracy: 0.8837 - val_loss: nan - val_accuracy: 0.8916\n",
            "Epoch 7/10\n",
            "42/42 [==============================] - 0s 3ms/step - loss: nan - accuracy: 0.8837 - val_loss: nan - val_accuracy: 0.8916\n",
            "Epoch 8/10\n",
            "42/42 [==============================] - 0s 3ms/step - loss: nan - accuracy: 0.8837 - val_loss: nan - val_accuracy: 0.8916\n",
            "Epoch 9/10\n",
            "42/42 [==============================] - 0s 3ms/step - loss: nan - accuracy: 0.8837 - val_loss: nan - val_accuracy: 0.8916\n",
            "Epoch 10/10\n",
            "42/42 [==============================] - 0s 4ms/step - loss: nan - accuracy: 0.8837 - val_loss: nan - val_accuracy: 0.8916\n",
            "Test loss: nan\n",
            "Test accuracy: 0.891566276550293\n"
          ]
        }
      ]
    },
    {
      "cell_type": "code",
      "metadata": {
        "colab": {
          "base_uri": "https://localhost:8080/"
        },
        "id": "b1-JUTmXXS31",
        "outputId": "342fbeff-5e1b-4619-e2f9-121e5abfea7a"
      },
      "source": [
        "model.summary()\n",
        "\n",
        "model.compile(loss='binary_crossentropy',              \n",
        "              optimizer='adam',             \n",
        "              metrics=['accuracy'])"
      ],
      "id": "b1-JUTmXXS31",
      "execution_count": 50,
      "outputs": [
        {
          "output_type": "stream",
          "name": "stdout",
          "text": [
            "Model: \"sequential_1\"\n",
            "_________________________________________________________________\n",
            " Layer (type)                Output Shape              Param #   \n",
            "=================================================================\n",
            " dense_3 (Dense)             (None, 1000)              5000      \n",
            "                                                                 \n",
            " dropout_2 (Dropout)         (None, 1000)              0         \n",
            "                                                                 \n",
            " dense_4 (Dense)             (None, 5)                 5005      \n",
            "                                                                 \n",
            " dropout_3 (Dropout)         (None, 5)                 0         \n",
            "                                                                 \n",
            " dense_5 (Dense)             (None, 1)                 6         \n",
            "                                                                 \n",
            "=================================================================\n",
            "Total params: 10,011\n",
            "Trainable params: 10,011\n",
            "Non-trainable params: 0\n",
            "_________________________________________________________________\n"
          ]
        }
      ]
    },
    {
      "cell_type": "code",
      "metadata": {
        "colab": {
          "base_uri": "https://localhost:8080/"
        },
        "id": "X4ERF-A-XhTF",
        "outputId": "83e29de3-c92c-4cbb-91cb-3cd3493375ae"
      },
      "source": [
        "history = model.fit(x_train, y_train,                    \n",
        "                    batch_size=16,                    \n",
        "                    epochs=10,                    \n",
        "                    verbose=1,                    \n",
        "                    validation_data=(x_test, y_test))\n",
        "score = model.evaluate(x_test, y_test, verbose=0)\n",
        "print('Test loss:', score[0])\n",
        "print('Test accuracy:', score[1])"
      ],
      "id": "X4ERF-A-XhTF",
      "execution_count": 51,
      "outputs": [
        {
          "output_type": "stream",
          "name": "stdout",
          "text": [
            "Epoch 1/10\n",
            "42/42 [==============================] - 1s 7ms/step - loss: 0.5255 - accuracy: 0.7900 - val_loss: 0.4430 - val_accuracy: 0.8916\n",
            "Epoch 2/10\n",
            "42/42 [==============================] - 0s 3ms/step - loss: 0.4606 - accuracy: 0.8837 - val_loss: 0.4261 - val_accuracy: 0.8916\n",
            "Epoch 3/10\n",
            "42/42 [==============================] - 0s 3ms/step - loss: 0.4467 - accuracy: 0.8837 - val_loss: 0.4122 - val_accuracy: 0.8916\n",
            "Epoch 4/10\n",
            "42/42 [==============================] - 0s 3ms/step - loss: 0.4260 - accuracy: 0.8837 - val_loss: 0.3924 - val_accuracy: 0.8916\n",
            "Epoch 5/10\n",
            "42/42 [==============================] - 0s 3ms/step - loss: 0.4110 - accuracy: 0.8852 - val_loss: 0.3736 - val_accuracy: 0.8916\n",
            "Epoch 6/10\n",
            "42/42 [==============================] - 0s 4ms/step - loss: 0.4013 - accuracy: 0.8927 - val_loss: 0.3512 - val_accuracy: 0.8976\n",
            "Epoch 7/10\n",
            "42/42 [==============================] - 0s 3ms/step - loss: 0.3637 - accuracy: 0.9003 - val_loss: 0.3177 - val_accuracy: 0.9518\n",
            "Epoch 8/10\n",
            "42/42 [==============================] - 0s 3ms/step - loss: 0.3348 - accuracy: 0.9290 - val_loss: 0.2941 - val_accuracy: 0.9518\n",
            "Epoch 9/10\n",
            "42/42 [==============================] - 0s 3ms/step - loss: 0.3232 - accuracy: 0.9199 - val_loss: 0.2835 - val_accuracy: 0.9518\n",
            "Epoch 10/10\n",
            "42/42 [==============================] - 0s 3ms/step - loss: 0.2998 - accuracy: 0.9381 - val_loss: 0.2678 - val_accuracy: 0.9398\n",
            "Test loss: 0.2678125202655792\n",
            "Test accuracy: 0.9397590160369873\n"
          ]
        }
      ]
    },
    {
      "cell_type": "code",
      "metadata": {
        "colab": {
          "base_uri": "https://localhost:8080/",
          "height": 499
        },
        "id": "t6uO5osaY5km",
        "outputId": "ef936dbb-9001-4990-c591-61771046656b"
      },
      "source": [
        "acc = history.history['accuracy']\n",
        "val_acc = history.history['val_accuracy']\n",
        "\n",
        "loss = history.history['loss']\n",
        "val_loss = history.history['val_loss']\n",
        "\n",
        "epochs_range = range(epochs)\n",
        "\n",
        "plt.figure(figsize=(8, 8))\n",
        "plt.plot(epochs_range, acc, label='Training Accuracy')\n",
        "plt.plot(epochs_range, val_acc, label='Validation Accuracy')\n",
        "plt.legend(loc='lower right')\n",
        "plt.title('Training and Validation Accuracy')\n",
        "\n",
        "plt.plot(epochs_range, loss, label='Training Loss')\n",
        "plt.plot(epochs_range, val_loss, label='Validation Loss')\n",
        "plt.legend(loc='upper right')\n",
        "plt.title('Training and Validation Loss')\n",
        "plt.savefig(\"water_quality_nn.pdf\", dpi=100)\n",
        "plt.show()"
      ],
      "id": "t6uO5osaY5km",
      "execution_count": 52,
      "outputs": [
        {
          "output_type": "display_data",
          "data": {
            "image/png": "[encoded data removed]",
            "text/plain": [
              "<Figure size 576x576 with 1 Axes>"
            ]
          },
          "metadata": {
            "needs_background": "light"
          }
        }
      ]
    },
    {
      "cell_type": "code",
      "metadata": {
        "id": "XE8k3hIbjz_o"
      },
      "source": [
        ""
      ],
      "id": "XE8k3hIbjz_o",
      "execution_count": null,
      "outputs": []
    },
    {
      "cell_type": "code",
      "metadata": {
        "id": "4DgWexUVZCY8"
      },
      "source": [
        "predictions = np.zeros(len(x_test))"
      ],
      "id": "4DgWexUVZCY8",
      "execution_count": 53,
      "outputs": []
    },
    {
      "cell_type": "code",
      "metadata": {
        "colab": {
          "base_uri": "https://localhost:8080/"
        },
        "id": "s0yGT7SSgG00",
        "outputId": "71eef407-2b3c-4134-b4fe-c45644e7ee44"
      },
      "source": [
        "print(\"Before OverSampling, counts of label '1': {}\".format(sum(y[\"thresholds_reached\"] == 1)))\n",
        "print(\"Before OverSampling, counts of label '0': {} \\n\".format(sum(y[\"thresholds_reached\"] == 0)))"
      ],
      "id": "s0yGT7SSgG00",
      "execution_count": 54,
      "outputs": [
        {
          "output_type": "stream",
          "name": "stdout",
          "text": [
            "Before OverSampling, counts of label '1': 95\n",
            "Before OverSampling, counts of label '0': 733 \n",
            "\n"
          ]
        }
      ]
    },
    {
      "cell_type": "code",
      "metadata": {
        "colab": {
          "base_uri": "https://localhost:8080/"
        },
        "id": "R13Kh2n1iPUi",
        "outputId": "084bc270-b8f6-440f-d822-1e3212e13028"
      },
      "source": [
        "from collections import Counter\n",
        "from sklearn.svm import LinearSVC\n",
        "from imblearn.pipeline import make_pipeline\n",
        "from imblearn.base import BaseSampler\n",
        "from imblearn.over_sampling import (SMOTE, RandomOverSampler)\n",
        "!pip install imbalanced-learn\n",
        "import imblearn\n",
        "from imblearn.over_sampling import SMOTE"
      ],
      "id": "R13Kh2n1iPUi",
      "execution_count": 56,
      "outputs": [
        {
          "output_type": "stream",
          "name": "stdout",
          "text": [
            "Requirement already satisfied: imbalanced-learn in /usr/local/lib/python3.7/dist-packages (0.8.1)\n",
            "Requirement already satisfied: joblib>=0.11 in /usr/local/lib/python3.7/dist-packages (from imbalanced-learn) (1.1.0)\n",
            "Requirement already satisfied: numpy>=1.13.3 in /usr/local/lib/python3.7/dist-packages (from imbalanced-learn) (1.19.5)\n",
            "Requirement already satisfied: scipy>=0.19.1 in /usr/local/lib/python3.7/dist-packages (from imbalanced-learn) (1.4.1)\n",
            "Requirement already satisfied: scikit-learn>=0.24 in /usr/local/lib/python3.7/dist-packages (from imbalanced-learn) (1.0.1)\n",
            "Requirement already satisfied: threadpoolctl>=2.0.0 in /usr/local/lib/python3.7/dist-packages (from scikit-learn>=0.24->imbalanced-learn) (3.0.0)\n"
          ]
        }
      ]
    },
    {
      "cell_type": "code",
      "metadata": {
        "id": "aEejDAJei0VW"
      },
      "source": [
        "sm = SMOTE(random_state = 2)\n",
        "X_train_res, y_train_res = sm.fit_resample(x, y[\"thresholds_reached\"].ravel())"
      ],
      "id": "aEejDAJei0VW",
      "execution_count": 58,
      "outputs": []
    },
    {
      "cell_type": "code",
      "metadata": {
        "colab": {
          "base_uri": "https://localhost:8080/"
        },
        "id": "OlkXyyxyjXZL",
        "outputId": "9954b211-a690-43a4-8156-e4785e7599ed"
      },
      "source": [
        "print('After OverSampling, the shape of train_X: {}'.format(X_train_res.shape))\n",
        "print('After OverSampling, the shape of train_y: {} \\n'.format(y_train_res.shape))\n",
        "print(\"After OverSampling, counts of label '1': {}\".format(sum(y_train_res == 1)))\n",
        "print(\"After OverSampling, counts of label '0': {}\".format(sum(y_train_res == 0)))"
      ],
      "id": "OlkXyyxyjXZL",
      "execution_count": 59,
      "outputs": [
        {
          "output_type": "stream",
          "name": "stdout",
          "text": [
            "After OverSampling, the shape of train_X: (1466, 4)\n",
            "After OverSampling, the shape of train_y: (1466,) \n",
            "\n",
            "After OverSampling, counts of label '1': 733\n",
            "After OverSampling, counts of label '0': 733\n"
          ]
        }
      ]
    },
    {
      "cell_type": "code",
      "metadata": {
        "colab": {
          "base_uri": "https://localhost:8080/",
          "height": 499
        },
        "id": "AdDWxKdLj0__",
        "outputId": "256b8037-39fc-4c5b-dff6-e613d02b3a9e"
      },
      "source": [
        "acc = history.history['accuracy']\n",
        "val_acc = history.history['val_accuracy']\n",
        "\n",
        "loss = history.history['loss']\n",
        "val_loss = history.history['val_loss']\n",
        "\n",
        "epochs_range = range(epochs)\n",
        "\n",
        "plt.figure(figsize=(8, 8))\n",
        "plt.plot(epochs_range, acc, label='Training Accuracy')\n",
        "plt.plot(epochs_range, val_acc, label='Validation Accuracy')\n",
        "plt.legend(loc='lower right')\n",
        "plt.title('Training and Validation Accuracy')\n",
        "\n",
        "plt.plot(epochs_range, loss, label='Training Loss')\n",
        "plt.plot(epochs_range, val_loss, label='Validation Loss')\n",
        "plt.legend(loc='upper right')\n",
        "plt.title('Training and Validation Loss')\n",
        "plt.savefig(\"water_quality_nn.pdf\", dpi=100)\n",
        "plt.show()"
      ],
      "id": "AdDWxKdLj0__",
      "execution_count": 60,
      "outputs": [
        {
          "output_type": "display_data",
          "data": {
            "image/png": "[encoded data removed]",
            "text/plain": [
              "<Figure size 576x576 with 1 Axes>"
            ]
          },
          "metadata": {
            "needs_background": "light"
          }
        }
      ]
    },
    {
      "cell_type": "code",
      "metadata": {
        "colab": {
          "base_uri": "https://localhost:8080/",
          "height": 589
        },
        "id": "NmxNo4gIkJP4",
        "outputId": "f4d3f107-8aa4-4269-a091-a1472b4dc003"
      },
      "source": [
        "import numpy as np; np.random.seed(0)\n",
        "import seaborn as sns; sns.set_theme()\n",
        "\n",
        "corrMatrix = df.corr()\n",
        "print (corrMatrix)\n",
        "ax = sns.heatmap(corrMatrix)"
      ],
      "id": "NmxNo4gIkJP4",
      "execution_count": 61,
      "outputs": [
        {
          "output_type": "stream",
          "name": "stdout",
          "text": [
            "0                                          Alexandrium spp. \\ncells L-1\\n(PSP)  ...  thresholds_reached\n",
            "0                                                                               ...                    \n",
            "Alexandrium spp. \\ncells L-1\\n(PSP)                                   1.000000  ...            0.455902\n",
            "Dinophysiaceae \\ncells L-1\\n(DSP)                                     0.055174  ...            0.461656\n",
            "Prorocentrum lima \\ncells L-1\\n(DSP)                                 -0.008287  ...            0.140486\n",
            "Pseudo-nitzschia spp. \\ncells L-1\\n(ASP)                              0.019008  ...            0.258077\n",
            "NaN                                                                        NaN  ...                 NaN\n",
            "NaN                                                                        NaN  ...                 NaN\n",
            "thresholds_reached                                                    0.455902  ...            1.000000\n",
            "\n",
            "[7 rows x 7 columns]\n"
          ]
        },
        {
          "output_type": "display_data",
          "data": {
            "image/png": "[encoded data removed]",
            "text/plain": [
              "<Figure size 432x288 with 2 Axes>"
            ]
          },
          "metadata": {}
        }
      ]
    }
  ]
}