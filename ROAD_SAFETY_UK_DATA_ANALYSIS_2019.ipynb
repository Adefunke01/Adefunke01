{
  "cells": [
    {
      "cell_type": "markdown",
      "metadata": {
        "id": "view-in-github",
        "colab_type": "text"
      },
      "source": [
        "<a href=\"https://colab.research.google.com/github/Adefunke01/Adefunke01/blob/main/ROAD_SAFETY_UK_DATA_ANALYSIS_2019.ipynb\" target=\"_parent\"><img src=\"https://colab.research.google.com/assets/colab-badge.svg\" alt=\"Open In Colab\"/></a>"
      ]
    },
    {
      "cell_type": "markdown",
      "id": "920b81f3",
      "metadata": {
        "id": "920b81f3"
      },
      "source": [
        "# IMPORTING NECESSARY LIBRARIES"
      ]
    },
    {
      "cell_type": "code",
      "execution_count": null,
      "id": "7a252e09",
      "metadata": {
        "id": "7a252e09"
      },
      "outputs": [],
      "source": [
        "import pandas as pd\n",
        "import csv\n",
        "import numpy as np\n",
        "from pandas_profiling import ProfileReport\n",
        "import matplotlib.pyplot as plt\n",
        "import datetime as dt\n",
        "import seaborn as sns\n",
        "import calendar\n",
        "%matplotlib inline\n",
        "\n",
        "\n",
        "from sklearn.feature_selection import SelectKBest, chi2, f_regression, f_classif\n",
        "\n",
        "# suppress all warnings\n",
        "import warnings\n",
        "warnings.filterwarnings(\"ignore\")"
      ]
    },
    {
      "cell_type": "markdown",
      "id": "a9466b94",
      "metadata": {
        "id": "a9466b94"
      },
      "source": [
        "# READING & VIEWING THE DATA"
      ]
    },
    {
      "cell_type": "markdown",
      "source": [
        ""
      ],
      "metadata": {
        "id": "aYYs1sfGAVAT"
      },
      "id": "aYYs1sfGAVAT"
    },
    {
      "cell_type": "code",
      "source": [
        "from google.colab import drive\n",
        "drive.mount('/content/drive')"
      ],
      "metadata": {
        "colab": {
          "base_uri": "https://localhost:8080/"
        },
        "id": "Xj14hojeAdl6",
        "outputId": "a65858c8-e516-4ba1-8c79-364fd4941e78"
      },
      "id": "Xj14hojeAdl6",
      "execution_count": null,
      "outputs": [
        {
          "output_type": "stream",
          "name": "stdout",
          "text": [
            "Mounted at /content/drive\n"
          ]
        }
      ]
    },
    {
      "cell_type": "code",
      "source": [
        "accidentdata= pd.read_csv('/content/Road Safety Data - Accidents 2019.csv', dtype={'variable_ID': int})"
      ],
      "metadata": {
        "id": "4KMAFnWl-0jj",
        "colab": {
          "base_uri": "https://localhost:8080/",
          "height": 165
        },
        "outputId": "bac07796-3c02-48fe-be14-ade9ae810c90"
      },
      "execution_count": null,
      "outputs": [
        {
          "output_type": "error",
          "ename": "NameError",
          "evalue": "ignored",
          "traceback": [
            "\u001b[0;31m---------------------------------------------------------------------------\u001b[0m",
            "\u001b[0;31mNameError\u001b[0m                                 Traceback (most recent call last)",
            "\u001b[0;32m<ipython-input-2-0ae9c8679e7c>\u001b[0m in \u001b[0;36m<module>\u001b[0;34m()\u001b[0m\n\u001b[0;32m----> 1\u001b[0;31m \u001b[0maccidentdata\u001b[0m\u001b[0;34m=\u001b[0m \u001b[0mpd\u001b[0m\u001b[0;34m.\u001b[0m\u001b[0mread_csv\u001b[0m\u001b[0;34m(\u001b[0m\u001b[0;34m'/content/Road Safety Data - Accidents 2019.csv'\u001b[0m\u001b[0;34m,\u001b[0m \u001b[0mdtype\u001b[0m\u001b[0;34m=\u001b[0m\u001b[0;34m{\u001b[0m\u001b[0;34m'variable_ID'\u001b[0m\u001b[0;34m:\u001b[0m \u001b[0mint\u001b[0m\u001b[0;34m}\u001b[0m\u001b[0;34m)\u001b[0m\u001b[0;34m\u001b[0m\u001b[0;34m\u001b[0m\u001b[0m\n\u001b[0m",
            "\u001b[0;31mNameError\u001b[0m: name 'pd' is not defined"
          ]
        }
      ],
      "id": "4KMAFnWl-0jj"
    },
    {
      "cell_type": "code",
      "source": [
        "casualtiesdata = pd.read_csv('/content/Road Safety Data - Casualties 2019.csv',dtype={'variable_ID': int})"
      ],
      "metadata": {
        "id": "RPzWfPlM_rdH"
      },
      "execution_count": null,
      "outputs": [],
      "id": "RPzWfPlM_rdH"
    },
    {
      "cell_type": "code",
      "source": [
        "vehiclesdata= pd.read_csv('/content/Road Safety Data- Vehicles 2019.csv',dtype={'variable_ID': int})"
      ],
      "metadata": {
        "id": "hQ_C7Qot_4a-"
      },
      "execution_count": null,
      "outputs": [],
      "id": "hQ_C7Qot_4a-"
    },
    {
      "cell_type": "code",
      "source": [
        "accidentdata.head()"
      ],
      "metadata": {
        "colab": {
          "base_uri": "https://localhost:8080/",
          "height": 317
        },
        "id": "wVQ4RNxCABLG",
        "outputId": "30e098a7-6f56-49dd-b4d2-11b2de7a6511"
      },
      "execution_count": null,
      "outputs": [
        {
          "output_type": "execute_result",
          "data": {
            "text/plain": [
              "  Accident_Index  Location_Easting_OSGR  Location_Northing_OSGR  Longitude  \\\n",
              "0  2019010128300               528218.0                180407.0  -0.153842   \n",
              "1  2019010152270               530219.0                172463.0  -0.127949   \n",
              "2  2019010155191               530222.0                182543.0  -0.124193   \n",
              "3  2019010155192               525531.0                184605.0  -0.191044   \n",
              "4  2019010155194               524920.0                184004.0  -0.200064   \n",
              "\n",
              "    Latitude  Police_Force  Accident_Severity  Number_of_Vehicles  \\\n",
              "0  51.508057             1                  3                   2   \n",
              "1  51.436208             1                  3                   2   \n",
              "2  51.526795             1                  3                   2   \n",
              "3  51.546387             1                  2                   1   \n",
              "4  51.541121             1                  3                   2   \n",
              "\n",
              "   Number_of_Casualties        Date  ...  Pedestrian_Crossing-Human_Control  \\\n",
              "0                     3  18/02/2019  ...                                  0   \n",
              "1                     1  15/01/2019  ...                                 -1   \n",
              "2                     1  01/01/2019  ...                                  0   \n",
              "3                     1  01/01/2019  ...                                  0   \n",
              "4                     2  01/01/2019  ...                                  0   \n",
              "\n",
              "  Pedestrian_Crossing-Physical_Facilities  Light_Conditions  \\\n",
              "0                                       5                 1   \n",
              "1                                      -1                 4   \n",
              "2                                       0                 4   \n",
              "3                                       0                 4   \n",
              "4                                       0                 4   \n",
              "\n",
              "  Weather_Conditions  Road_Surface_Conditions  Special_Conditions_at_Site  \\\n",
              "0                  1                        1                           0   \n",
              "1                  1                        1                           0   \n",
              "2                  1                        1                           0   \n",
              "3                  1                        1                           0   \n",
              "4                  1                        1                           0   \n",
              "\n",
              "   Carriageway_Hazards  Urban_or_Rural_Area  \\\n",
              "0                    0                    1   \n",
              "1                    0                    1   \n",
              "2                    0                    1   \n",
              "3                    0                    1   \n",
              "4                    0                    1   \n",
              "\n",
              "   Did_Police_Officer_Attend_Scene_of_Accident  LSOA_of_Accident_Location  \n",
              "0                                            3                  E01004762  \n",
              "1                                            3                  E01003117  \n",
              "2                                            1                  E01000943  \n",
              "3                                            1                  E01000973  \n",
              "4                                            1                  E01000546  \n",
              "\n",
              "[5 rows x 32 columns]"
            ],
            "text/html": [
              "\n",
              "  <div id=\"df-00f494f2-e931-4e81-9147-7886694dbc79\">\n",
              "    <div class=\"colab-df-container\">\n",
              "      <div>\n",
              "<style scoped>\n",
              "    .dataframe tbody tr th:only-of-type {\n",
              "        vertical-align: middle;\n",
              "    }\n",
              "\n",
              "    .dataframe tbody tr th {\n",
              "        vertical-align: top;\n",
              "    }\n",
              "\n",
              "    .dataframe thead th {\n",
              "        text-align: right;\n",
              "    }\n",
              "</style>\n",
              "<table border=\"1\" class=\"dataframe\">\n",
              "  <thead>\n",
              "    <tr style=\"text-align: right;\">\n",
              "      <th></th>\n",
              "      <th>Accident_Index</th>\n",
              "      <th>Location_Easting_OSGR</th>\n",
              "      <th>Location_Northing_OSGR</th>\n",
              "      <th>Longitude</th>\n",
              "      <th>Latitude</th>\n",
              "      <th>Police_Force</th>\n",
              "      <th>Accident_Severity</th>\n",
              "      <th>Number_of_Vehicles</th>\n",
              "      <th>Number_of_Casualties</th>\n",
              "      <th>Date</th>\n",
              "      <th>...</th>\n",
              "      <th>Pedestrian_Crossing-Human_Control</th>\n",
              "      <th>Pedestrian_Crossing-Physical_Facilities</th>\n",
              "      <th>Light_Conditions</th>\n",
              "      <th>Weather_Conditions</th>\n",
              "      <th>Road_Surface_Conditions</th>\n",
              "      <th>Special_Conditions_at_Site</th>\n",
              "      <th>Carriageway_Hazards</th>\n",
              "      <th>Urban_or_Rural_Area</th>\n",
              "      <th>Did_Police_Officer_Attend_Scene_of_Accident</th>\n",
              "      <th>LSOA_of_Accident_Location</th>\n",
              "    </tr>\n",
              "  </thead>\n",
              "  <tbody>\n",
              "    <tr>\n",
              "      <th>0</th>\n",
              "      <td>2019010128300</td>\n",
              "      <td>528218.0</td>\n",
              "      <td>180407.0</td>\n",
              "      <td>-0.153842</td>\n",
              "      <td>51.508057</td>\n",
              "      <td>1</td>\n",
              "      <td>3</td>\n",
              "      <td>2</td>\n",
              "      <td>3</td>\n",
              "      <td>18/02/2019</td>\n",
              "      <td>...</td>\n",
              "      <td>0</td>\n",
              "      <td>5</td>\n",
              "      <td>1</td>\n",
              "      <td>1</td>\n",
              "      <td>1</td>\n",
              "      <td>0</td>\n",
              "      <td>0</td>\n",
              "      <td>1</td>\n",
              "      <td>3</td>\n",
              "      <td>E01004762</td>\n",
              "    </tr>\n",
              "    <tr>\n",
              "      <th>1</th>\n",
              "      <td>2019010152270</td>\n",
              "      <td>530219.0</td>\n",
              "      <td>172463.0</td>\n",
              "      <td>-0.127949</td>\n",
              "      <td>51.436208</td>\n",
              "      <td>1</td>\n",
              "      <td>3</td>\n",
              "      <td>2</td>\n",
              "      <td>1</td>\n",
              "      <td>15/01/2019</td>\n",
              "      <td>...</td>\n",
              "      <td>-1</td>\n",
              "      <td>-1</td>\n",
              "      <td>4</td>\n",
              "      <td>1</td>\n",
              "      <td>1</td>\n",
              "      <td>0</td>\n",
              "      <td>0</td>\n",
              "      <td>1</td>\n",
              "      <td>3</td>\n",
              "      <td>E01003117</td>\n",
              "    </tr>\n",
              "    <tr>\n",
              "      <th>2</th>\n",
              "      <td>2019010155191</td>\n",
              "      <td>530222.0</td>\n",
              "      <td>182543.0</td>\n",
              "      <td>-0.124193</td>\n",
              "      <td>51.526795</td>\n",
              "      <td>1</td>\n",
              "      <td>3</td>\n",
              "      <td>2</td>\n",
              "      <td>1</td>\n",
              "      <td>01/01/2019</td>\n",
              "      <td>...</td>\n",
              "      <td>0</td>\n",
              "      <td>0</td>\n",
              "      <td>4</td>\n",
              "      <td>1</td>\n",
              "      <td>1</td>\n",
              "      <td>0</td>\n",
              "      <td>0</td>\n",
              "      <td>1</td>\n",
              "      <td>1</td>\n",
              "      <td>E01000943</td>\n",
              "    </tr>\n",
              "    <tr>\n",
              "      <th>3</th>\n",
              "      <td>2019010155192</td>\n",
              "      <td>525531.0</td>\n",
              "      <td>184605.0</td>\n",
              "      <td>-0.191044</td>\n",
              "      <td>51.546387</td>\n",
              "      <td>1</td>\n",
              "      <td>2</td>\n",
              "      <td>1</td>\n",
              "      <td>1</td>\n",
              "      <td>01/01/2019</td>\n",
              "      <td>...</td>\n",
              "      <td>0</td>\n",
              "      <td>0</td>\n",
              "      <td>4</td>\n",
              "      <td>1</td>\n",
              "      <td>1</td>\n",
              "      <td>0</td>\n",
              "      <td>0</td>\n",
              "      <td>1</td>\n",
              "      <td>1</td>\n",
              "      <td>E01000973</td>\n",
              "    </tr>\n",
              "    <tr>\n",
              "      <th>4</th>\n",
              "      <td>2019010155194</td>\n",
              "      <td>524920.0</td>\n",
              "      <td>184004.0</td>\n",
              "      <td>-0.200064</td>\n",
              "      <td>51.541121</td>\n",
              "      <td>1</td>\n",
              "      <td>3</td>\n",
              "      <td>2</td>\n",
              "      <td>2</td>\n",
              "      <td>01/01/2019</td>\n",
              "      <td>...</td>\n",
              "      <td>0</td>\n",
              "      <td>0</td>\n",
              "      <td>4</td>\n",
              "      <td>1</td>\n",
              "      <td>1</td>\n",
              "      <td>0</td>\n",
              "      <td>0</td>\n",
              "      <td>1</td>\n",
              "      <td>1</td>\n",
              "      <td>E01000546</td>\n",
              "    </tr>\n",
              "  </tbody>\n",
              "</table>\n",
              "<p>5 rows × 32 columns</p>\n",
              "</div>\n",
              "      <button class=\"colab-df-convert\" onclick=\"convertToInteractive('df-00f494f2-e931-4e81-9147-7886694dbc79')\"\n",
              "              title=\"Convert this dataframe to an interactive table.\"\n",
              "              style=\"display:none;\">\n",
              "        \n",
              "  <svg xmlns=\"http://www.w3.org/2000/svg\" height=\"24px\"viewBox=\"0 0 24 24\"\n",
              "       width=\"24px\">\n",
              "    <path d=\"M0 0h24v24H0V0z\" fill=\"none\"/>\n",
              "    <path d=\"M18.56 5.44l.94 2.06.94-2.06 2.06-.94-2.06-.94-.94-2.06-.94 2.06-2.06.94zm-11 1L8.5 8.5l.94-2.06 2.06-.94-2.06-.94L8.5 2.5l-.94 2.06-2.06.94zm10 10l.94 2.06.94-2.06 2.06-.94-2.06-.94-.94-2.06-.94 2.06-2.06.94z\"/><path d=\"M17.41 7.96l-1.37-1.37c-.4-.4-.92-.59-1.43-.59-.52 0-1.04.2-1.43.59L10.3 9.45l-7.72 7.72c-.78.78-.78 2.05 0 2.83L4 21.41c.39.39.9.59 1.41.59.51 0 1.02-.2 1.41-.59l7.78-7.78 2.81-2.81c.8-.78.8-2.07 0-2.86zM5.41 20L4 18.59l7.72-7.72 1.47 1.35L5.41 20z\"/>\n",
              "  </svg>\n",
              "      </button>\n",
              "      \n",
              "  <style>\n",
              "    .colab-df-container {\n",
              "      display:flex;\n",
              "      flex-wrap:wrap;\n",
              "      gap: 12px;\n",
              "    }\n",
              "\n",
              "    .colab-df-convert {\n",
              "      background-color: #E8F0FE;\n",
              "      border: none;\n",
              "      border-radius: 50%;\n",
              "      cursor: pointer;\n",
              "      display: none;\n",
              "      fill: #1967D2;\n",
              "      height: 32px;\n",
              "      padding: 0 0 0 0;\n",
              "      width: 32px;\n",
              "    }\n",
              "\n",
              "    .colab-df-convert:hover {\n",
              "      background-color: #E2EBFA;\n",
              "      box-shadow: 0px 1px 2px rgba(60, 64, 67, 0.3), 0px 1px 3px 1px rgba(60, 64, 67, 0.15);\n",
              "      fill: #174EA6;\n",
              "    }\n",
              "\n",
              "    [theme=dark] .colab-df-convert {\n",
              "      background-color: #3B4455;\n",
              "      fill: #D2E3FC;\n",
              "    }\n",
              "\n",
              "    [theme=dark] .colab-df-convert:hover {\n",
              "      background-color: #434B5C;\n",
              "      box-shadow: 0px 1px 3px 1px rgba(0, 0, 0, 0.15);\n",
              "      filter: drop-shadow(0px 1px 2px rgba(0, 0, 0, 0.3));\n",
              "      fill: #FFFFFF;\n",
              "    }\n",
              "  </style>\n",
              "\n",
              "      <script>\n",
              "        const buttonEl =\n",
              "          document.querySelector('#df-00f494f2-e931-4e81-9147-7886694dbc79 button.colab-df-convert');\n",
              "        buttonEl.style.display =\n",
              "          google.colab.kernel.accessAllowed ? 'block' : 'none';\n",
              "\n",
              "        async function convertToInteractive(key) {\n",
              "          const element = document.querySelector('#df-00f494f2-e931-4e81-9147-7886694dbc79');\n",
              "          const dataTable =\n",
              "            await google.colab.kernel.invokeFunction('convertToInteractive',\n",
              "                                                     [key], {});\n",
              "          if (!dataTable) return;\n",
              "\n",
              "          const docLinkHtml = 'Like what you see? Visit the ' +\n",
              "            '<a target=\"_blank\" href=https://colab.research.google.com/notebooks/data_table.ipynb>data table notebook</a>'\n",
              "            + ' to learn more about interactive tables.';\n",
              "          element.innerHTML = '';\n",
              "          dataTable['output_type'] = 'display_data';\n",
              "          await google.colab.output.renderOutput(dataTable, element);\n",
              "          const docLink = document.createElement('div');\n",
              "          docLink.innerHTML = docLinkHtml;\n",
              "          element.appendChild(docLink);\n",
              "        }\n",
              "      </script>\n",
              "    </div>\n",
              "  </div>\n",
              "  "
            ]
          },
          "metadata": {},
          "execution_count": 188
        }
      ],
      "id": "wVQ4RNxCABLG"
    },
    {
      "cell_type": "code",
      "source": [
        "casualtiesdata.head()"
      ],
      "metadata": {
        "colab": {
          "base_uri": "https://localhost:8080/",
          "height": 270
        },
        "id": "dlDzD4QyAPPH",
        "outputId": "524be13f-9e95-42b6-f82c-8178f9811959"
      },
      "execution_count": null,
      "outputs": [
        {
          "output_type": "execute_result",
          "data": {
            "text/plain": [
              "  Accident_Index  Vehicle_Reference  Casualty_Reference  Casualty_Class  \\\n",
              "0  2019010128300                  1                   1               1   \n",
              "1  2019010128300                  1                   2               2   \n",
              "2  2019010128300                  1                   3               2   \n",
              "3  2019010152270                  1                   1               1   \n",
              "4  2019010155191                  2                   1               2   \n",
              "\n",
              "   Sex_of_Casualty  Age_of_Casualty  Age_Band_of_Casualty  Casualty_Severity  \\\n",
              "0                1               58                     9                  3   \n",
              "1                2               -1                    -1                  3   \n",
              "2                2               -1                    -1                  3   \n",
              "3                2               24                     5                  3   \n",
              "4                2               21                     5                  3   \n",
              "\n",
              "   Pedestrian_Location  Pedestrian_Movement  Car_Passenger  \\\n",
              "0                    0                    0              0   \n",
              "1                    0                    0              1   \n",
              "2                    0                    0              2   \n",
              "3                    0                    0              0   \n",
              "4                    0                    0              0   \n",
              "\n",
              "   Bus_or_Coach_Passenger  Pedestrian_Road_Maintenance_Worker  Casualty_Type  \\\n",
              "0                       0                                   0              9   \n",
              "1                       0                                   0              9   \n",
              "2                       0                                   0              9   \n",
              "3                       0                                   0              9   \n",
              "4                       0                                   0              1   \n",
              "\n",
              "   Casualty_Home_Area_Type  Casualty_IMD_Decile  \n",
              "0                        1                    2  \n",
              "1                        1                    5  \n",
              "2                        1                    5  \n",
              "3                        1                    3  \n",
              "4                        1                    1  "
            ],
            "text/html": [
              "\n",
              "  <div id=\"df-469ada81-aa00-43ae-8dc5-add000b3f16b\">\n",
              "    <div class=\"colab-df-container\">\n",
              "      <div>\n",
              "<style scoped>\n",
              "    .dataframe tbody tr th:only-of-type {\n",
              "        vertical-align: middle;\n",
              "    }\n",
              "\n",
              "    .dataframe tbody tr th {\n",
              "        vertical-align: top;\n",
              "    }\n",
              "\n",
              "    .dataframe thead th {\n",
              "        text-align: right;\n",
              "    }\n",
              "</style>\n",
              "<table border=\"1\" class=\"dataframe\">\n",
              "  <thead>\n",
              "    <tr style=\"text-align: right;\">\n",
              "      <th></th>\n",
              "      <th>Accident_Index</th>\n",
              "      <th>Vehicle_Reference</th>\n",
              "      <th>Casualty_Reference</th>\n",
              "      <th>Casualty_Class</th>\n",
              "      <th>Sex_of_Casualty</th>\n",
              "      <th>Age_of_Casualty</th>\n",
              "      <th>Age_Band_of_Casualty</th>\n",
              "      <th>Casualty_Severity</th>\n",
              "      <th>Pedestrian_Location</th>\n",
              "      <th>Pedestrian_Movement</th>\n",
              "      <th>Car_Passenger</th>\n",
              "      <th>Bus_or_Coach_Passenger</th>\n",
              "      <th>Pedestrian_Road_Maintenance_Worker</th>\n",
              "      <th>Casualty_Type</th>\n",
              "      <th>Casualty_Home_Area_Type</th>\n",
              "      <th>Casualty_IMD_Decile</th>\n",
              "    </tr>\n",
              "  </thead>\n",
              "  <tbody>\n",
              "    <tr>\n",
              "      <th>0</th>\n",
              "      <td>2019010128300</td>\n",
              "      <td>1</td>\n",
              "      <td>1</td>\n",
              "      <td>1</td>\n",
              "      <td>1</td>\n",
              "      <td>58</td>\n",
              "      <td>9</td>\n",
              "      <td>3</td>\n",
              "      <td>0</td>\n",
              "      <td>0</td>\n",
              "      <td>0</td>\n",
              "      <td>0</td>\n",
              "      <td>0</td>\n",
              "      <td>9</td>\n",
              "      <td>1</td>\n",
              "      <td>2</td>\n",
              "    </tr>\n",
              "    <tr>\n",
              "      <th>1</th>\n",
              "      <td>2019010128300</td>\n",
              "      <td>1</td>\n",
              "      <td>2</td>\n",
              "      <td>2</td>\n",
              "      <td>2</td>\n",
              "      <td>-1</td>\n",
              "      <td>-1</td>\n",
              "      <td>3</td>\n",
              "      <td>0</td>\n",
              "      <td>0</td>\n",
              "      <td>1</td>\n",
              "      <td>0</td>\n",
              "      <td>0</td>\n",
              "      <td>9</td>\n",
              "      <td>1</td>\n",
              "      <td>5</td>\n",
              "    </tr>\n",
              "    <tr>\n",
              "      <th>2</th>\n",
              "      <td>2019010128300</td>\n",
              "      <td>1</td>\n",
              "      <td>3</td>\n",
              "      <td>2</td>\n",
              "      <td>2</td>\n",
              "      <td>-1</td>\n",
              "      <td>-1</td>\n",
              "      <td>3</td>\n",
              "      <td>0</td>\n",
              "      <td>0</td>\n",
              "      <td>2</td>\n",
              "      <td>0</td>\n",
              "      <td>0</td>\n",
              "      <td>9</td>\n",
              "      <td>1</td>\n",
              "      <td>5</td>\n",
              "    </tr>\n",
              "    <tr>\n",
              "      <th>3</th>\n",
              "      <td>2019010152270</td>\n",
              "      <td>1</td>\n",
              "      <td>1</td>\n",
              "      <td>1</td>\n",
              "      <td>2</td>\n",
              "      <td>24</td>\n",
              "      <td>5</td>\n",
              "      <td>3</td>\n",
              "      <td>0</td>\n",
              "      <td>0</td>\n",
              "      <td>0</td>\n",
              "      <td>0</td>\n",
              "      <td>0</td>\n",
              "      <td>9</td>\n",
              "      <td>1</td>\n",
              "      <td>3</td>\n",
              "    </tr>\n",
              "    <tr>\n",
              "      <th>4</th>\n",
              "      <td>2019010155191</td>\n",
              "      <td>2</td>\n",
              "      <td>1</td>\n",
              "      <td>2</td>\n",
              "      <td>2</td>\n",
              "      <td>21</td>\n",
              "      <td>5</td>\n",
              "      <td>3</td>\n",
              "      <td>0</td>\n",
              "      <td>0</td>\n",
              "      <td>0</td>\n",
              "      <td>0</td>\n",
              "      <td>0</td>\n",
              "      <td>1</td>\n",
              "      <td>1</td>\n",
              "      <td>1</td>\n",
              "    </tr>\n",
              "  </tbody>\n",
              "</table>\n",
              "</div>\n",
              "      <button class=\"colab-df-convert\" onclick=\"convertToInteractive('df-469ada81-aa00-43ae-8dc5-add000b3f16b')\"\n",
              "              title=\"Convert this dataframe to an interactive table.\"\n",
              "              style=\"display:none;\">\n",
              "        \n",
              "  <svg xmlns=\"http://www.w3.org/2000/svg\" height=\"24px\"viewBox=\"0 0 24 24\"\n",
              "       width=\"24px\">\n",
              "    <path d=\"M0 0h24v24H0V0z\" fill=\"none\"/>\n",
              "    <path d=\"M18.56 5.44l.94 2.06.94-2.06 2.06-.94-2.06-.94-.94-2.06-.94 2.06-2.06.94zm-11 1L8.5 8.5l.94-2.06 2.06-.94-2.06-.94L8.5 2.5l-.94 2.06-2.06.94zm10 10l.94 2.06.94-2.06 2.06-.94-2.06-.94-.94-2.06-.94 2.06-2.06.94z\"/><path d=\"M17.41 7.96l-1.37-1.37c-.4-.4-.92-.59-1.43-.59-.52 0-1.04.2-1.43.59L10.3 9.45l-7.72 7.72c-.78.78-.78 2.05 0 2.83L4 21.41c.39.39.9.59 1.41.59.51 0 1.02-.2 1.41-.59l7.78-7.78 2.81-2.81c.8-.78.8-2.07 0-2.86zM5.41 20L4 18.59l7.72-7.72 1.47 1.35L5.41 20z\"/>\n",
              "  </svg>\n",
              "      </button>\n",
              "      \n",
              "  <style>\n",
              "    .colab-df-container {\n",
              "      display:flex;\n",
              "      flex-wrap:wrap;\n",
              "      gap: 12px;\n",
              "    }\n",
              "\n",
              "    .colab-df-convert {\n",
              "      background-color: #E8F0FE;\n",
              "      border: none;\n",
              "      border-radius: 50%;\n",
              "      cursor: pointer;\n",
              "      display: none;\n",
              "      fill: #1967D2;\n",
              "      height: 32px;\n",
              "      padding: 0 0 0 0;\n",
              "      width: 32px;\n",
              "    }\n",
              "\n",
              "    .colab-df-convert:hover {\n",
              "      background-color: #E2EBFA;\n",
              "      box-shadow: 0px 1px 2px rgba(60, 64, 67, 0.3), 0px 1px 3px 1px rgba(60, 64, 67, 0.15);\n",
              "      fill: #174EA6;\n",
              "    }\n",
              "\n",
              "    [theme=dark] .colab-df-convert {\n",
              "      background-color: #3B4455;\n",
              "      fill: #D2E3FC;\n",
              "    }\n",
              "\n",
              "    [theme=dark] .colab-df-convert:hover {\n",
              "      background-color: #434B5C;\n",
              "      box-shadow: 0px 1px 3px 1px rgba(0, 0, 0, 0.15);\n",
              "      filter: drop-shadow(0px 1px 2px rgba(0, 0, 0, 0.3));\n",
              "      fill: #FFFFFF;\n",
              "    }\n",
              "  </style>\n",
              "\n",
              "      <script>\n",
              "        const buttonEl =\n",
              "          document.querySelector('#df-469ada81-aa00-43ae-8dc5-add000b3f16b button.colab-df-convert');\n",
              "        buttonEl.style.display =\n",
              "          google.colab.kernel.accessAllowed ? 'block' : 'none';\n",
              "\n",
              "        async function convertToInteractive(key) {\n",
              "          const element = document.querySelector('#df-469ada81-aa00-43ae-8dc5-add000b3f16b');\n",
              "          const dataTable =\n",
              "            await google.colab.kernel.invokeFunction('convertToInteractive',\n",
              "                                                     [key], {});\n",
              "          if (!dataTable) return;\n",
              "\n",
              "          const docLinkHtml = 'Like what you see? Visit the ' +\n",
              "            '<a target=\"_blank\" href=https://colab.research.google.com/notebooks/data_table.ipynb>data table notebook</a>'\n",
              "            + ' to learn more about interactive tables.';\n",
              "          element.innerHTML = '';\n",
              "          dataTable['output_type'] = 'display_data';\n",
              "          await google.colab.output.renderOutput(dataTable, element);\n",
              "          const docLink = document.createElement('div');\n",
              "          docLink.innerHTML = docLinkHtml;\n",
              "          element.appendChild(docLink);\n",
              "        }\n",
              "      </script>\n",
              "    </div>\n",
              "  </div>\n",
              "  "
            ]
          },
          "metadata": {},
          "execution_count": 189
        }
      ],
      "id": "dlDzD4QyAPPH"
    },
    {
      "cell_type": "code",
      "source": [
        "vehiclesdata.head()"
      ],
      "metadata": {
        "colab": {
          "base_uri": "https://localhost:8080/",
          "height": 317
        },
        "id": "fnGexLNJAVue",
        "outputId": "09259d52-4944-4846-d720-c2965eaa3833"
      },
      "execution_count": null,
      "outputs": [
        {
          "output_type": "execute_result",
          "data": {
            "text/plain": [
              "  Accident_Index  Vehicle_Reference  Vehicle_Type  Towing_and_Articulation  \\\n",
              "0  2019010128300                  1             9                        0   \n",
              "1  2019010128300                  2             9                        0   \n",
              "2  2019010152270                  1             9                        0   \n",
              "3  2019010152270                  2             9                        0   \n",
              "4  2019010155191                  1             9                        0   \n",
              "\n",
              "   Vehicle_Manoeuvre  Vehicle_Location-Restricted_Lane  Junction_Location  \\\n",
              "0                 -1                                -1                 -1   \n",
              "1                 -1                                -1                 -1   \n",
              "2                 18                                -1                  0   \n",
              "3                 18                                -1                  0   \n",
              "4                  3                                 0                  1   \n",
              "\n",
              "   Skidding_and_Overturning  Hit_Object_in_Carriageway  \\\n",
              "0                        -1                         -1   \n",
              "1                        -1                         -1   \n",
              "2                        -1                         -1   \n",
              "3                        -1                         -1   \n",
              "4                         0                          0   \n",
              "\n",
              "   Vehicle_Leaving_Carriageway  ...  Journey_Purpose_of_Driver  Sex_of_Driver  \\\n",
              "0                           -1  ...                          6              1   \n",
              "1                           -1  ...                          6              3   \n",
              "2                           -1  ...                          6              2   \n",
              "3                           -1  ...                          6              3   \n",
              "4                            0  ...                          6              1   \n",
              "\n",
              "   Age_of_Driver  Age_Band_of_Driver  Engine_Capacity_(CC)  Propulsion_Code  \\\n",
              "0             58                   9                    -1               -1   \n",
              "1             -1                  -1                    -1               -1   \n",
              "2             24                   5                    -1               -1   \n",
              "3             -1                  -1                    -1               -1   \n",
              "4             45                   7                    -1               -1   \n",
              "\n",
              "   Age_of_Vehicle  Driver_IMD_Decile  Driver_Home_Area_Type  \\\n",
              "0              -1                  2                      1   \n",
              "1              -1                  2                      1   \n",
              "2              -1                  3                      1   \n",
              "3              -1                  6                      1   \n",
              "4              -1                  4                      1   \n",
              "\n",
              "   Vehicle_IMD_Decile  \n",
              "0                   2  \n",
              "1                   2  \n",
              "2                   3  \n",
              "3                   6  \n",
              "4                   4  \n",
              "\n",
              "[5 rows x 23 columns]"
            ],
            "text/html": [
              "\n",
              "  <div id=\"df-96e66893-082d-40f2-9aec-e10788cb4683\">\n",
              "    <div class=\"colab-df-container\">\n",
              "      <div>\n",
              "<style scoped>\n",
              "    .dataframe tbody tr th:only-of-type {\n",
              "        vertical-align: middle;\n",
              "    }\n",
              "\n",
              "    .dataframe tbody tr th {\n",
              "        vertical-align: top;\n",
              "    }\n",
              "\n",
              "    .dataframe thead th {\n",
              "        text-align: right;\n",
              "    }\n",
              "</style>\n",
              "<table border=\"1\" class=\"dataframe\">\n",
              "  <thead>\n",
              "    <tr style=\"text-align: right;\">\n",
              "      <th></th>\n",
              "      <th>Accident_Index</th>\n",
              "      <th>Vehicle_Reference</th>\n",
              "      <th>Vehicle_Type</th>\n",
              "      <th>Towing_and_Articulation</th>\n",
              "      <th>Vehicle_Manoeuvre</th>\n",
              "      <th>Vehicle_Location-Restricted_Lane</th>\n",
              "      <th>Junction_Location</th>\n",
              "      <th>Skidding_and_Overturning</th>\n",
              "      <th>Hit_Object_in_Carriageway</th>\n",
              "      <th>Vehicle_Leaving_Carriageway</th>\n",
              "      <th>...</th>\n",
              "      <th>Journey_Purpose_of_Driver</th>\n",
              "      <th>Sex_of_Driver</th>\n",
              "      <th>Age_of_Driver</th>\n",
              "      <th>Age_Band_of_Driver</th>\n",
              "      <th>Engine_Capacity_(CC)</th>\n",
              "      <th>Propulsion_Code</th>\n",
              "      <th>Age_of_Vehicle</th>\n",
              "      <th>Driver_IMD_Decile</th>\n",
              "      <th>Driver_Home_Area_Type</th>\n",
              "      <th>Vehicle_IMD_Decile</th>\n",
              "    </tr>\n",
              "  </thead>\n",
              "  <tbody>\n",
              "    <tr>\n",
              "      <th>0</th>\n",
              "      <td>2019010128300</td>\n",
              "      <td>1</td>\n",
              "      <td>9</td>\n",
              "      <td>0</td>\n",
              "      <td>-1</td>\n",
              "      <td>-1</td>\n",
              "      <td>-1</td>\n",
              "      <td>-1</td>\n",
              "      <td>-1</td>\n",
              "      <td>-1</td>\n",
              "      <td>...</td>\n",
              "      <td>6</td>\n",
              "      <td>1</td>\n",
              "      <td>58</td>\n",
              "      <td>9</td>\n",
              "      <td>-1</td>\n",
              "      <td>-1</td>\n",
              "      <td>-1</td>\n",
              "      <td>2</td>\n",
              "      <td>1</td>\n",
              "      <td>2</td>\n",
              "    </tr>\n",
              "    <tr>\n",
              "      <th>1</th>\n",
              "      <td>2019010128300</td>\n",
              "      <td>2</td>\n",
              "      <td>9</td>\n",
              "      <td>0</td>\n",
              "      <td>-1</td>\n",
              "      <td>-1</td>\n",
              "      <td>-1</td>\n",
              "      <td>-1</td>\n",
              "      <td>-1</td>\n",
              "      <td>-1</td>\n",
              "      <td>...</td>\n",
              "      <td>6</td>\n",
              "      <td>3</td>\n",
              "      <td>-1</td>\n",
              "      <td>-1</td>\n",
              "      <td>-1</td>\n",
              "      <td>-1</td>\n",
              "      <td>-1</td>\n",
              "      <td>2</td>\n",
              "      <td>1</td>\n",
              "      <td>2</td>\n",
              "    </tr>\n",
              "    <tr>\n",
              "      <th>2</th>\n",
              "      <td>2019010152270</td>\n",
              "      <td>1</td>\n",
              "      <td>9</td>\n",
              "      <td>0</td>\n",
              "      <td>18</td>\n",
              "      <td>-1</td>\n",
              "      <td>0</td>\n",
              "      <td>-1</td>\n",
              "      <td>-1</td>\n",
              "      <td>-1</td>\n",
              "      <td>...</td>\n",
              "      <td>6</td>\n",
              "      <td>2</td>\n",
              "      <td>24</td>\n",
              "      <td>5</td>\n",
              "      <td>-1</td>\n",
              "      <td>-1</td>\n",
              "      <td>-1</td>\n",
              "      <td>3</td>\n",
              "      <td>1</td>\n",
              "      <td>3</td>\n",
              "    </tr>\n",
              "    <tr>\n",
              "      <th>3</th>\n",
              "      <td>2019010152270</td>\n",
              "      <td>2</td>\n",
              "      <td>9</td>\n",
              "      <td>0</td>\n",
              "      <td>18</td>\n",
              "      <td>-1</td>\n",
              "      <td>0</td>\n",
              "      <td>-1</td>\n",
              "      <td>-1</td>\n",
              "      <td>-1</td>\n",
              "      <td>...</td>\n",
              "      <td>6</td>\n",
              "      <td>3</td>\n",
              "      <td>-1</td>\n",
              "      <td>-1</td>\n",
              "      <td>-1</td>\n",
              "      <td>-1</td>\n",
              "      <td>-1</td>\n",
              "      <td>6</td>\n",
              "      <td>1</td>\n",
              "      <td>6</td>\n",
              "    </tr>\n",
              "    <tr>\n",
              "      <th>4</th>\n",
              "      <td>2019010155191</td>\n",
              "      <td>1</td>\n",
              "      <td>9</td>\n",
              "      <td>0</td>\n",
              "      <td>3</td>\n",
              "      <td>0</td>\n",
              "      <td>1</td>\n",
              "      <td>0</td>\n",
              "      <td>0</td>\n",
              "      <td>0</td>\n",
              "      <td>...</td>\n",
              "      <td>6</td>\n",
              "      <td>1</td>\n",
              "      <td>45</td>\n",
              "      <td>7</td>\n",
              "      <td>-1</td>\n",
              "      <td>-1</td>\n",
              "      <td>-1</td>\n",
              "      <td>4</td>\n",
              "      <td>1</td>\n",
              "      <td>4</td>\n",
              "    </tr>\n",
              "  </tbody>\n",
              "</table>\n",
              "<p>5 rows × 23 columns</p>\n",
              "</div>\n",
              "      <button class=\"colab-df-convert\" onclick=\"convertToInteractive('df-96e66893-082d-40f2-9aec-e10788cb4683')\"\n",
              "              title=\"Convert this dataframe to an interactive table.\"\n",
              "              style=\"display:none;\">\n",
              "        \n",
              "  <svg xmlns=\"http://www.w3.org/2000/svg\" height=\"24px\"viewBox=\"0 0 24 24\"\n",
              "       width=\"24px\">\n",
              "    <path d=\"M0 0h24v24H0V0z\" fill=\"none\"/>\n",
              "    <path d=\"M18.56 5.44l.94 2.06.94-2.06 2.06-.94-2.06-.94-.94-2.06-.94 2.06-2.06.94zm-11 1L8.5 8.5l.94-2.06 2.06-.94-2.06-.94L8.5 2.5l-.94 2.06-2.06.94zm10 10l.94 2.06.94-2.06 2.06-.94-2.06-.94-.94-2.06-.94 2.06-2.06.94z\"/><path d=\"M17.41 7.96l-1.37-1.37c-.4-.4-.92-.59-1.43-.59-.52 0-1.04.2-1.43.59L10.3 9.45l-7.72 7.72c-.78.78-.78 2.05 0 2.83L4 21.41c.39.39.9.59 1.41.59.51 0 1.02-.2 1.41-.59l7.78-7.78 2.81-2.81c.8-.78.8-2.07 0-2.86zM5.41 20L4 18.59l7.72-7.72 1.47 1.35L5.41 20z\"/>\n",
              "  </svg>\n",
              "      </button>\n",
              "      \n",
              "  <style>\n",
              "    .colab-df-container {\n",
              "      display:flex;\n",
              "      flex-wrap:wrap;\n",
              "      gap: 12px;\n",
              "    }\n",
              "\n",
              "    .colab-df-convert {\n",
              "      background-color: #E8F0FE;\n",
              "      border: none;\n",
              "      border-radius: 50%;\n",
              "      cursor: pointer;\n",
              "      display: none;\n",
              "      fill: #1967D2;\n",
              "      height: 32px;\n",
              "      padding: 0 0 0 0;\n",
              "      width: 32px;\n",
              "    }\n",
              "\n",
              "    .colab-df-convert:hover {\n",
              "      background-color: #E2EBFA;\n",
              "      box-shadow: 0px 1px 2px rgba(60, 64, 67, 0.3), 0px 1px 3px 1px rgba(60, 64, 67, 0.15);\n",
              "      fill: #174EA6;\n",
              "    }\n",
              "\n",
              "    [theme=dark] .colab-df-convert {\n",
              "      background-color: #3B4455;\n",
              "      fill: #D2E3FC;\n",
              "    }\n",
              "\n",
              "    [theme=dark] .colab-df-convert:hover {\n",
              "      background-color: #434B5C;\n",
              "      box-shadow: 0px 1px 3px 1px rgba(0, 0, 0, 0.15);\n",
              "      filter: drop-shadow(0px 1px 2px rgba(0, 0, 0, 0.3));\n",
              "      fill: #FFFFFF;\n",
              "    }\n",
              "  </style>\n",
              "\n",
              "      <script>\n",
              "        const buttonEl =\n",
              "          document.querySelector('#df-96e66893-082d-40f2-9aec-e10788cb4683 button.colab-df-convert');\n",
              "        buttonEl.style.display =\n",
              "          google.colab.kernel.accessAllowed ? 'block' : 'none';\n",
              "\n",
              "        async function convertToInteractive(key) {\n",
              "          const element = document.querySelector('#df-96e66893-082d-40f2-9aec-e10788cb4683');\n",
              "          const dataTable =\n",
              "            await google.colab.kernel.invokeFunction('convertToInteractive',\n",
              "                                                     [key], {});\n",
              "          if (!dataTable) return;\n",
              "\n",
              "          const docLinkHtml = 'Like what you see? Visit the ' +\n",
              "            '<a target=\"_blank\" href=https://colab.research.google.com/notebooks/data_table.ipynb>data table notebook</a>'\n",
              "            + ' to learn more about interactive tables.';\n",
              "          element.innerHTML = '';\n",
              "          dataTable['output_type'] = 'display_data';\n",
              "          await google.colab.output.renderOutput(dataTable, element);\n",
              "          const docLink = document.createElement('div');\n",
              "          docLink.innerHTML = docLinkHtml;\n",
              "          element.appendChild(docLink);\n",
              "        }\n",
              "      </script>\n",
              "    </div>\n",
              "  </div>\n",
              "  "
            ]
          },
          "metadata": {},
          "execution_count": 190
        }
      ],
      "id": "fnGexLNJAVue"
    },
    {
      "cell_type": "markdown",
      "source": [
        "# CHECKING FOR MISSING VALUES"
      ],
      "metadata": {
        "id": "oywY1eoN5-Dk"
      },
      "id": "oywY1eoN5-Dk"
    },
    {
      "cell_type": "code",
      "source": [
        "accidentdata.isnull().sum()"
      ],
      "metadata": {
        "colab": {
          "base_uri": "https://localhost:8080/"
        },
        "id": "9gAFjtxAKkEz",
        "outputId": "e187e70c-f869-49bd-bcc3-ab473458526c"
      },
      "execution_count": null,
      "outputs": [
        {
          "output_type": "execute_result",
          "data": {
            "text/plain": [
              "Accident_Index                                    0\n",
              "Location_Easting_OSGR                            28\n",
              "Location_Northing_OSGR                           28\n",
              "Longitude                                        28\n",
              "Latitude                                         28\n",
              "Police_Force                                      0\n",
              "Accident_Severity                                 0\n",
              "Number_of_Vehicles                                0\n",
              "Number_of_Casualties                              0\n",
              "Date                                              0\n",
              "Day_of_Week                                       0\n",
              "Time                                             63\n",
              "Local_Authority_(District)                        0\n",
              "Local_Authority_(Highway)                         0\n",
              "1st_Road_Class                                    0\n",
              "1st_Road_Number                                   0\n",
              "Road_Type                                         0\n",
              "Speed_limit                                       0\n",
              "Junction_Detail                                   0\n",
              "Junction_Control                                  0\n",
              "2nd_Road_Class                                    0\n",
              "2nd_Road_Number                                   0\n",
              "Pedestrian_Crossing-Human_Control                 0\n",
              "Pedestrian_Crossing-Physical_Facilities           0\n",
              "Light_Conditions                                  0\n",
              "Weather_Conditions                                0\n",
              "Road_Surface_Conditions                           0\n",
              "Special_Conditions_at_Site                        0\n",
              "Carriageway_Hazards                               0\n",
              "Urban_or_Rural_Area                               0\n",
              "Did_Police_Officer_Attend_Scene_of_Accident       0\n",
              "LSOA_of_Accident_Location                      5714\n",
              "dtype: int64"
            ]
          },
          "metadata": {},
          "execution_count": 191
        }
      ],
      "id": "9gAFjtxAKkEz"
    },
    {
      "cell_type": "code",
      "source": [
        "casualtiesdata.isnull().sum()"
      ],
      "metadata": {
        "colab": {
          "base_uri": "https://localhost:8080/"
        },
        "id": "oa_89in4Kq5q",
        "outputId": "71cf687b-7170-4a12-ee3c-f7deac0b30dc"
      },
      "execution_count": null,
      "outputs": [
        {
          "output_type": "execute_result",
          "data": {
            "text/plain": [
              "Accident_Index                        0\n",
              "Vehicle_Reference                     0\n",
              "Casualty_Reference                    0\n",
              "Casualty_Class                        0\n",
              "Sex_of_Casualty                       0\n",
              "Age_of_Casualty                       0\n",
              "Age_Band_of_Casualty                  0\n",
              "Casualty_Severity                     0\n",
              "Pedestrian_Location                   0\n",
              "Pedestrian_Movement                   0\n",
              "Car_Passenger                         0\n",
              "Bus_or_Coach_Passenger                0\n",
              "Pedestrian_Road_Maintenance_Worker    0\n",
              "Casualty_Type                         0\n",
              "Casualty_Home_Area_Type               0\n",
              "Casualty_IMD_Decile                   0\n",
              "dtype: int64"
            ]
          },
          "metadata": {},
          "execution_count": 192
        }
      ],
      "id": "oa_89in4Kq5q"
    },
    {
      "cell_type": "code",
      "source": [
        "vehiclesdata.isnull().sum()"
      ],
      "metadata": {
        "colab": {
          "base_uri": "https://localhost:8080/"
        },
        "id": "cGTeIcxqKx1i",
        "outputId": "19779be7-2ed1-49b5-f542-a8060f0e06d8"
      },
      "execution_count": null,
      "outputs": [
        {
          "output_type": "execute_result",
          "data": {
            "text/plain": [
              "Accident_Index                      0\n",
              "Vehicle_Reference                   0\n",
              "Vehicle_Type                        0\n",
              "Towing_and_Articulation             0\n",
              "Vehicle_Manoeuvre                   0\n",
              "Vehicle_Location-Restricted_Lane    0\n",
              "Junction_Location                   0\n",
              "Skidding_and_Overturning            0\n",
              "Hit_Object_in_Carriageway           0\n",
              "Vehicle_Leaving_Carriageway         0\n",
              "Hit_Object_off_Carriageway          0\n",
              "1st_Point_of_Impact                 0\n",
              "Was_Vehicle_Left_Hand_Drive?        0\n",
              "Journey_Purpose_of_Driver           0\n",
              "Sex_of_Driver                       0\n",
              "Age_of_Driver                       0\n",
              "Age_Band_of_Driver                  0\n",
              "Engine_Capacity_(CC)                0\n",
              "Propulsion_Code                     0\n",
              "Age_of_Vehicle                      0\n",
              "Driver_IMD_Decile                   0\n",
              "Driver_Home_Area_Type               0\n",
              "Vehicle_IMD_Decile                  0\n",
              "dtype: int64"
            ]
          },
          "metadata": {},
          "execution_count": 193
        }
      ],
      "id": "cGTeIcxqKx1i"
    },
    {
      "cell_type": "markdown",
      "source": [
        "#CHECKING DATA TYPES"
      ],
      "metadata": {
        "id": "zBHHXSxH6D68"
      },
      "id": "zBHHXSxH6D68"
    },
    {
      "cell_type": "code",
      "source": [
        "accidentdata.dtypes"
      ],
      "metadata": {
        "colab": {
          "base_uri": "https://localhost:8080/"
        },
        "id": "IrzbgAieMycx",
        "outputId": "0dc827d5-0a5d-4d7e-a542-55ae9584322d"
      },
      "execution_count": null,
      "outputs": [
        {
          "output_type": "execute_result",
          "data": {
            "text/plain": [
              "Accident_Index                                  object\n",
              "Location_Easting_OSGR                          float64\n",
              "Location_Northing_OSGR                         float64\n",
              "Longitude                                      float64\n",
              "Latitude                                       float64\n",
              "Police_Force                                     int64\n",
              "Accident_Severity                                int64\n",
              "Number_of_Vehicles                               int64\n",
              "Number_of_Casualties                             int64\n",
              "Date                                            object\n",
              "Day_of_Week                                      int64\n",
              "Time                                            object\n",
              "Local_Authority_(District)                       int64\n",
              "Local_Authority_(Highway)                       object\n",
              "1st_Road_Class                                   int64\n",
              "1st_Road_Number                                  int64\n",
              "Road_Type                                        int64\n",
              "Speed_limit                                      int64\n",
              "Junction_Detail                                  int64\n",
              "Junction_Control                                 int64\n",
              "2nd_Road_Class                                   int64\n",
              "2nd_Road_Number                                  int64\n",
              "Pedestrian_Crossing-Human_Control                int64\n",
              "Pedestrian_Crossing-Physical_Facilities          int64\n",
              "Light_Conditions                                 int64\n",
              "Weather_Conditions                               int64\n",
              "Road_Surface_Conditions                          int64\n",
              "Special_Conditions_at_Site                       int64\n",
              "Carriageway_Hazards                              int64\n",
              "Urban_or_Rural_Area                              int64\n",
              "Did_Police_Officer_Attend_Scene_of_Accident      int64\n",
              "LSOA_of_Accident_Location                       object\n",
              "dtype: object"
            ]
          },
          "metadata": {},
          "execution_count": 194
        }
      ],
      "id": "IrzbgAieMycx"
    },
    {
      "cell_type": "code",
      "source": [
        "casualtiesdata.dtypes"
      ],
      "metadata": {
        "colab": {
          "base_uri": "https://localhost:8080/"
        },
        "id": "5fW3vlZkNbPm",
        "outputId": "df92e40d-5bd6-49d3-86e7-086d4a5ccfe8"
      },
      "execution_count": null,
      "outputs": [
        {
          "output_type": "execute_result",
          "data": {
            "text/plain": [
              "Accident_Index                        object\n",
              "Vehicle_Reference                      int64\n",
              "Casualty_Reference                     int64\n",
              "Casualty_Class                         int64\n",
              "Sex_of_Casualty                        int64\n",
              "Age_of_Casualty                        int64\n",
              "Age_Band_of_Casualty                   int64\n",
              "Casualty_Severity                      int64\n",
              "Pedestrian_Location                    int64\n",
              "Pedestrian_Movement                    int64\n",
              "Car_Passenger                          int64\n",
              "Bus_or_Coach_Passenger                 int64\n",
              "Pedestrian_Road_Maintenance_Worker     int64\n",
              "Casualty_Type                          int64\n",
              "Casualty_Home_Area_Type                int64\n",
              "Casualty_IMD_Decile                    int64\n",
              "dtype: object"
            ]
          },
          "metadata": {},
          "execution_count": 195
        }
      ],
      "id": "5fW3vlZkNbPm"
    },
    {
      "cell_type": "code",
      "source": [
        "vehiclesdata.dtypes"
      ],
      "metadata": {
        "colab": {
          "base_uri": "https://localhost:8080/"
        },
        "id": "pPaHsk38Nlru",
        "outputId": "13207328-cdd2-455d-e5b7-711212957ef3"
      },
      "execution_count": null,
      "outputs": [
        {
          "output_type": "execute_result",
          "data": {
            "text/plain": [
              "Accident_Index                      object\n",
              "Vehicle_Reference                    int64\n",
              "Vehicle_Type                         int64\n",
              "Towing_and_Articulation              int64\n",
              "Vehicle_Manoeuvre                    int64\n",
              "Vehicle_Location-Restricted_Lane     int64\n",
              "Junction_Location                    int64\n",
              "Skidding_and_Overturning             int64\n",
              "Hit_Object_in_Carriageway            int64\n",
              "Vehicle_Leaving_Carriageway          int64\n",
              "Hit_Object_off_Carriageway           int64\n",
              "1st_Point_of_Impact                  int64\n",
              "Was_Vehicle_Left_Hand_Drive?         int64\n",
              "Journey_Purpose_of_Driver            int64\n",
              "Sex_of_Driver                        int64\n",
              "Age_of_Driver                        int64\n",
              "Age_Band_of_Driver                   int64\n",
              "Engine_Capacity_(CC)                 int64\n",
              "Propulsion_Code                      int64\n",
              "Age_of_Vehicle                       int64\n",
              "Driver_IMD_Decile                    int64\n",
              "Driver_Home_Area_Type                int64\n",
              "Vehicle_IMD_Decile                   int64\n",
              "dtype: object"
            ]
          },
          "metadata": {},
          "execution_count": 196
        }
      ],
      "id": "pPaHsk38Nlru"
    },
    {
      "cell_type": "markdown",
      "id": "47299268",
      "metadata": {
        "id": "47299268"
      },
      "source": [
        "# DATA PREPROSESSING & CLEANING\n"
      ]
    },
    {
      "cell_type": "markdown",
      "id": "229885b1",
      "metadata": {
        "id": "229885b1"
      },
      "source": [
        "# DATA CLEANING\n",
        "Cleaning data\n",
        "We start with the accidents data. The date and time are transformed into numpy.datetime64 objects first. Notice that there are 18 observations with time missing (not shown here) and they are \"wrongly\" parsed; however, this does not have a significant impact as they comprise a very small portion of the observations. There are also some variables with unknown values (different from the missing or out of range values); they are also transformed into NaN. In addition, there exist speed limits of 0 and 10, which were most probably wrongly recorded and are replaced with NaN as well.\n",
        "\n",
        "Likewise, for the vehicles and casualties data, the unknown values are replaced with NaN. Also, the variables Driver_IMD_Decile and Vehicle_IMD_Decile in the vehicles data contain only NaN, so they are deleted from the vehicles data.\n",
        "\n",
        "Finally, the three transformed data frames are merged on the Accident_Index and Vehicle_Reference."
      ]
    },
    {
      "cell_type": "code",
      "execution_count": null,
      "id": "f48667e7",
      "metadata": {
        "id": "f48667e7"
      },
      "outputs": [],
      "source": [
        "# converting the date and time to datetime format\n",
        "df['converted_time'] = pd.DatetimeIndex(df['Time'])\n",
        "df['decimal_time'] = df['converted_time'].dt.hour + df['converted_time'].dt.minute/60"
      ]
    },
    {
      "cell_type": "code",
      "execution_count": null,
      "id": "89007d04",
      "metadata": {
        "id": "89007d04"
      },
      "outputs": [],
      "source": [
        "# accidentdata['Date_Time'] = pd.to_datetime(accidentdata['Date'] + ' ' + accidentdata['Time'], dayfirst=True)\n",
        "# accidentdata['Month'] = accidentdata['Date_Time'].dt.month\n",
        "# accidentdata['Day'] =accidentdata['Date_Time'].dt.day\n",
        "# accidentdata['Hour'] = accidentdata['Date_Time'].dt.hour\n",
        "# accidentdata['Minute'] = accidentdata['Date_Time'].dt.minute\n",
        "# accidentdata['Date'] = accidentdata['Date_Time'].dt.date\n",
        "# accidentdata['Time'] = accidentdata['Date_Time'].dt.time\n",
        "# accidentdata['Day_of_Week'] = accidentdata['Date_Time'].dt.dayofweek\n",
        "# accidentdata = accidentdata.replace({'1st_Road_Class': {6: np.nan},\n",
        "#                          'Road_Type': {9: np.nan},\n",
        "#                          '2nd_Road_Class': {6: np.nan},\n",
        "#                          'Weather_Conditions': {9: np.nan},\n",
        "#                          'Urban_or_Rural_Area': {3: np.nan}})\n",
        "\n",
        "# accidentdata.loc[accidentdata['Speed_limit'] <= 10, 'Speed_limit'] = np.nan\n",
        "\n",
        "# vehiclesdata = vehiclesdata.replace({'Journey_Purpose_of_Driver': {6: np.nan},\n",
        "#                          'Sex_of_Driver': {3: np.nan}})\n",
        "\n",
        "# vehiclesdata = vehiclesdata.drop(['Driver_IMD_Decile', 'Vehicle_IMD_Decile'], 1)\n",
        "\n",
        "# casualtiesdata = casualtiesdata.replace({'Pedestrian_Location': {10: np.nan},\n",
        "#                          'Pedestrian_Movement': {9: np.nan},\n",
        "#                          'Pedestrian_Road_Maintenance_Worker': {3: np.nan}})\n",
        "\n",
        "#df = pd.merge(pd.merge(accidentdata, vehiclesdata, 'outer', 'Accident_Index'),\n",
        "             # casualtiesdata, 'outer', ['Accident_Index', 'Vehicle_Reference'])"
      ]
    },
    {
      "cell_type": "markdown",
      "source": [
        "#MERGING THE DATA"
      ],
      "metadata": {
        "id": "X78_MDc32EVp"
      },
      "id": "X78_MDc32EVp"
    },
    {
      "cell_type": "code",
      "source": [
        "from functools import reduce\n",
        "#df = pd.merge(pd.merge(accidentdata, vehiclesdata, 'outer', 'Accident_Index'),\n",
        "             # casualtiesdata, 'outer', ['Accident_Index', 'Vehicle_Reference'])\n",
        "dfs = [accidentdata, casualtiesdata, vehiclesdata]\n",
        "df = reduce(lambda left,right: pd.merge(left,right,on='Accident_Index'), dfs) # merge the 3 dats with the accident index"
      ],
      "metadata": {
        "id": "RPQqVAUA2Bns"
      },
      "id": "RPQqVAUA2Bns",
      "execution_count": null,
      "outputs": []
    },
    {
      "cell_type": "code",
      "source": [
        "df.isnull().sum()"
      ],
      "metadata": {
        "colab": {
          "base_uri": "https://localhost:8080/"
        },
        "id": "kf7SNg4k1AFd",
        "outputId": "81700319-eca4-4d3c-8bf5-7fcfef1772d8"
      },
      "id": "kf7SNg4k1AFd",
      "execution_count": null,
      "outputs": [
        {
          "output_type": "execute_result",
          "data": {
            "text/plain": [
              "Accident_Index              0\n",
              "Location_Easting_OSGR      80\n",
              "Location_Northing_OSGR     80\n",
              "Longitude                  80\n",
              "Latitude                   80\n",
              "                         ... \n",
              "Driver_IMD_Decile           0\n",
              "Driver_Home_Area_Type       0\n",
              "Vehicle_IMD_Decile          0\n",
              "converted_time            113\n",
              "decimal_time              113\n",
              "Length: 71, dtype: int64"
            ]
          },
          "metadata": {},
          "execution_count": 200
        }
      ]
    },
    {
      "cell_type": "code",
      "source": [
        "# HANDLING MISSING VALUES\n",
        "def getcleandata(df):\n",
        "  df['Location_Easting_OSGR'].fillna(method = 'ffill', inplace = True)\n",
        "  df['Location_Northing_OSGR'].fillna(method = 'ffill', inplace = True)\n",
        "  df['Longitude'].fillna(method = 'ffill', inplace = True)\n",
        "  df['Latitude'].fillna(method = 'ffill', inplace = True)\n",
        "  df['LSOA_of_Accident_Location'].fillna(method = 'ffill', inplace = True)\n",
        "  df['Time'].replace(np.nan,00.00, inplace = True)\n",
        "  return df\n",
        "getcleandata(df)"
      ],
      "metadata": {
        "colab": {
          "base_uri": "https://localhost:8080/",
          "height": 661
        },
        "id": "MhpHuxR7E7nh",
        "outputId": "3f2fbf66-7046-4085-e777-96993e08c0af"
      },
      "id": "MhpHuxR7E7nh",
      "execution_count": null,
      "outputs": [
        {
          "output_type": "execute_result",
          "data": {
            "text/plain": [
              "       Accident_Index  Location_Easting_OSGR  Location_Northing_OSGR  \\\n",
              "0       2019010128300               528218.0                180407.0   \n",
              "1       2019010128300               528218.0                180407.0   \n",
              "2       2019010128300               528218.0                180407.0   \n",
              "3       2019010128300               528218.0                180407.0   \n",
              "4       2019010128300               528218.0                180407.0   \n",
              "...               ...                    ...                     ...   \n",
              "210435  2019984107019               337522.0                591682.0   \n",
              "210436  2019984107219               318544.0                567087.0   \n",
              "210437  2019984107219               318544.0                567087.0   \n",
              "210438  2019984107419               336525.0                584226.0   \n",
              "210439  201998QC01004               291367.0                608364.0   \n",
              "\n",
              "        Longitude   Latitude  Police_Force  Accident_Severity  \\\n",
              "0       -0.153842  51.508057             1                  3   \n",
              "1       -0.153842  51.508057             1                  3   \n",
              "2       -0.153842  51.508057             1                  3   \n",
              "3       -0.153842  51.508057             1                  3   \n",
              "4       -0.153842  51.508057             1                  3   \n",
              "...           ...        ...           ...                ...   \n",
              "210435  -2.983499  55.215407            98                  3   \n",
              "210436  -3.274645  54.991685            98                  3   \n",
              "210437  -3.274645  54.991685            98                  3   \n",
              "210438  -2.997491  55.148292            98                  3   \n",
              "210439  -3.715064  55.357237            98                  2   \n",
              "\n",
              "        Number_of_Vehicles  Number_of_Casualties        Date  ...  \\\n",
              "0                        2                     3  18/02/2019  ...   \n",
              "1                        2                     3  18/02/2019  ...   \n",
              "2                        2                     3  18/02/2019  ...   \n",
              "3                        2                     3  18/02/2019  ...   \n",
              "4                        2                     3  18/02/2019  ...   \n",
              "...                    ...                   ...         ...  ...   \n",
              "210435                   4                     1  30/05/2019  ...   \n",
              "210436                   2                     1  21/06/2019  ...   \n",
              "210437                   2                     1  21/06/2019  ...   \n",
              "210438                   1                     1  29/06/2019  ...   \n",
              "210439                   1                     1  21/04/2019  ...   \n",
              "\n",
              "        Age_of_Driver Age_Band_of_Driver  Engine_Capacity_(CC)  \\\n",
              "0                  58                  9                    -1   \n",
              "1                  -1                 -1                    -1   \n",
              "2                  58                  9                    -1   \n",
              "3                  -1                 -1                    -1   \n",
              "4                  58                  9                    -1   \n",
              "...               ...                ...                   ...   \n",
              "210435             20                  4                  2198   \n",
              "210436             33                  6                  1997   \n",
              "210437             61                  9                  2967   \n",
              "210438             78                 11                  1597   \n",
              "210439             55                  8                   599   \n",
              "\n",
              "       Propulsion_Code  Age_of_Vehicle  Driver_IMD_Decile  \\\n",
              "0                   -1              -1                  2   \n",
              "1                   -1              -1                  2   \n",
              "2                   -1              -1                  2   \n",
              "3                   -1              -1                  2   \n",
              "4                   -1              -1                  2   \n",
              "...                ...             ...                ...   \n",
              "210435               2               4                  5   \n",
              "210436               2              12                  3   \n",
              "210437               2               5                  7   \n",
              "210438               2               6                  8   \n",
              "210439               1              20                  4   \n",
              "\n",
              "        Driver_Home_Area_Type  Vehicle_IMD_Decile      converted_time  \\\n",
              "0                           1                   2 2022-04-25 17:50:00   \n",
              "1                           1                   2 2022-04-25 17:50:00   \n",
              "2                           1                   2 2022-04-25 17:50:00   \n",
              "3                           1                   2 2022-04-25 17:50:00   \n",
              "4                           1                   2 2022-04-25 17:50:00   \n",
              "...                       ...                 ...                 ...   \n",
              "210435                      3                   5 2022-04-25 08:46:00   \n",
              "210436                      2                   3 2022-04-25 15:30:00   \n",
              "210437                      3                   7 2022-04-25 15:30:00   \n",
              "210438                      3                   8 2022-04-25 14:10:00   \n",
              "210439                      1                   4 2022-04-25 12:45:00   \n",
              "\n",
              "        decimal_time  \n",
              "0          17.833333  \n",
              "1          17.833333  \n",
              "2          17.833333  \n",
              "3          17.833333  \n",
              "4          17.833333  \n",
              "...              ...  \n",
              "210435      8.766667  \n",
              "210436     15.500000  \n",
              "210437     15.500000  \n",
              "210438     14.166667  \n",
              "210439     12.750000  \n",
              "\n",
              "[210440 rows x 71 columns]"
            ],
            "text/html": [
              "\n",
              "  <div id=\"df-7bac18ce-377d-4f7f-bb86-90facb979fa3\">\n",
              "    <div class=\"colab-df-container\">\n",
              "      <div>\n",
              "<style scoped>\n",
              "    .dataframe tbody tr th:only-of-type {\n",
              "        vertical-align: middle;\n",
              "    }\n",
              "\n",
              "    .dataframe tbody tr th {\n",
              "        vertical-align: top;\n",
              "    }\n",
              "\n",
              "    .dataframe thead th {\n",
              "        text-align: right;\n",
              "    }\n",
              "</style>\n",
              "<table border=\"1\" class=\"dataframe\">\n",
              "  <thead>\n",
              "    <tr style=\"text-align: right;\">\n",
              "      <th></th>\n",
              "      <th>Accident_Index</th>\n",
              "      <th>Location_Easting_OSGR</th>\n",
              "      <th>Location_Northing_OSGR</th>\n",
              "      <th>Longitude</th>\n",
              "      <th>Latitude</th>\n",
              "      <th>Police_Force</th>\n",
              "      <th>Accident_Severity</th>\n",
              "      <th>Number_of_Vehicles</th>\n",
              "      <th>Number_of_Casualties</th>\n",
              "      <th>Date</th>\n",
              "      <th>...</th>\n",
              "      <th>Age_of_Driver</th>\n",
              "      <th>Age_Band_of_Driver</th>\n",
              "      <th>Engine_Capacity_(CC)</th>\n",
              "      <th>Propulsion_Code</th>\n",
              "      <th>Age_of_Vehicle</th>\n",
              "      <th>Driver_IMD_Decile</th>\n",
              "      <th>Driver_Home_Area_Type</th>\n",
              "      <th>Vehicle_IMD_Decile</th>\n",
              "      <th>converted_time</th>\n",
              "      <th>decimal_time</th>\n",
              "    </tr>\n",
              "  </thead>\n",
              "  <tbody>\n",
              "    <tr>\n",
              "      <th>0</th>\n",
              "      <td>2019010128300</td>\n",
              "      <td>528218.0</td>\n",
              "      <td>180407.0</td>\n",
              "      <td>-0.153842</td>\n",
              "      <td>51.508057</td>\n",
              "      <td>1</td>\n",
              "      <td>3</td>\n",
              "      <td>2</td>\n",
              "      <td>3</td>\n",
              "      <td>18/02/2019</td>\n",
              "      <td>...</td>\n",
              "      <td>58</td>\n",
              "      <td>9</td>\n",
              "      <td>-1</td>\n",
              "      <td>-1</td>\n",
              "      <td>-1</td>\n",
              "      <td>2</td>\n",
              "      <td>1</td>\n",
              "      <td>2</td>\n",
              "      <td>2022-04-25 17:50:00</td>\n",
              "      <td>17.833333</td>\n",
              "    </tr>\n",
              "    <tr>\n",
              "      <th>1</th>\n",
              "      <td>2019010128300</td>\n",
              "      <td>528218.0</td>\n",
              "      <td>180407.0</td>\n",
              "      <td>-0.153842</td>\n",
              "      <td>51.508057</td>\n",
              "      <td>1</td>\n",
              "      <td>3</td>\n",
              "      <td>2</td>\n",
              "      <td>3</td>\n",
              "      <td>18/02/2019</td>\n",
              "      <td>...</td>\n",
              "      <td>-1</td>\n",
              "      <td>-1</td>\n",
              "      <td>-1</td>\n",
              "      <td>-1</td>\n",
              "      <td>-1</td>\n",
              "      <td>2</td>\n",
              "      <td>1</td>\n",
              "      <td>2</td>\n",
              "      <td>2022-04-25 17:50:00</td>\n",
              "      <td>17.833333</td>\n",
              "    </tr>\n",
              "    <tr>\n",
              "      <th>2</th>\n",
              "      <td>2019010128300</td>\n",
              "      <td>528218.0</td>\n",
              "      <td>180407.0</td>\n",
              "      <td>-0.153842</td>\n",
              "      <td>51.508057</td>\n",
              "      <td>1</td>\n",
              "      <td>3</td>\n",
              "      <td>2</td>\n",
              "      <td>3</td>\n",
              "      <td>18/02/2019</td>\n",
              "      <td>...</td>\n",
              "      <td>58</td>\n",
              "      <td>9</td>\n",
              "      <td>-1</td>\n",
              "      <td>-1</td>\n",
              "      <td>-1</td>\n",
              "      <td>2</td>\n",
              "      <td>1</td>\n",
              "      <td>2</td>\n",
              "      <td>2022-04-25 17:50:00</td>\n",
              "      <td>17.833333</td>\n",
              "    </tr>\n",
              "    <tr>\n",
              "      <th>3</th>\n",
              "      <td>2019010128300</td>\n",
              "      <td>528218.0</td>\n",
              "      <td>180407.0</td>\n",
              "      <td>-0.153842</td>\n",
              "      <td>51.508057</td>\n",
              "      <td>1</td>\n",
              "      <td>3</td>\n",
              "      <td>2</td>\n",
              "      <td>3</td>\n",
              "      <td>18/02/2019</td>\n",
              "      <td>...</td>\n",
              "      <td>-1</td>\n",
              "      <td>-1</td>\n",
              "      <td>-1</td>\n",
              "      <td>-1</td>\n",
              "      <td>-1</td>\n",
              "      <td>2</td>\n",
              "      <td>1</td>\n",
              "      <td>2</td>\n",
              "      <td>2022-04-25 17:50:00</td>\n",
              "      <td>17.833333</td>\n",
              "    </tr>\n",
              "    <tr>\n",
              "      <th>4</th>\n",
              "      <td>2019010128300</td>\n",
              "      <td>528218.0</td>\n",
              "      <td>180407.0</td>\n",
              "      <td>-0.153842</td>\n",
              "      <td>51.508057</td>\n",
              "      <td>1</td>\n",
              "      <td>3</td>\n",
              "      <td>2</td>\n",
              "      <td>3</td>\n",
              "      <td>18/02/2019</td>\n",
              "      <td>...</td>\n",
              "      <td>58</td>\n",
              "      <td>9</td>\n",
              "      <td>-1</td>\n",
              "      <td>-1</td>\n",
              "      <td>-1</td>\n",
              "      <td>2</td>\n",
              "      <td>1</td>\n",
              "      <td>2</td>\n",
              "      <td>2022-04-25 17:50:00</td>\n",
              "      <td>17.833333</td>\n",
              "    </tr>\n",
              "    <tr>\n",
              "      <th>...</th>\n",
              "      <td>...</td>\n",
              "      <td>...</td>\n",
              "      <td>...</td>\n",
              "      <td>...</td>\n",
              "      <td>...</td>\n",
              "      <td>...</td>\n",
              "      <td>...</td>\n",
              "      <td>...</td>\n",
              "      <td>...</td>\n",
              "      <td>...</td>\n",
              "      <td>...</td>\n",
              "      <td>...</td>\n",
              "      <td>...</td>\n",
              "      <td>...</td>\n",
              "      <td>...</td>\n",
              "      <td>...</td>\n",
              "      <td>...</td>\n",
              "      <td>...</td>\n",
              "      <td>...</td>\n",
              "      <td>...</td>\n",
              "      <td>...</td>\n",
              "    </tr>\n",
              "    <tr>\n",
              "      <th>210435</th>\n",
              "      <td>2019984107019</td>\n",
              "      <td>337522.0</td>\n",
              "      <td>591682.0</td>\n",
              "      <td>-2.983499</td>\n",
              "      <td>55.215407</td>\n",
              "      <td>98</td>\n",
              "      <td>3</td>\n",
              "      <td>4</td>\n",
              "      <td>1</td>\n",
              "      <td>30/05/2019</td>\n",
              "      <td>...</td>\n",
              "      <td>20</td>\n",
              "      <td>4</td>\n",
              "      <td>2198</td>\n",
              "      <td>2</td>\n",
              "      <td>4</td>\n",
              "      <td>5</td>\n",
              "      <td>3</td>\n",
              "      <td>5</td>\n",
              "      <td>2022-04-25 08:46:00</td>\n",
              "      <td>8.766667</td>\n",
              "    </tr>\n",
              "    <tr>\n",
              "      <th>210436</th>\n",
              "      <td>2019984107219</td>\n",
              "      <td>318544.0</td>\n",
              "      <td>567087.0</td>\n",
              "      <td>-3.274645</td>\n",
              "      <td>54.991685</td>\n",
              "      <td>98</td>\n",
              "      <td>3</td>\n",
              "      <td>2</td>\n",
              "      <td>1</td>\n",
              "      <td>21/06/2019</td>\n",
              "      <td>...</td>\n",
              "      <td>33</td>\n",
              "      <td>6</td>\n",
              "      <td>1997</td>\n",
              "      <td>2</td>\n",
              "      <td>12</td>\n",
              "      <td>3</td>\n",
              "      <td>2</td>\n",
              "      <td>3</td>\n",
              "      <td>2022-04-25 15:30:00</td>\n",
              "      <td>15.500000</td>\n",
              "    </tr>\n",
              "    <tr>\n",
              "      <th>210437</th>\n",
              "      <td>2019984107219</td>\n",
              "      <td>318544.0</td>\n",
              "      <td>567087.0</td>\n",
              "      <td>-3.274645</td>\n",
              "      <td>54.991685</td>\n",
              "      <td>98</td>\n",
              "      <td>3</td>\n",
              "      <td>2</td>\n",
              "      <td>1</td>\n",
              "      <td>21/06/2019</td>\n",
              "      <td>...</td>\n",
              "      <td>61</td>\n",
              "      <td>9</td>\n",
              "      <td>2967</td>\n",
              "      <td>2</td>\n",
              "      <td>5</td>\n",
              "      <td>7</td>\n",
              "      <td>3</td>\n",
              "      <td>7</td>\n",
              "      <td>2022-04-25 15:30:00</td>\n",
              "      <td>15.500000</td>\n",
              "    </tr>\n",
              "    <tr>\n",
              "      <th>210438</th>\n",
              "      <td>2019984107419</td>\n",
              "      <td>336525.0</td>\n",
              "      <td>584226.0</td>\n",
              "      <td>-2.997491</td>\n",
              "      <td>55.148292</td>\n",
              "      <td>98</td>\n",
              "      <td>3</td>\n",
              "      <td>1</td>\n",
              "      <td>1</td>\n",
              "      <td>29/06/2019</td>\n",
              "      <td>...</td>\n",
              "      <td>78</td>\n",
              "      <td>11</td>\n",
              "      <td>1597</td>\n",
              "      <td>2</td>\n",
              "      <td>6</td>\n",
              "      <td>8</td>\n",
              "      <td>3</td>\n",
              "      <td>8</td>\n",
              "      <td>2022-04-25 14:10:00</td>\n",
              "      <td>14.166667</td>\n",
              "    </tr>\n",
              "    <tr>\n",
              "      <th>210439</th>\n",
              "      <td>201998QC01004</td>\n",
              "      <td>291367.0</td>\n",
              "      <td>608364.0</td>\n",
              "      <td>-3.715064</td>\n",
              "      <td>55.357237</td>\n",
              "      <td>98</td>\n",
              "      <td>2</td>\n",
              "      <td>1</td>\n",
              "      <td>1</td>\n",
              "      <td>21/04/2019</td>\n",
              "      <td>...</td>\n",
              "      <td>55</td>\n",
              "      <td>8</td>\n",
              "      <td>599</td>\n",
              "      <td>1</td>\n",
              "      <td>20</td>\n",
              "      <td>4</td>\n",
              "      <td>1</td>\n",
              "      <td>4</td>\n",
              "      <td>2022-04-25 12:45:00</td>\n",
              "      <td>12.750000</td>\n",
              "    </tr>\n",
              "  </tbody>\n",
              "</table>\n",
              "<p>210440 rows × 71 columns</p>\n",
              "</div>\n",
              "      <button class=\"colab-df-convert\" onclick=\"convertToInteractive('df-7bac18ce-377d-4f7f-bb86-90facb979fa3')\"\n",
              "              title=\"Convert this dataframe to an interactive table.\"\n",
              "              style=\"display:none;\">\n",
              "        \n",
              "  <svg xmlns=\"http://www.w3.org/2000/svg\" height=\"24px\"viewBox=\"0 0 24 24\"\n",
              "       width=\"24px\">\n",
              "    <path d=\"M0 0h24v24H0V0z\" fill=\"none\"/>\n",
              "    <path d=\"M18.56 5.44l.94 2.06.94-2.06 2.06-.94-2.06-.94-.94-2.06-.94 2.06-2.06.94zm-11 1L8.5 8.5l.94-2.06 2.06-.94-2.06-.94L8.5 2.5l-.94 2.06-2.06.94zm10 10l.94 2.06.94-2.06 2.06-.94-2.06-.94-.94-2.06-.94 2.06-2.06.94z\"/><path d=\"M17.41 7.96l-1.37-1.37c-.4-.4-.92-.59-1.43-.59-.52 0-1.04.2-1.43.59L10.3 9.45l-7.72 7.72c-.78.78-.78 2.05 0 2.83L4 21.41c.39.39.9.59 1.41.59.51 0 1.02-.2 1.41-.59l7.78-7.78 2.81-2.81c.8-.78.8-2.07 0-2.86zM5.41 20L4 18.59l7.72-7.72 1.47 1.35L5.41 20z\"/>\n",
              "  </svg>\n",
              "      </button>\n",
              "      \n",
              "  <style>\n",
              "    .colab-df-container {\n",
              "      display:flex;\n",
              "      flex-wrap:wrap;\n",
              "      gap: 12px;\n",
              "    }\n",
              "\n",
              "    .colab-df-convert {\n",
              "      background-color: #E8F0FE;\n",
              "      border: none;\n",
              "      border-radius: 50%;\n",
              "      cursor: pointer;\n",
              "      display: none;\n",
              "      fill: #1967D2;\n",
              "      height: 32px;\n",
              "      padding: 0 0 0 0;\n",
              "      width: 32px;\n",
              "    }\n",
              "\n",
              "    .colab-df-convert:hover {\n",
              "      background-color: #E2EBFA;\n",
              "      box-shadow: 0px 1px 2px rgba(60, 64, 67, 0.3), 0px 1px 3px 1px rgba(60, 64, 67, 0.15);\n",
              "      fill: #174EA6;\n",
              "    }\n",
              "\n",
              "    [theme=dark] .colab-df-convert {\n",
              "      background-color: #3B4455;\n",
              "      fill: #D2E3FC;\n",
              "    }\n",
              "\n",
              "    [theme=dark] .colab-df-convert:hover {\n",
              "      background-color: #434B5C;\n",
              "      box-shadow: 0px 1px 3px 1px rgba(0, 0, 0, 0.15);\n",
              "      filter: drop-shadow(0px 1px 2px rgba(0, 0, 0, 0.3));\n",
              "      fill: #FFFFFF;\n",
              "    }\n",
              "  </style>\n",
              "\n",
              "      <script>\n",
              "        const buttonEl =\n",
              "          document.querySelector('#df-7bac18ce-377d-4f7f-bb86-90facb979fa3 button.colab-df-convert');\n",
              "        buttonEl.style.display =\n",
              "          google.colab.kernel.accessAllowed ? 'block' : 'none';\n",
              "\n",
              "        async function convertToInteractive(key) {\n",
              "          const element = document.querySelector('#df-7bac18ce-377d-4f7f-bb86-90facb979fa3');\n",
              "          const dataTable =\n",
              "            await google.colab.kernel.invokeFunction('convertToInteractive',\n",
              "                                                     [key], {});\n",
              "          if (!dataTable) return;\n",
              "\n",
              "          const docLinkHtml = 'Like what you see? Visit the ' +\n",
              "            '<a target=\"_blank\" href=https://colab.research.google.com/notebooks/data_table.ipynb>data table notebook</a>'\n",
              "            + ' to learn more about interactive tables.';\n",
              "          element.innerHTML = '';\n",
              "          dataTable['output_type'] = 'display_data';\n",
              "          await google.colab.output.renderOutput(dataTable, element);\n",
              "          const docLink = document.createElement('div');\n",
              "          docLink.innerHTML = docLinkHtml;\n",
              "          element.appendChild(docLink);\n",
              "        }\n",
              "      </script>\n",
              "    </div>\n",
              "  </div>\n",
              "  "
            ]
          },
          "metadata": {},
          "execution_count": 201
        }
      ]
    },
    {
      "cell_type": "code",
      "source": [
        "#accidentdata = accidentdata.replace({'1st_Road_Class': {6: np.nan},\n",
        "#                          'Road_Type': {9: np.nan},\n",
        "#                          '2nd_Road_Class': {6: np.nan},\n",
        "#                          'Weather_Conditions': {9: np.nan},\n",
        "#                          'Urban_or_Rural_Area': {3: np.nan}})\n",
        "\n",
        "# accidentdata.loc[accidentdata['Speed_limit'] <= 10, 'Speed_limit'] = np.nan\n",
        "\n",
        "# vehiclesdata = vehiclesdata.replace({'Journey_Purpose_of_Driver': {6: np.nan},\n",
        "#                          'Sex_of_Driver': {3: np.nan}})\n",
        "\n",
        "# vehiclesdata = vehiclesdata.drop(['Driver_IMD_Decile', 'Vehicle_IMD_Decile'], 1)\n",
        "\n",
        "# casualtiesdata = casualtiesdata.replace({'Pedestrian_Location': {10: np.nan},\n",
        "#                          'Pedestrian_Movement': {9: np.nan},\n",
        "#                          'Pedestrian_Road_Maintenance_Worker': {3: np.nan}})"
      ],
      "metadata": {
        "id": "xTkWZi1pyxbv"
      },
      "id": "xTkWZi1pyxbv",
      "execution_count": null,
      "outputs": []
    },
    {
      "cell_type": "code",
      "source": [
        "df.isnull().any()#CHECK FOR MISSING VALUES AGAIN"
      ],
      "metadata": {
        "colab": {
          "base_uri": "https://localhost:8080/"
        },
        "id": "og3Hwn_c2oCW",
        "outputId": "e68b6e28-c166-4628-926a-21ada90f7865"
      },
      "id": "og3Hwn_c2oCW",
      "execution_count": null,
      "outputs": [
        {
          "output_type": "execute_result",
          "data": {
            "text/plain": [
              "Accident_Index            False\n",
              "Location_Easting_OSGR     False\n",
              "Location_Northing_OSGR    False\n",
              "Longitude                 False\n",
              "Latitude                  False\n",
              "                          ...  \n",
              "Driver_IMD_Decile         False\n",
              "Driver_Home_Area_Type     False\n",
              "Vehicle_IMD_Decile        False\n",
              "converted_time             True\n",
              "decimal_time               True\n",
              "Length: 71, dtype: bool"
            ]
          },
          "metadata": {},
          "execution_count": 202
        }
      ]
    },
    {
      "cell_type": "code",
      "source": [
        "df.info()"
      ],
      "metadata": {
        "colab": {
          "base_uri": "https://localhost:8080/"
        },
        "id": "RrMftO02BrAJ",
        "outputId": "c1806597-bafe-4bc9-a349-b207908436a1"
      },
      "id": "RrMftO02BrAJ",
      "execution_count": null,
      "outputs": [
        {
          "output_type": "stream",
          "name": "stdout",
          "text": [
            "<class 'pandas.core.frame.DataFrame'>\n",
            "Int64Index: 210440 entries, 0 to 210439\n",
            "Data columns (total 71 columns):\n",
            " #   Column                                       Non-Null Count   Dtype         \n",
            "---  ------                                       --------------   -----         \n",
            " 0   Accident_Index                               210440 non-null  object        \n",
            " 1   Location_Easting_OSGR                        210440 non-null  float64       \n",
            " 2   Location_Northing_OSGR                       210440 non-null  float64       \n",
            " 3   Longitude                                    210440 non-null  float64       \n",
            " 4   Latitude                                     210440 non-null  float64       \n",
            " 5   Police_Force                                 210440 non-null  int64         \n",
            " 6   Accident_Severity                            210440 non-null  int64         \n",
            " 7   Number_of_Vehicles                           210440 non-null  int64         \n",
            " 8   Number_of_Casualties                         210440 non-null  int64         \n",
            " 9   Date                                         210440 non-null  object        \n",
            " 10  Day_of_Week                                  210440 non-null  int64         \n",
            " 11  Time                                         210440 non-null  object        \n",
            " 12  Local_Authority_(District)                   210440 non-null  int64         \n",
            " 13  Local_Authority_(Highway)                    210440 non-null  object        \n",
            " 14  1st_Road_Class                               210440 non-null  int64         \n",
            " 15  1st_Road_Number                              210440 non-null  int64         \n",
            " 16  Road_Type                                    210440 non-null  int64         \n",
            " 17  Speed_limit                                  210440 non-null  int64         \n",
            " 18  Junction_Detail                              210440 non-null  int64         \n",
            " 19  Junction_Control                             210440 non-null  int64         \n",
            " 20  2nd_Road_Class                               210440 non-null  int64         \n",
            " 21  2nd_Road_Number                              210440 non-null  int64         \n",
            " 22  Pedestrian_Crossing-Human_Control            210440 non-null  int64         \n",
            " 23  Pedestrian_Crossing-Physical_Facilities      210440 non-null  int64         \n",
            " 24  Light_Conditions                             210440 non-null  int64         \n",
            " 25  Weather_Conditions                           210440 non-null  int64         \n",
            " 26  Road_Surface_Conditions                      210440 non-null  int64         \n",
            " 27  Special_Conditions_at_Site                   210440 non-null  int64         \n",
            " 28  Carriageway_Hazards                          210440 non-null  int64         \n",
            " 29  Urban_or_Rural_Area                          210440 non-null  int64         \n",
            " 30  Did_Police_Officer_Attend_Scene_of_Accident  210440 non-null  int64         \n",
            " 31  LSOA_of_Accident_Location                    210440 non-null  object        \n",
            " 32  Vehicle_Reference_x                          210440 non-null  int64         \n",
            " 33  Casualty_Reference                           210440 non-null  int64         \n",
            " 34  Casualty_Class                               210440 non-null  int64         \n",
            " 35  Sex_of_Casualty                              210440 non-null  int64         \n",
            " 36  Age_of_Casualty                              210440 non-null  int64         \n",
            " 37  Age_Band_of_Casualty                         210440 non-null  int64         \n",
            " 38  Casualty_Severity                            210440 non-null  int64         \n",
            " 39  Pedestrian_Location                          210440 non-null  int64         \n",
            " 40  Pedestrian_Movement                          210440 non-null  int64         \n",
            " 41  Car_Passenger                                210440 non-null  int64         \n",
            " 42  Bus_or_Coach_Passenger                       210440 non-null  int64         \n",
            " 43  Pedestrian_Road_Maintenance_Worker           210440 non-null  int64         \n",
            " 44  Casualty_Type                                210440 non-null  int64         \n",
            " 45  Casualty_Home_Area_Type                      210440 non-null  int64         \n",
            " 46  Casualty_IMD_Decile                          210440 non-null  int64         \n",
            " 47  Vehicle_Reference_y                          210440 non-null  int64         \n",
            " 48  Vehicle_Type                                 210440 non-null  int64         \n",
            " 49  Towing_and_Articulation                      210440 non-null  int64         \n",
            " 50  Vehicle_Manoeuvre                            210440 non-null  int64         \n",
            " 51  Vehicle_Location-Restricted_Lane             210440 non-null  int64         \n",
            " 52  Junction_Location                            210440 non-null  int64         \n",
            " 53  Skidding_and_Overturning                     210440 non-null  int64         \n",
            " 54  Hit_Object_in_Carriageway                    210440 non-null  int64         \n",
            " 55  Vehicle_Leaving_Carriageway                  210440 non-null  int64         \n",
            " 56  Hit_Object_off_Carriageway                   210440 non-null  int64         \n",
            " 57  1st_Point_of_Impact                          210440 non-null  int64         \n",
            " 58  Was_Vehicle_Left_Hand_Drive?                 210440 non-null  int64         \n",
            " 59  Journey_Purpose_of_Driver                    210440 non-null  int64         \n",
            " 60  Sex_of_Driver                                210440 non-null  int64         \n",
            " 61  Age_of_Driver                                210440 non-null  int64         \n",
            " 62  Age_Band_of_Driver                           210440 non-null  int64         \n",
            " 63  Engine_Capacity_(CC)                         210440 non-null  int64         \n",
            " 64  Propulsion_Code                              210440 non-null  int64         \n",
            " 65  Age_of_Vehicle                               210440 non-null  int64         \n",
            " 66  Driver_IMD_Decile                            210440 non-null  int64         \n",
            " 67  Driver_Home_Area_Type                        210440 non-null  int64         \n",
            " 68  Vehicle_IMD_Decile                           210440 non-null  int64         \n",
            " 69  converted_time                               210327 non-null  datetime64[ns]\n",
            " 70  decimal_time                                 210327 non-null  float64       \n",
            "dtypes: datetime64[ns](1), float64(5), int64(60), object(5)\n",
            "memory usage: 115.6+ MB\n"
          ]
        }
      ]
    },
    {
      "cell_type": "markdown",
      "id": "a0813fe0",
      "metadata": {
        "id": "a0813fe0"
      },
      "source": [
        "# EXPLORATORY DATA ANALYSIS\n",
        "Exploring data\n",
        "The first thing we are interested in exploring is how the number of accidents varies with date and time. We plot five figures of the number of accidents against date, month and day, month, day of week, and hour.\n",
        "\n",
        " two peaks can be observed around rush hours, during which traffic congestion is generally at its highest."
      ]
    },
    {
      "cell_type": "markdown",
      "id": "9b05fdf0",
      "metadata": {
        "id": "9b05fdf0"
      },
      "source": [
        "# GEOGRAPHICAL AREA vs ACCIDENTS"
      ]
    },
    {
      "cell_type": "code",
      "execution_count": null,
      "id": "be757f10",
      "metadata": {
        "id": "be757f10"
      },
      "outputs": [],
      "source": [
        "## data extraction from dataframe\n",
        "urban_accidents = len(df[df['Urban_or_Rural_Area'] == 1])\n",
        "rural_accidents = len(df[df['Urban_or_Rural_Area'] == 2])\n",
        "other_area_accidents = len(df[df['Urban_or_Rural_Area'] == 3])"
      ]
    },
    {
      "cell_type": "code",
      "execution_count": null,
      "id": "c7591ec4",
      "metadata": {
        "id": "c7591ec4"
      },
      "outputs": [],
      "source": [
        "## data fromatting\n",
        "total_accidents = urban_accidents + rural_accidents + other_area_accidents\n",
        "urban_percent = urban_accidents / total_accidents * 100\n",
        "rural_percent = rural_accidents / total_accidents * 100\n",
        "other_area_percent = other_area_accidents / total_accidents * 100"
      ]
    },
    {
      "cell_type": "code",
      "execution_count": null,
      "id": "17edbccd",
      "metadata": {
        "colab": {
          "base_uri": "https://localhost:8080/"
        },
        "id": "17edbccd",
        "outputId": "4aab3b8a-a3ff-4a64-a37c-46b4a4ba904d"
      },
      "outputs": [
        {
          "output_type": "stream",
          "name": "stdout",
          "text": [
            "Percentage of accidents occur in urban areas is 65%\n",
            "Percentage of accidents occur in rural areas is 35%\n",
            "Percentage of accidents occur in other areas is 0%\n"
          ]
        }
      ],
      "source": [
        "# result overview\n",
        "print(\"Percentage of accidents occur in urban areas is {0:.0f}%\".format(urban_percent))\n",
        "print(\"Percentage of accidents occur in rural areas is {0:.0f}%\".format(rural_percent))\n",
        "print(\"Percentage of accidents occur in other areas is {0:.0f}%\".format(other_area_percent))"
      ]
    },
    {
      "cell_type": "code",
      "execution_count": null,
      "id": "94d0b885",
      "metadata": {
        "colab": {
          "base_uri": "https://localhost:8080/",
          "height": 281
        },
        "id": "94d0b885",
        "outputId": "44fb1f6e-2c8b-4918-a86f-c75769e95cb7"
      },
      "outputs": [
        {
          "output_type": "display_data",
          "data": {
            "text/plain": [
              "<Figure size 432x288 with 1 Axes>"
            ],
            "image/png": "[encoded data removed]"
          },
          "metadata": {
            "needs_background": "light"
          }
        }
      ],
      "source": [
        "## result visualization (bar graph)\n",
        "x = ['Urban', 'Rural', 'Other']\n",
        "y = [urban_percent, rural_percent, other_area_percent]\n",
        "x_pos = list(range(len(x)))\n",
        "plt.bar(x_pos, y)\n",
        "plt.ylabel('Percentage of accidents')\n",
        "plt.xticks(x_pos, x)\n",
        "plt.title(\"Percentage of accidents occurred by area\")\n",
        "plt.show()"
      ]
    },
    {
      "cell_type": "markdown",
      "id": "a8dbee61",
      "metadata": {
        "id": "a8dbee61"
      },
      "source": [
        "# ACCIDENT SEVERITY"
      ]
    },
    {
      "cell_type": "code",
      "source": [
        "Acc_Severity1 = len(df[df['Accident_Severity'] == 1])\n",
        "Acc_Severity2 = len(df[df['Accident_Severity'] == 2])\n",
        "Acc_Severity3 = len(df[df['Accident_Severity'] == 3])\n",
        "total = Acc_Severity1 + Acc_Severity2 + Acc_Severity3\n",
        "As1 = (Acc_Severity1 / total) * 100\n",
        "As2 = (Acc_Severity2 / total) * 100\n",
        "As3 = (Acc_Severity3 / total) * 100\n",
        "print(\"Percentage of Fatal Accident is {0:.0f}%\".format(s1))\n",
        "print(\"Percentage of Serious is {0:.0f}%\".format(s2))\n",
        "print(\"Percentage of Slight  is {0:.0f}%\".format(s3))"
      ],
      "metadata": {
        "id": "SjhEvnER5s4_"
      },
      "id": "SjhEvnER5s4_",
      "execution_count": null,
      "outputs": []
    },
    {
      "cell_type": "code",
      "source": [
        "## result visualization (bar graph)\n",
        "x = ['Fatal', 'Serious', 'Slight']\n",
        "y = [s1, s2, s3]\n",
        "x_pos = list(range(len(x)))\n",
        "plt.bar(x_pos, y)\n",
        "plt.ylabel('Percentage of Accident Severity')\n",
        "plt.xticks(x_pos, x)\n",
        "plt.title(\"Percentage of accidents severity occurred \")\n",
        "plt.show()"
      ],
      "metadata": {
        "id": "E6UBlSNI6VyO"
      },
      "id": "E6UBlSNI6VyO",
      "execution_count": null,
      "outputs": []
    },
    {
      "cell_type": "markdown",
      "source": [
        "#CASUALTY SEVERITY"
      ],
      "metadata": {
        "id": "FPUKs_yk5tk1"
      },
      "id": "FPUKs_yk5tk1"
    },
    {
      "cell_type": "code",
      "execution_count": null,
      "id": "a9efe84d",
      "metadata": {
        "colab": {
          "base_uri": "https://localhost:8080/"
        },
        "id": "a9efe84d",
        "outputId": "8841880d-099d-4d8f-b546-c20806dd43d3"
      },
      "outputs": [
        {
          "output_type": "stream",
          "name": "stdout",
          "text": [
            "Percentage of Deaths is 1%\n",
            "Percentage of Major Injuries is 16%\n",
            "Percentage of Minor Injuires is 83%\n"
          ]
        }
      ],
      "source": [
        "#DATA EXTRACTION\n",
        "Severity1 = len(df[df['Casualty_Severity'] == 1])\n",
        "Severity2 = len(df[df['Casualty_Severity'] == 2])\n",
        "Severity3 = len(df[df['Casualty_Severity'] == 3])\n",
        "total = Severity1 + Severity2 + Severity3\n",
        "s1 = (Severity1 / total) * 100\n",
        "s2 = (Severity2 / total) * 100\n",
        "s3 = (Severity3 / total) * 100\n",
        "print(\"Percentage of Death is {0:.0f}%\".format(s1))\n",
        "print(\"Percentage of Major Injuries is {0:.0f}%\".format(s2))\n",
        "print(\"Percentage of Minor Injuires is {0:.0f}%\".format(s3))\n"
      ]
    },
    {
      "cell_type": "code",
      "execution_count": null,
      "id": "344695c6",
      "metadata": {
        "colab": {
          "base_uri": "https://localhost:8080/",
          "height": 281
        },
        "id": "344695c6",
        "outputId": "2b73ce8f-79c2-4eae-cabe-07d5e37bfc89"
      },
      "outputs": [
        {
          "output_type": "display_data",
          "data": {
            "text/plain": [
              "<Figure size 432x288 with 1 Axes>"
            ],
            "image/png": "[encoded data removed]"
          },
          "metadata": {
            "needs_background": "light"
          }
        }
      ],
      "source": [
        "## result visualization (bar graph)\n",
        "x = ['Death', 'Major Injuries', 'Minor Injuries']\n",
        "y = [s1, s2, s3]\n",
        "x_pos = list(range(len(x)))\n",
        "plt.bar(x_pos, y)\n",
        "plt.ylabel('Percentage of Severity')\n",
        "plt.xticks(x_pos, x)\n",
        "plt.title(\"Percentage of accidents severity occurred \")\n",
        "plt.show()"
      ]
    },
    {
      "cell_type": "markdown",
      "id": "3abad6ee",
      "metadata": {
        "id": "3abad6ee"
      },
      "source": [
        "# ACCIDENTS VS AGE OF THE DRIVER"
      ]
    },
    {
      "cell_type": "code",
      "execution_count": null,
      "id": "5d5959bd",
      "metadata": {
        "colab": {
          "base_uri": "https://localhost:8080/",
          "height": 295
        },
        "id": "5d5959bd",
        "outputId": "9cd98f87-91fd-4b65-9b49-215197f1210f"
      },
      "outputs": [
        {
          "output_type": "display_data",
          "data": {
            "text/plain": [
              "<Figure size 432x288 with 1 Axes>"
            ],
            "image/png": "[encoded data removed]"
          },
          "metadata": {
            "needs_background": "light"
          }
        }
      ],
      "source": [
        "df[\"Age_of_Driver\"]=df[\"Age_of_Driver\"].astype(int)\n",
        "\n",
        "age_acci = df[['Accident_Index', 'Age_of_Driver', 'Vehicle_Type']]\n",
        "age = []\n",
        "num_of_acci = []\n",
        "for i in range(17, max(age_acci['Age_of_Driver']) + 1):\n",
        "    age.append(i)\n",
        "    num_of_acci.append(len(age_acci[(age_acci['Age_of_Driver'] == i) & (age_acci['Vehicle_Type'] == 9)]))\n",
        "plt.plot(age, num_of_acci, label='Data', marker='o')\n",
        "plt.xlabel('Age')\n",
        "plt.ylabel('Number of car accidents')\n",
        "plt.title('Correlation between driver age and number of car accidents')\n",
        "plt.grid(True)\n",
        "plt.show()"
      ]
    },
    {
      "cell_type": "markdown",
      "id": "f2ee6d40",
      "metadata": {
        "id": "f2ee6d40"
      },
      "source": [
        "# ACCIDENT VS GENDER"
      ]
    },
    {
      "cell_type": "code",
      "execution_count": null,
      "id": "74661288",
      "metadata": {
        "colab": {
          "base_uri": "https://localhost:8080/",
          "height": 281
        },
        "id": "74661288",
        "outputId": "fbf6cdf5-8de1-4971-979b-5339442263e2"
      },
      "outputs": [
        {
          "output_type": "display_data",
          "data": {
            "text/plain": [
              "<Figure size 432x288 with 1 Axes>"
            ],
            "image/png": "[encoded data removed]"
          },
          "metadata": {
            "needs_background": "light"
          }
        }
      ],
      "source": [
        "men = len(df[df['Sex_of_Casualty'] == 1])\n",
        "women = len(df[df['Sex_of_Casualty'] == 2])\n",
        "x = ['Men', 'Women']\n",
        "y = [men, women]\n",
        "x_pos = list(range(len(x)))\n",
        "plt.bar(x_pos, y, color='maroon')\n",
        "plt.ylabel('Casualties')\n",
        "plt.xticks(x_pos, x)\n",
        "plt.title(\"Casualties occurred by gender\")\n",
        "plt.show()"
      ]
    },
    {
      "cell_type": "markdown",
      "id": "e4b9627c",
      "metadata": {
        "id": "e4b9627c"
      },
      "source": [
        "# accident vs age & gender\n"
      ]
    },
    {
      "cell_type": "code",
      "execution_count": null,
      "id": "606baec0",
      "metadata": {
        "colab": {
          "base_uri": "https://localhost:8080/"
        },
        "id": "606baec0",
        "outputId": "0dc08bbb-eada-412d-b4a5-869f27e99bee"
      },
      "outputs": [
        {
          "output_type": "execute_result",
          "data": {
            "text/plain": [
              "1    0.627561\n",
              "2    0.278811\n",
              "3    0.093628\n",
              "Name: Sex_of_Driver, dtype: float64"
            ]
          },
          "metadata": {},
          "execution_count": 212
        }
      ],
      "source": [
        "df.Sex_of_Driver.value_counts(normalize=True)"
      ]
    },
    {
      "cell_type": "code",
      "execution_count": null,
      "id": "a7b2c26d",
      "metadata": {
        "id": "a7b2c26d"
      },
      "outputs": [],
      "source": [
        "# create a new dataframe\n",
        "drivers = df.groupby(['Age_Band_of_Driver', 'Sex_of_Driver']).size().reset_index()\n",
        "\n",
        "# drop the values that have no value\n",
        "drivers.drop(drivers[(drivers['Age_Band_of_Driver'] == -1) | \\\n",
        "                     (drivers['Sex_of_Driver'] == -1) | \\\n",
        "                     (drivers['Sex_of_Driver'] == 3)]\\\n",
        "                     .index, axis=0, inplace=True)\n",
        "# rename the columns\n",
        "drivers.columns = ['Age_Band_of_Driver', 'Sex_of_Driver', 'Count']\n",
        "\n",
        "# rename the values to be more convenient for the reader resp. viewer\n",
        "drivers['Sex_of_Driver'] = drivers['Sex_of_Driver'].map({1: 'male', 2: 'female'})\n",
        "drivers['Age_Band_of_Driver'] = drivers['Age_Band_of_Driver'].map({1: '0 - 5', 2: '6 - 10', 3: '11 - 15',\n",
        "                                                                   4: '16 - 20', 5: '21 - 25', 6: '26 - 35',\n",
        "                                                                   7: '36 - 45', 8: '46 - 55', 9: '56 - 65',\n",
        "                                                                   10: '66 - 75', 11: 'Over 75'})"
      ]
    },
    {
      "cell_type": "code",
      "execution_count": null,
      "id": "e911ef0a",
      "metadata": {
        "colab": {
          "base_uri": "https://localhost:8080/",
          "height": 492
        },
        "id": "e911ef0a",
        "outputId": "d9e2fecb-bee7-4003-af7c-2fc789da6dc5"
      },
      "outputs": [
        {
          "output_type": "display_data",
          "data": {
            "text/plain": [
              "<Figure size 1008x504 with 1 Axes>"
            ],
            "image/png": "[encoded data removed]"
          },
          "metadata": {
            "needs_background": "light"
          }
        }
      ],
      "source": [
        "# seaborn barplot\n",
        "fig, ax = plt.subplots(figsize=(14, 7))\n",
        "sns.barplot(y='Age_Band_of_Driver', x='Count', hue='Sex_of_Driver', data=drivers, palette='bone')\n",
        "ax.set_title('\\nAge and Sex of Driver At-Fault\\n', fontsize=14, fontweight='bold')\n",
        "ax.set(xlabel='Count', ylabel='Age Band of Driver')\n",
        "ax.legend(bbox_to_anchor=(1.1, 1.), borderaxespad=0., frameon=False)\n",
        "\n",
        "# remove all spines\n",
        "sns.despine(top=True, right=True, left=True, bottom=True);"
      ]
    },
    {
      "cell_type": "code",
      "source": [
        "objects = ['0','0-5','6-10','11-15','16-20','21-25','26-35',\n",
        "          '36-45', '46-55','56-65','66-75','75+']\n",
        "\n",
        "plt.figure(figsize=(12,6))\n",
        "df.Age_Band_of_Casualty.hist(bins = 11,alpha=0.5,rwidth=0.90, color= 'red',)\n",
        "plt.title('Age of people involved in the accidents', fontsize = 25)\n",
        "plt.grid(False)\n",
        "y_pos = np.arange(len(objects))\n",
        "plt.xticks(y_pos , objects)\n",
        "plt.ylabel('Accident count' , fontsize = 15)\n",
        "plt.xlabel('Age of Drivers', fontsize = 15,)"
      ],
      "metadata": {
        "colab": {
          "base_uri": "https://localhost:8080/",
          "height": 435
        },
        "id": "TupIYhcHf2mY",
        "outputId": "7f1c8090-428e-4f20-d8ce-86cc354771d6"
      },
      "id": "TupIYhcHf2mY",
      "execution_count": null,
      "outputs": [
        {
          "output_type": "execute_result",
          "data": {
            "text/plain": [
              "Text(0.5, 0, 'Age of Drivers')"
            ]
          },
          "metadata": {},
          "execution_count": 215
        },
        {
          "output_type": "display_data",
          "data": {
            "text/plain": [
              "<Figure size 864x432 with 1 Axes>"
            ],
            "image/png": "[encoded data removed]"
          },
          "metadata": {
            "needs_background": "light"
          }
        }
      ]
    },
    {
      "cell_type": "markdown",
      "id": "924b8668",
      "metadata": {
        "id": "924b8668"
      },
      "source": [
        "# ACCIDENT VS TIME OF THE DAY"
      ]
    },
    {
      "cell_type": "code",
      "execution_count": null,
      "id": "9063990e",
      "metadata": {
        "colab": {
          "base_uri": "https://localhost:8080/",
          "height": 514
        },
        "id": "9063990e",
        "outputId": "3b18ec6d-81fd-45e4-ee60-1e79513589d7"
      },
      "outputs": [
        {
          "output_type": "display_data",
          "data": {
            "text/plain": [
              "<Figure size 1008x576 with 3 Axes>"
            ],
            "image/png": "[encoded data removed]"
          },
          "metadata": {
            "needs_background": "light"
          }
        },
        {
          "output_type": "stream",
          "name": "stdout",
          "text": [
            "The most dangerous hour to drive, when most fatal accidents happened in all accidents,is 1 o'clock\n"
          ]
        }
      ],
      "source": [
        "df['Hour'] = df['Time'].map(lambda x: str(x).split(':')[0])\n",
        "df['Hour'] = df['Hour'].apply(pd.to_numeric, errors='coerce')\n",
        "hour = []\n",
        "num_of_fatal_accidents = []\n",
        "num_of_accidents = []\n",
        "for i in range(24):\n",
        "    hour.append(i)\n",
        "    num_of_fatal_accidents_hour = len(df[(df['Accident_Severity'] == 1) & (df['Hour'] == i)])\n",
        "    num_of_accidents_hour = len(df[df['Hour'] == i])\n",
        "    num_of_fatal_accidents.append(num_of_fatal_accidents_hour)\n",
        "    num_of_accidents.append(num_of_accidents_hour)\n",
        "    normalized_num_of_fatal_accidents = list(np.array(num_of_fatal_accidents) / np.array(num_of_accidents) * 100)\n",
        "fig = plt.figure(figsize=(14, 8))\n",
        "ax1 = fig.add_subplot(221)\n",
        "ax1.plot(hour, num_of_fatal_accidents)\n",
        "ax1.set_ylabel('Number of fatal accidents')\n",
        "ax1.set_xlabel('Hour')\n",
        "ax1.grid(True)\n",
        "ax2 = fig.add_subplot(222)\n",
        "ax2.plot(hour, num_of_accidents)\n",
        "ax2.set_ylabel('Number of all accidents')\n",
        "ax2.set_xlabel('Hour')\n",
        "ax2.grid(True)\n",
        "ax3 = fig.add_subplot(223)\n",
        "ax3.plot(hour, normalized_num_of_fatal_accidents)\n",
        "ax3.set_ylabel('Percentage of fatal accidents in all accidents')\n",
        "ax3.set_xlabel('Hour')\n",
        "ax3.grid(True)\n",
        "plt.show()\n",
        "print(\"The most dangerous hour to drive, when most fatal accidents happened in all accidents,is {} o'clock\".format(\n",
        "    normalized_num_of_fatal_accidents.index(max(normalized_num_of_fatal_accidents))))"
      ]
    },
    {
      "cell_type": "code",
      "execution_count": null,
      "id": "4be216b4",
      "metadata": {
        "colab": {
          "base_uri": "https://localhost:8080/",
          "height": 297
        },
        "id": "4be216b4",
        "outputId": "bf6f0d27-bd37-457c-bf8a-4598a4aca489"
      },
      "outputs": [
        {
          "output_type": "display_data",
          "data": {
            "text/plain": [
              "<Figure size 432x288 with 1 Axes>"
            ],
            "image/png": "[encoded data removed]"
          },
          "metadata": {
            "needs_background": "light"
          }
        },
        {
          "output_type": "display_data",
          "data": {
            "text/plain": [
              "<Figure size 432x288 with 0 Axes>"
            ]
          },
          "metadata": {}
        }
      ],
      "source": [
        "sns.distplot(df['decimal_time']);\n",
        "fig = plt.figure()"
      ]
    },
    {
      "cell_type": "code",
      "execution_count": null,
      "id": "2c5ff094",
      "metadata": {
        "colab": {
          "base_uri": "https://localhost:8080/",
          "height": 437
        },
        "id": "2c5ff094",
        "outputId": "0bc1b873-e90c-42eb-e548-3f7a000bbbbe"
      },
      "outputs": [
        {
          "output_type": "display_data",
          "data": {
            "text/plain": [
              "<Figure size 720x432 with 1 Axes>"
            ],
            "image/png": "[encoded data removed]"
          },
          "metadata": {}
        }
      ],
      "source": [
        "# prepare plot-BAR\n",
        "sns.set_style('white')\n",
        "fig, ax = plt.subplots(figsize=(10,6))\n",
        "\n",
        "# plot\n",
        "df.Hour.hist(bins=24, ax=ax, color='lightsteelblue')\n",
        "ax.set_title('\\nAccidents depending by Time\\n', fontsize=14, fontweight='bold')\n",
        "ax.set(xlabel='Hour of the Day', ylabel='Total Count of Accidents')\n",
        "\n",
        "# remove all spines\n",
        "sns.despine(top=True, right=True, left=True, bottom=True);"
      ]
    },
    {
      "cell_type": "markdown",
      "id": "99d7c8e7",
      "metadata": {
        "id": "99d7c8e7"
      },
      "source": [
        "# PENDESTRIANS"
      ]
    },
    {
      "cell_type": "code",
      "source": [
        "# casualties_by_pedestrian_movement:  \n",
        "Pendestrian=df['Casualty_Type']\n",
        "#casualties_by_pedestrian_movement= casualtiesdata[casualtiesdata.Casualty_Type == 'Pedestrian'].Pedestrian_Movement.groupby([casualtiesdata.Pedestrian_Movement]).count().sort_values()\n",
        "sns.countplot(df, x=Pendestrian)\n",
        "# graph the data\n",
        "# plt.bar(casualties_by_pedestrian_movement.index, casualties_by_pedestrian_movement.values)\n",
        "# plt.xticks(casualties_by_pedestrian_movement.index)\n",
        "plt.xlabel('Casualities Types')\n",
        "plt.ylabel('Accident Count')\n",
        "plt.title('Pendestrians Involved in Accidents')\n",
        "# plt.show()"
      ],
      "metadata": {
        "colab": {
          "base_uri": "https://localhost:8080/",
          "height": 262
        },
        "id": "vlTKUQ4s6RUE",
        "outputId": "1a422af0-6f43-46bc-c4bf-14d3cbf83e72"
      },
      "id": "vlTKUQ4s6RUE",
      "execution_count": null,
      "outputs": [
        {
          "output_type": "display_data",
          "data": {
            "text/plain": [
              "<Figure size 432x288 with 1 Axes>"
            ],
            "image/png": "[encoded data removed]"
          },
          "metadata": {}
        }
      ]
    },
    {
      "cell_type": "markdown",
      "id": "88e28af7",
      "metadata": {
        "id": "88e28af7"
      },
      "source": [
        "# MOTOBIKES"
      ]
    },
    {
      "cell_type": "markdown",
      "id": "65b820cc",
      "metadata": {
        "id": "65b820cc"
      },
      "source": [
        "# ACCIDENTS VS DAY OF THE WEEK"
      ]
    },
    {
      "cell_type": "code",
      "source": [
        "plt.figure(figsize=(12,6))\n",
        "df.Day_of_Week.hist(bins=7,rwidth=0.55,alpha=0.5, color= 'orange')\n",
        "plt.title('Accidents on the day of a week' , fontsize= 30)\n",
        "plt.grid(False)\n",
        "plt.ylabel('Accident count' , fontsize = 20)\n",
        "plt.xlabel('0 - Sunday ,  1 - Monday  ,2 - Tuesday , 3 - Wednesday , 4 - Thursday , 5 - Friday , 6 - Saturday' , fontsize = 13)"
      ],
      "metadata": {
        "colab": {
          "base_uri": "https://localhost:8080/",
          "height": 437
        },
        "id": "wJ2MC4K7d6xw",
        "outputId": "73349933-e0ae-44b6-f5d9-fd1a2e9f4cc4"
      },
      "id": "wJ2MC4K7d6xw",
      "execution_count": null,
      "outputs": [
        {
          "output_type": "execute_result",
          "data": {
            "text/plain": [
              "Text(0.5, 0, '0 - Sunday ,  1 - Monday  ,2 - Tuesday , 3 - Wednesday , 4 - Thursday , 5 - Friday , 6 - Saturday')"
            ]
          },
          "metadata": {},
          "execution_count": 220
        },
        {
          "output_type": "display_data",
          "data": {
            "text/plain": [
              "<Figure size 864x432 with 1 Axes>"
            ],
            "image/png": "[encoded data removed]"
          },
          "metadata": {}
        }
      ]
    },
    {
      "cell_type": "code",
      "source": [
        "plt.figure(figsize=(12,6))\n",
        "df.Date_time.dt.dayofweek.hist(bins=7,rwidth=0.55,alpha=0.5, color= 'orange')\n",
        "plt.title('Accidents on the day of a week' , fontsize= 30)\n",
        "plt.grid(False)\n",
        "plt.ylabel('Accident count' , fontsize = 20)\n",
        "plt.xlabel('0 - Sunday ,  1 - Monday  ,2 - Tuesday , 3 - Wednesday , 4 - Thursday , 5 - Friday , 6 - Saturday' , fontsize = 13)"
      ],
      "metadata": {
        "colab": {
          "base_uri": "https://localhost:8080/",
          "height": 245
        },
        "id": "gu0KfdiKdw2D",
        "outputId": "d637512c-3e08-44cc-a25c-1d513cde03bf"
      },
      "id": "gu0KfdiKdw2D",
      "execution_count": null,
      "outputs": [
        {
          "output_type": "error",
          "ename": "NameError",
          "evalue": "ignored",
          "traceback": [
            "\u001b[0;31m---------------------------------------------------------------------------\u001b[0m",
            "\u001b[0;31mNameError\u001b[0m                                 Traceback (most recent call last)",
            "\u001b[0;32m<ipython-input-2-d9ef68983678>\u001b[0m in \u001b[0;36m<module>\u001b[0;34m()\u001b[0m\n\u001b[0;32m----> 1\u001b[0;31m \u001b[0mplt\u001b[0m\u001b[0;34m.\u001b[0m\u001b[0mfigure\u001b[0m\u001b[0;34m(\u001b[0m\u001b[0mfigsize\u001b[0m\u001b[0;34m=\u001b[0m\u001b[0;34m(\u001b[0m\u001b[0;36m12\u001b[0m\u001b[0;34m,\u001b[0m\u001b[0;36m6\u001b[0m\u001b[0;34m)\u001b[0m\u001b[0;34m)\u001b[0m\u001b[0;34m\u001b[0m\u001b[0;34m\u001b[0m\u001b[0m\n\u001b[0m\u001b[1;32m      2\u001b[0m \u001b[0mdf\u001b[0m\u001b[0;34m.\u001b[0m\u001b[0mDate_time\u001b[0m\u001b[0;34m.\u001b[0m\u001b[0mdt\u001b[0m\u001b[0;34m.\u001b[0m\u001b[0mdayofweek\u001b[0m\u001b[0;34m.\u001b[0m\u001b[0mhist\u001b[0m\u001b[0;34m(\u001b[0m\u001b[0mbins\u001b[0m\u001b[0;34m=\u001b[0m\u001b[0;36m7\u001b[0m\u001b[0;34m,\u001b[0m\u001b[0mrwidth\u001b[0m\u001b[0;34m=\u001b[0m\u001b[0;36m0.55\u001b[0m\u001b[0;34m,\u001b[0m\u001b[0malpha\u001b[0m\u001b[0;34m=\u001b[0m\u001b[0;36m0.5\u001b[0m\u001b[0;34m,\u001b[0m \u001b[0mcolor\u001b[0m\u001b[0;34m=\u001b[0m \u001b[0;34m'orange'\u001b[0m\u001b[0;34m)\u001b[0m\u001b[0;34m\u001b[0m\u001b[0;34m\u001b[0m\u001b[0m\n\u001b[1;32m      3\u001b[0m \u001b[0mplt\u001b[0m\u001b[0;34m.\u001b[0m\u001b[0mtitle\u001b[0m\u001b[0;34m(\u001b[0m\u001b[0;34m'Accidents on the day of a week'\u001b[0m \u001b[0;34m,\u001b[0m \u001b[0mfontsize\u001b[0m\u001b[0;34m=\u001b[0m \u001b[0;36m30\u001b[0m\u001b[0;34m)\u001b[0m\u001b[0;34m\u001b[0m\u001b[0;34m\u001b[0m\u001b[0m\n\u001b[1;32m      4\u001b[0m \u001b[0mplt\u001b[0m\u001b[0;34m.\u001b[0m\u001b[0mgrid\u001b[0m\u001b[0;34m(\u001b[0m\u001b[0;32mFalse\u001b[0m\u001b[0;34m)\u001b[0m\u001b[0;34m\u001b[0m\u001b[0;34m\u001b[0m\u001b[0m\n\u001b[1;32m      5\u001b[0m \u001b[0mplt\u001b[0m\u001b[0;34m.\u001b[0m\u001b[0mylabel\u001b[0m\u001b[0;34m(\u001b[0m\u001b[0;34m'Accident count'\u001b[0m \u001b[0;34m,\u001b[0m \u001b[0mfontsize\u001b[0m \u001b[0;34m=\u001b[0m \u001b[0;36m20\u001b[0m\u001b[0;34m)\u001b[0m\u001b[0;34m\u001b[0m\u001b[0;34m\u001b[0m\u001b[0m\n",
            "\u001b[0;31mNameError\u001b[0m: name 'plt' is not defined"
          ]
        }
      ]
    },
    {
      "cell_type": "markdown",
      "id": "7dd9bfd9",
      "metadata": {
        "id": "7dd9bfd9"
      },
      "source": [
        "# ACCIDENT VS DAYTIME"
      ]
    },
    {
      "cell_type": "code",
      "execution_count": null,
      "id": "abd04749",
      "metadata": {
        "id": "abd04749"
      },
      "outputs": [],
      "source": [
        "# define a function that turns the hours into daytime groups\n",
        "def when_was_it(hour):\n",
        "    if hour >= 5 and hour < 10:\n",
        "        return \"morning rush (5-10)\"\n",
        "    elif hour >= 10 and hour < 15:\n",
        "        return \"office hours (10-15)\"\n",
        "    elif hour >= 15 and hour < 19:\n",
        "        return \"afternoon rush (15-19)\"\n",
        "    elif hour >= 19 and hour < 23:\n",
        "        return \"evening (19-23)\"\n",
        "    else:\n",
        "        return \"night (23-5)\""
      ]
    },
    {
      "cell_type": "code",
      "execution_count": null,
      "id": "2d5f4bb0",
      "metadata": {
        "colab": {
          "base_uri": "https://localhost:8080/",
          "height": 300
        },
        "id": "2d5f4bb0",
        "outputId": "50a64e60-f57c-4faa-cf9b-c3ce01042c44"
      },
      "outputs": [
        {
          "output_type": "execute_result",
          "data": {
            "text/plain": [
              "    Time  Hour                 Daytime\n",
              "0  17:50  17.0  afternoon rush (15-19)\n",
              "1  17:50  17.0  afternoon rush (15-19)\n",
              "2  17:50  17.0  afternoon rush (15-19)\n",
              "3  17:50  17.0  afternoon rush (15-19)\n",
              "4  17:50  17.0  afternoon rush (15-19)\n",
              "5  17:50  17.0  afternoon rush (15-19)\n",
              "6  21:45  21.0         evening (19-23)\n",
              "7  21:45  21.0         evening (19-23)"
            ],
            "text/html": [
              "\n",
              "  <div id=\"df-5b3806f5-3771-4d7d-9d67-551ea173cd8e\">\n",
              "    <div class=\"colab-df-container\">\n",
              "      <div>\n",
              "<style scoped>\n",
              "    .dataframe tbody tr th:only-of-type {\n",
              "        vertical-align: middle;\n",
              "    }\n",
              "\n",
              "    .dataframe tbody tr th {\n",
              "        vertical-align: top;\n",
              "    }\n",
              "\n",
              "    .dataframe thead th {\n",
              "        text-align: right;\n",
              "    }\n",
              "</style>\n",
              "<table border=\"1\" class=\"dataframe\">\n",
              "  <thead>\n",
              "    <tr style=\"text-align: right;\">\n",
              "      <th></th>\n",
              "      <th>Time</th>\n",
              "      <th>Hour</th>\n",
              "      <th>Daytime</th>\n",
              "    </tr>\n",
              "  </thead>\n",
              "  <tbody>\n",
              "    <tr>\n",
              "      <th>0</th>\n",
              "      <td>17:50</td>\n",
              "      <td>17.0</td>\n",
              "      <td>afternoon rush (15-19)</td>\n",
              "    </tr>\n",
              "    <tr>\n",
              "      <th>1</th>\n",
              "      <td>17:50</td>\n",
              "      <td>17.0</td>\n",
              "      <td>afternoon rush (15-19)</td>\n",
              "    </tr>\n",
              "    <tr>\n",
              "      <th>2</th>\n",
              "      <td>17:50</td>\n",
              "      <td>17.0</td>\n",
              "      <td>afternoon rush (15-19)</td>\n",
              "    </tr>\n",
              "    <tr>\n",
              "      <th>3</th>\n",
              "      <td>17:50</td>\n",
              "      <td>17.0</td>\n",
              "      <td>afternoon rush (15-19)</td>\n",
              "    </tr>\n",
              "    <tr>\n",
              "      <th>4</th>\n",
              "      <td>17:50</td>\n",
              "      <td>17.0</td>\n",
              "      <td>afternoon rush (15-19)</td>\n",
              "    </tr>\n",
              "    <tr>\n",
              "      <th>5</th>\n",
              "      <td>17:50</td>\n",
              "      <td>17.0</td>\n",
              "      <td>afternoon rush (15-19)</td>\n",
              "    </tr>\n",
              "    <tr>\n",
              "      <th>6</th>\n",
              "      <td>21:45</td>\n",
              "      <td>21.0</td>\n",
              "      <td>evening (19-23)</td>\n",
              "    </tr>\n",
              "    <tr>\n",
              "      <th>7</th>\n",
              "      <td>21:45</td>\n",
              "      <td>21.0</td>\n",
              "      <td>evening (19-23)</td>\n",
              "    </tr>\n",
              "  </tbody>\n",
              "</table>\n",
              "</div>\n",
              "      <button class=\"colab-df-convert\" onclick=\"convertToInteractive('df-5b3806f5-3771-4d7d-9d67-551ea173cd8e')\"\n",
              "              title=\"Convert this dataframe to an interactive table.\"\n",
              "              style=\"display:none;\">\n",
              "        \n",
              "  <svg xmlns=\"http://www.w3.org/2000/svg\" height=\"24px\"viewBox=\"0 0 24 24\"\n",
              "       width=\"24px\">\n",
              "    <path d=\"M0 0h24v24H0V0z\" fill=\"none\"/>\n",
              "    <path d=\"M18.56 5.44l.94 2.06.94-2.06 2.06-.94-2.06-.94-.94-2.06-.94 2.06-2.06.94zm-11 1L8.5 8.5l.94-2.06 2.06-.94-2.06-.94L8.5 2.5l-.94 2.06-2.06.94zm10 10l.94 2.06.94-2.06 2.06-.94-2.06-.94-.94-2.06-.94 2.06-2.06.94z\"/><path d=\"M17.41 7.96l-1.37-1.37c-.4-.4-.92-.59-1.43-.59-.52 0-1.04.2-1.43.59L10.3 9.45l-7.72 7.72c-.78.78-.78 2.05 0 2.83L4 21.41c.39.39.9.59 1.41.59.51 0 1.02-.2 1.41-.59l7.78-7.78 2.81-2.81c.8-.78.8-2.07 0-2.86zM5.41 20L4 18.59l7.72-7.72 1.47 1.35L5.41 20z\"/>\n",
              "  </svg>\n",
              "      </button>\n",
              "      \n",
              "  <style>\n",
              "    .colab-df-container {\n",
              "      display:flex;\n",
              "      flex-wrap:wrap;\n",
              "      gap: 12px;\n",
              "    }\n",
              "\n",
              "    .colab-df-convert {\n",
              "      background-color: #E8F0FE;\n",
              "      border: none;\n",
              "      border-radius: 50%;\n",
              "      cursor: pointer;\n",
              "      display: none;\n",
              "      fill: #1967D2;\n",
              "      height: 32px;\n",
              "      padding: 0 0 0 0;\n",
              "      width: 32px;\n",
              "    }\n",
              "\n",
              "    .colab-df-convert:hover {\n",
              "      background-color: #E2EBFA;\n",
              "      box-shadow: 0px 1px 2px rgba(60, 64, 67, 0.3), 0px 1px 3px 1px rgba(60, 64, 67, 0.15);\n",
              "      fill: #174EA6;\n",
              "    }\n",
              "\n",
              "    [theme=dark] .colab-df-convert {\n",
              "      background-color: #3B4455;\n",
              "      fill: #D2E3FC;\n",
              "    }\n",
              "\n",
              "    [theme=dark] .colab-df-convert:hover {\n",
              "      background-color: #434B5C;\n",
              "      box-shadow: 0px 1px 3px 1px rgba(0, 0, 0, 0.15);\n",
              "      filter: drop-shadow(0px 1px 2px rgba(0, 0, 0, 0.3));\n",
              "      fill: #FFFFFF;\n",
              "    }\n",
              "  </style>\n",
              "\n",
              "      <script>\n",
              "        const buttonEl =\n",
              "          document.querySelector('#df-5b3806f5-3771-4d7d-9d67-551ea173cd8e button.colab-df-convert');\n",
              "        buttonEl.style.display =\n",
              "          google.colab.kernel.accessAllowed ? 'block' : 'none';\n",
              "\n",
              "        async function convertToInteractive(key) {\n",
              "          const element = document.querySelector('#df-5b3806f5-3771-4d7d-9d67-551ea173cd8e');\n",
              "          const dataTable =\n",
              "            await google.colab.kernel.invokeFunction('convertToInteractive',\n",
              "                                                     [key], {});\n",
              "          if (!dataTable) return;\n",
              "\n",
              "          const docLinkHtml = 'Like what you see? Visit the ' +\n",
              "            '<a target=\"_blank\" href=https://colab.research.google.com/notebooks/data_table.ipynb>data table notebook</a>'\n",
              "            + ' to learn more about interactive tables.';\n",
              "          element.innerHTML = '';\n",
              "          dataTable['output_type'] = 'display_data';\n",
              "          await google.colab.output.renderOutput(dataTable, element);\n",
              "          const docLink = document.createElement('div');\n",
              "          docLink.innerHTML = docLinkHtml;\n",
              "          element.appendChild(docLink);\n",
              "        }\n",
              "      </script>\n",
              "    </div>\n",
              "  </div>\n",
              "  "
            ]
          },
          "metadata": {},
          "execution_count": 222
        }
      ],
      "source": [
        "# apply thus function to our temporary hour column\n",
        "df['Daytime'] = df['Hour'].apply(when_was_it)\n",
        "df[['Time', 'Hour', 'Daytime']].head(8)\n",
        "# drop old time column and temporary hour column\n",
        "#accidents = accidents.drop(columns=['Time', 'Hour'])"
      ]
    },
    {
      "cell_type": "code",
      "execution_count": null,
      "id": "938a6912",
      "metadata": {
        "colab": {
          "base_uri": "https://localhost:8080/",
          "height": 395
        },
        "id": "938a6912",
        "outputId": "4e32f80f-44f7-4d0b-94b4-1301b491c090"
      },
      "outputs": [
        {
          "output_type": "display_data",
          "data": {
            "text/plain": [
              "<Figure size 720x360 with 1 Axes>"
            ],
            "image/png": "[encoded data removed]"
          },
          "metadata": {}
        }
      ],
      "source": [
        "# prepare dataframe\n",
        "order = ['night (23-5)', 'evening (19-23)', 'afternoon rush (15-19)', 'office hours (10-15)', 'morning rush (5-10)']\n",
        "df_sub = df.groupby('Daytime').size().reindex(order)\n",
        "\n",
        "# prepare barplot\n",
        "fig, ax = plt.subplots(figsize=(10, 5))\n",
        "colors = ['lightsteelblue', 'lightsteelblue', 'navy', 'lightsteelblue', 'lightsteelblue']\n",
        "\n",
        "# plot\n",
        "df_sub.plot(kind='barh', ax=ax, color=colors)\n",
        "ax.set_title('\\nAccidents depending by Daytime\\n', fontsize=14, fontweight='bold')\n",
        "ax.set(xlabel='\\nTotal Count of Accidents', ylabel='')\n",
        "\n",
        "# remove all spines\n",
        "sns.despine(top=True, right=True, left=True, bottom=True);"
      ]
    },
    {
      "cell_type": "markdown",
      "id": "fd3b9ce2",
      "metadata": {
        "id": "fd3b9ce2"
      },
      "source": [
        "# ACIDENT SEVERITY BY DAYTIME"
      ]
    },
    {
      "cell_type": "code",
      "execution_count": null,
      "id": "b5fac414",
      "metadata": {
        "colab": {
          "base_uri": "https://localhost:8080/",
          "height": 238
        },
        "id": "b5fac414",
        "outputId": "022d513d-2655-440c-b8f4-a138a30464a9"
      },
      "outputs": [
        {
          "output_type": "execute_result",
          "data": {
            "text/plain": [
              "Accident_Severity       fatal  serious  slight\n",
              "Daytime                                       \n",
              "afternoon rush (15-19)   1400    13212   52849\n",
              "evening (19-23)           818     7147   24059\n",
              "morning rush (5-10)       561     7064   29797\n",
              "night (23-5)              456     3911    9777\n",
              "office hours (10-15)     1308    12035   46046"
            ],
            "text/html": [
              "\n",
              "  <div id=\"df-3e7fa238-2ffd-4c60-a935-cc06c56a6e3f\">\n",
              "    <div class=\"colab-df-container\">\n",
              "      <div>\n",
              "<style scoped>\n",
              "    .dataframe tbody tr th:only-of-type {\n",
              "        vertical-align: middle;\n",
              "    }\n",
              "\n",
              "    .dataframe tbody tr th {\n",
              "        vertical-align: top;\n",
              "    }\n",
              "\n",
              "    .dataframe thead th {\n",
              "        text-align: right;\n",
              "    }\n",
              "</style>\n",
              "<table border=\"1\" class=\"dataframe\">\n",
              "  <thead>\n",
              "    <tr style=\"text-align: right;\">\n",
              "      <th>Accident_Severity</th>\n",
              "      <th>fatal</th>\n",
              "      <th>serious</th>\n",
              "      <th>slight</th>\n",
              "    </tr>\n",
              "    <tr>\n",
              "      <th>Daytime</th>\n",
              "      <th></th>\n",
              "      <th></th>\n",
              "      <th></th>\n",
              "    </tr>\n",
              "  </thead>\n",
              "  <tbody>\n",
              "    <tr>\n",
              "      <th>afternoon rush (15-19)</th>\n",
              "      <td>1400</td>\n",
              "      <td>13212</td>\n",
              "      <td>52849</td>\n",
              "    </tr>\n",
              "    <tr>\n",
              "      <th>evening (19-23)</th>\n",
              "      <td>818</td>\n",
              "      <td>7147</td>\n",
              "      <td>24059</td>\n",
              "    </tr>\n",
              "    <tr>\n",
              "      <th>morning rush (5-10)</th>\n",
              "      <td>561</td>\n",
              "      <td>7064</td>\n",
              "      <td>29797</td>\n",
              "    </tr>\n",
              "    <tr>\n",
              "      <th>night (23-5)</th>\n",
              "      <td>456</td>\n",
              "      <td>3911</td>\n",
              "      <td>9777</td>\n",
              "    </tr>\n",
              "    <tr>\n",
              "      <th>office hours (10-15)</th>\n",
              "      <td>1308</td>\n",
              "      <td>12035</td>\n",
              "      <td>46046</td>\n",
              "    </tr>\n",
              "  </tbody>\n",
              "</table>\n",
              "</div>\n",
              "      <button class=\"colab-df-convert\" onclick=\"convertToInteractive('df-3e7fa238-2ffd-4c60-a935-cc06c56a6e3f')\"\n",
              "              title=\"Convert this dataframe to an interactive table.\"\n",
              "              style=\"display:none;\">\n",
              "        \n",
              "  <svg xmlns=\"http://www.w3.org/2000/svg\" height=\"24px\"viewBox=\"0 0 24 24\"\n",
              "       width=\"24px\">\n",
              "    <path d=\"M0 0h24v24H0V0z\" fill=\"none\"/>\n",
              "    <path d=\"M18.56 5.44l.94 2.06.94-2.06 2.06-.94-2.06-.94-.94-2.06-.94 2.06-2.06.94zm-11 1L8.5 8.5l.94-2.06 2.06-.94-2.06-.94L8.5 2.5l-.94 2.06-2.06.94zm10 10l.94 2.06.94-2.06 2.06-.94-2.06-.94-.94-2.06-.94 2.06-2.06.94z\"/><path d=\"M17.41 7.96l-1.37-1.37c-.4-.4-.92-.59-1.43-.59-.52 0-1.04.2-1.43.59L10.3 9.45l-7.72 7.72c-.78.78-.78 2.05 0 2.83L4 21.41c.39.39.9.59 1.41.59.51 0 1.02-.2 1.41-.59l7.78-7.78 2.81-2.81c.8-.78.8-2.07 0-2.86zM5.41 20L4 18.59l7.72-7.72 1.47 1.35L5.41 20z\"/>\n",
              "  </svg>\n",
              "      </button>\n",
              "      \n",
              "  <style>\n",
              "    .colab-df-container {\n",
              "      display:flex;\n",
              "      flex-wrap:wrap;\n",
              "      gap: 12px;\n",
              "    }\n",
              "\n",
              "    .colab-df-convert {\n",
              "      background-color: #E8F0FE;\n",
              "      border: none;\n",
              "      border-radius: 50%;\n",
              "      cursor: pointer;\n",
              "      display: none;\n",
              "      fill: #1967D2;\n",
              "      height: 32px;\n",
              "      padding: 0 0 0 0;\n",
              "      width: 32px;\n",
              "    }\n",
              "\n",
              "    .colab-df-convert:hover {\n",
              "      background-color: #E2EBFA;\n",
              "      box-shadow: 0px 1px 2px rgba(60, 64, 67, 0.3), 0px 1px 3px 1px rgba(60, 64, 67, 0.15);\n",
              "      fill: #174EA6;\n",
              "    }\n",
              "\n",
              "    [theme=dark] .colab-df-convert {\n",
              "      background-color: #3B4455;\n",
              "      fill: #D2E3FC;\n",
              "    }\n",
              "\n",
              "    [theme=dark] .colab-df-convert:hover {\n",
              "      background-color: #434B5C;\n",
              "      box-shadow: 0px 1px 3px 1px rgba(0, 0, 0, 0.15);\n",
              "      filter: drop-shadow(0px 1px 2px rgba(0, 0, 0, 0.3));\n",
              "      fill: #FFFFFF;\n",
              "    }\n",
              "  </style>\n",
              "\n",
              "      <script>\n",
              "        const buttonEl =\n",
              "          document.querySelector('#df-3e7fa238-2ffd-4c60-a935-cc06c56a6e3f button.colab-df-convert');\n",
              "        buttonEl.style.display =\n",
              "          google.colab.kernel.accessAllowed ? 'block' : 'none';\n",
              "\n",
              "        async function convertToInteractive(key) {\n",
              "          const element = document.querySelector('#df-3e7fa238-2ffd-4c60-a935-cc06c56a6e3f');\n",
              "          const dataTable =\n",
              "            await google.colab.kernel.invokeFunction('convertToInteractive',\n",
              "                                                     [key], {});\n",
              "          if (!dataTable) return;\n",
              "\n",
              "          const docLinkHtml = 'Like what you see? Visit the ' +\n",
              "            '<a target=\"_blank\" href=https://colab.research.google.com/notebooks/data_table.ipynb>data table notebook</a>'\n",
              "            + ' to learn more about interactive tables.';\n",
              "          element.innerHTML = '';\n",
              "          dataTable['output_type'] = 'display_data';\n",
              "          await google.colab.output.renderOutput(dataTable, element);\n",
              "          const docLink = document.createElement('div');\n",
              "          docLink.innerHTML = docLinkHtml;\n",
              "          element.appendChild(docLink);\n",
              "        }\n",
              "      </script>\n",
              "    </div>\n",
              "  </div>\n",
              "  "
            ]
          },
          "metadata": {},
          "execution_count": 224
        }
      ],
      "source": [
        "# prepare dataframe with simple counts\n",
        "counts = df.groupby(['Daytime', 'Accident_Severity']).size()\n",
        "\n",
        "counts = counts.rename_axis(['Daytime', 'Accident_Severity'])\\\n",
        "                                .unstack('Accident_Severity')\\\n",
        "                                .rename({1:'fatal', 2:'serious', 3:'slight'}, axis='columns')\n",
        "counts"
      ]
    },
    {
      "cell_type": "code",
      "execution_count": null,
      "id": "62275203",
      "metadata": {
        "colab": {
          "base_uri": "https://localhost:8080/",
          "height": 238
        },
        "id": "62275203",
        "outputId": "18806282-ef42-4f45-fb0c-a69bd2cea3ea"
      },
      "outputs": [
        {
          "output_type": "execute_result",
          "data": {
            "text/plain": [
              "Accident_Severity       fatal in %  serious in %  slight in %\n",
              "Daytime                                                      \n",
              "afternoon rush (15-19)    0.020753      0.195846     0.783401\n",
              "evening (19-23)           0.025543      0.223176     0.751280\n",
              "morning rush (5-10)       0.014991      0.188766     0.796243\n",
              "night (23-5)              0.032240      0.276513     0.691247\n",
              "office hours (10-15)      0.022024      0.202647     0.775329"
            ],
            "text/html": [
              "\n",
              "  <div id=\"df-99991e76-d71a-42b4-b25b-f3dd3efc08a6\">\n",
              "    <div class=\"colab-df-container\">\n",
              "      <div>\n",
              "<style scoped>\n",
              "    .dataframe tbody tr th:only-of-type {\n",
              "        vertical-align: middle;\n",
              "    }\n",
              "\n",
              "    .dataframe tbody tr th {\n",
              "        vertical-align: top;\n",
              "    }\n",
              "\n",
              "    .dataframe thead th {\n",
              "        text-align: right;\n",
              "    }\n",
              "</style>\n",
              "<table border=\"1\" class=\"dataframe\">\n",
              "  <thead>\n",
              "    <tr style=\"text-align: right;\">\n",
              "      <th>Accident_Severity</th>\n",
              "      <th>fatal in %</th>\n",
              "      <th>serious in %</th>\n",
              "      <th>slight in %</th>\n",
              "    </tr>\n",
              "    <tr>\n",
              "      <th>Daytime</th>\n",
              "      <th></th>\n",
              "      <th></th>\n",
              "      <th></th>\n",
              "    </tr>\n",
              "  </thead>\n",
              "  <tbody>\n",
              "    <tr>\n",
              "      <th>afternoon rush (15-19)</th>\n",
              "      <td>0.020753</td>\n",
              "      <td>0.195846</td>\n",
              "      <td>0.783401</td>\n",
              "    </tr>\n",
              "    <tr>\n",
              "      <th>evening (19-23)</th>\n",
              "      <td>0.025543</td>\n",
              "      <td>0.223176</td>\n",
              "      <td>0.751280</td>\n",
              "    </tr>\n",
              "    <tr>\n",
              "      <th>morning rush (5-10)</th>\n",
              "      <td>0.014991</td>\n",
              "      <td>0.188766</td>\n",
              "      <td>0.796243</td>\n",
              "    </tr>\n",
              "    <tr>\n",
              "      <th>night (23-5)</th>\n",
              "      <td>0.032240</td>\n",
              "      <td>0.276513</td>\n",
              "      <td>0.691247</td>\n",
              "    </tr>\n",
              "    <tr>\n",
              "      <th>office hours (10-15)</th>\n",
              "      <td>0.022024</td>\n",
              "      <td>0.202647</td>\n",
              "      <td>0.775329</td>\n",
              "    </tr>\n",
              "  </tbody>\n",
              "</table>\n",
              "</div>\n",
              "      <button class=\"colab-df-convert\" onclick=\"convertToInteractive('df-99991e76-d71a-42b4-b25b-f3dd3efc08a6')\"\n",
              "              title=\"Convert this dataframe to an interactive table.\"\n",
              "              style=\"display:none;\">\n",
              "        \n",
              "  <svg xmlns=\"http://www.w3.org/2000/svg\" height=\"24px\"viewBox=\"0 0 24 24\"\n",
              "       width=\"24px\">\n",
              "    <path d=\"M0 0h24v24H0V0z\" fill=\"none\"/>\n",
              "    <path d=\"M18.56 5.44l.94 2.06.94-2.06 2.06-.94-2.06-.94-.94-2.06-.94 2.06-2.06.94zm-11 1L8.5 8.5l.94-2.06 2.06-.94-2.06-.94L8.5 2.5l-.94 2.06-2.06.94zm10 10l.94 2.06.94-2.06 2.06-.94-2.06-.94-.94-2.06-.94 2.06-2.06.94z\"/><path d=\"M17.41 7.96l-1.37-1.37c-.4-.4-.92-.59-1.43-.59-.52 0-1.04.2-1.43.59L10.3 9.45l-7.72 7.72c-.78.78-.78 2.05 0 2.83L4 21.41c.39.39.9.59 1.41.59.51 0 1.02-.2 1.41-.59l7.78-7.78 2.81-2.81c.8-.78.8-2.07 0-2.86zM5.41 20L4 18.59l7.72-7.72 1.47 1.35L5.41 20z\"/>\n",
              "  </svg>\n",
              "      </button>\n",
              "      \n",
              "  <style>\n",
              "    .colab-df-container {\n",
              "      display:flex;\n",
              "      flex-wrap:wrap;\n",
              "      gap: 12px;\n",
              "    }\n",
              "\n",
              "    .colab-df-convert {\n",
              "      background-color: #E8F0FE;\n",
              "      border: none;\n",
              "      border-radius: 50%;\n",
              "      cursor: pointer;\n",
              "      display: none;\n",
              "      fill: #1967D2;\n",
              "      height: 32px;\n",
              "      padding: 0 0 0 0;\n",
              "      width: 32px;\n",
              "    }\n",
              "\n",
              "    .colab-df-convert:hover {\n",
              "      background-color: #E2EBFA;\n",
              "      box-shadow: 0px 1px 2px rgba(60, 64, 67, 0.3), 0px 1px 3px 1px rgba(60, 64, 67, 0.15);\n",
              "      fill: #174EA6;\n",
              "    }\n",
              "\n",
              "    [theme=dark] .colab-df-convert {\n",
              "      background-color: #3B4455;\n",
              "      fill: #D2E3FC;\n",
              "    }\n",
              "\n",
              "    [theme=dark] .colab-df-convert:hover {\n",
              "      background-color: #434B5C;\n",
              "      box-shadow: 0px 1px 3px 1px rgba(0, 0, 0, 0.15);\n",
              "      filter: drop-shadow(0px 1px 2px rgba(0, 0, 0, 0.3));\n",
              "      fill: #FFFFFF;\n",
              "    }\n",
              "  </style>\n",
              "\n",
              "      <script>\n",
              "        const buttonEl =\n",
              "          document.querySelector('#df-99991e76-d71a-42b4-b25b-f3dd3efc08a6 button.colab-df-convert');\n",
              "        buttonEl.style.display =\n",
              "          google.colab.kernel.accessAllowed ? 'block' : 'none';\n",
              "\n",
              "        async function convertToInteractive(key) {\n",
              "          const element = document.querySelector('#df-99991e76-d71a-42b4-b25b-f3dd3efc08a6');\n",
              "          const dataTable =\n",
              "            await google.colab.kernel.invokeFunction('convertToInteractive',\n",
              "                                                     [key], {});\n",
              "          if (!dataTable) return;\n",
              "\n",
              "          const docLinkHtml = 'Like what you see? Visit the ' +\n",
              "            '<a target=\"_blank\" href=https://colab.research.google.com/notebooks/data_table.ipynb>data table notebook</a>'\n",
              "            + ' to learn more about interactive tables.';\n",
              "          element.innerHTML = '';\n",
              "          dataTable['output_type'] = 'display_data';\n",
              "          await google.colab.output.renderOutput(dataTable, element);\n",
              "          const docLink = document.createElement('div');\n",
              "          docLink.innerHTML = docLinkHtml;\n",
              "          element.appendChild(docLink);\n",
              "        }\n",
              "      </script>\n",
              "    </div>\n",
              "  </div>\n",
              "  "
            ]
          },
          "metadata": {},
          "execution_count": 225
        }
      ],
      "source": [
        "# prepare dataframe with shares\n",
        "counts['sum'] = counts.sum(axis=1)\n",
        "counts = counts.join(counts.div(counts['sum'], axis=0), rsuffix=' in %')\n",
        "counts_share = counts.drop(columns=['fatal', 'serious', 'slight', 'sum', 'sum in %'], axis=1)\n",
        "counts_share"
      ]
    },
    {
      "cell_type": "code",
      "execution_count": null,
      "id": "4ad346fe",
      "metadata": {
        "colab": {
          "base_uri": "https://localhost:8080/",
          "height": 383
        },
        "id": "4ad346fe",
        "outputId": "eb8f6698-d208-48e0-bd6b-9eddea9f62a3"
      },
      "outputs": [
        {
          "output_type": "display_data",
          "data": {
            "text/plain": [
              "<Figure size 720x360 with 1 Axes>"
            ],
            "image/png": "[encoded data removed]"
          },
          "metadata": {}
        }
      ],
      "source": [
        "# prepare barplot\n",
        "fig, ax = plt.subplots(figsize=(10, 5))\n",
        "\n",
        "# plot\n",
        "counts_share.reindex(order).plot(kind='barh', ax=ax, stacked=True, cmap='cividis')\n",
        "ax.set_title('\\nAccident Severity by Daytime\\n', fontsize=14, fontweight='bold')\n",
        "ax.set(xlabel='Percentage', ylabel='')\n",
        "ax.legend(bbox_to_anchor=(1.25, 0.98), frameon=False)\n",
        "\n",
        "# remove all spines\n",
        "sns.despine(top=True, right=True, left=True, bottom=True);"
      ]
    },
    {
      "cell_type": "markdown",
      "id": "93705c07",
      "metadata": {
        "id": "93705c07"
      },
      "source": [
        "# ACCIDENTS & WEATHER CONDITIONS"
      ]
    },
    {
      "cell_type": "code",
      "source": [
        "accidentdata['Weather_Conditions'].hist()"
      ],
      "metadata": {
        "colab": {
          "base_uri": "https://localhost:8080/",
          "height": 282
        },
        "id": "hHnlrfibbjMA",
        "outputId": "c54015d3-7875-4382-b358-fa3c17feb636"
      },
      "id": "hHnlrfibbjMA",
      "execution_count": null,
      "outputs": [
        {
          "output_type": "execute_result",
          "data": {
            "text/plain": [
              "<matplotlib.axes._subplots.AxesSubplot at 0x7f24fe0fa5d0>"
            ]
          },
          "metadata": {},
          "execution_count": 227
        },
        {
          "output_type": "display_data",
          "data": {
            "text/plain": [
              "<Figure size 432x288 with 1 Axes>"
            ],
            "image/png": "[encoded data removed]"
          },
          "metadata": {}
        }
      ]
    },
    {
      "cell_type": "markdown",
      "id": "a02966fe",
      "metadata": {
        "id": "a02966fe"
      },
      "source": [
        "# Accidents & vehicle types"
      ]
    },
    {
      "cell_type": "code",
      "execution_count": null,
      "id": "055f7986",
      "metadata": {
        "id": "055f7986"
      },
      "outputs": [],
      "source": [
        "#ENGINE CAPACITY"
      ]
    },
    {
      "cell_type": "code",
      "execution_count": null,
      "id": "50339e84",
      "metadata": {
        "colab": {
          "base_uri": "https://localhost:8080/",
          "height": 386
        },
        "id": "50339e84",
        "outputId": "c7e4403b-1a5a-46a9-d615-b6d16d4e589b"
      },
      "outputs": [
        {
          "output_type": "display_data",
          "data": {
            "text/plain": [
              "<Figure size 360x360 with 1 Axes>"
            ],
            "image/png": "[encoded data removed]"
          },
          "metadata": {}
        },
        {
          "output_type": "display_data",
          "data": {
            "text/plain": [
              "<Figure size 432x288 with 0 Axes>"
            ]
          },
          "metadata": {}
        }
      ],
      "source": [
        "#AGE OF VEHICLES\n",
        "sns.displot(df['Age_of_Vehicle']);\n",
        "fig = plt.figure()"
      ]
    },
    {
      "cell_type": "markdown",
      "source": [
        "age of vehicle/ age of driver"
      ],
      "metadata": {
        "id": "zAAyJmScjvss"
      },
      "id": "zAAyJmScjvss"
    },
    {
      "cell_type": "code",
      "source": [
        "df['Age_of_Driver'] = np.log(df['Age_of_Driver'])\n",
        "df['Age_of_Vehicle'] = np.log(df['Age_of_Vehicle'])\n",
        "sns.distplot(df['Age_of_Driver']);\n",
        "fig = plt.figure()\n",
        "sns.distplot(df['Age_of_Vehicle']);\n",
        "fig = plt.figure()"
      ],
      "metadata": {
        "colab": {
          "base_uri": "https://localhost:8080/",
          "height": 560
        },
        "id": "SDyWSY7Vjt7i",
        "outputId": "d526120a-445d-4a6e-ba26-041c32489375"
      },
      "id": "SDyWSY7Vjt7i",
      "execution_count": null,
      "outputs": [
        {
          "output_type": "display_data",
          "data": {
            "text/plain": [
              "<Figure size 432x288 with 1 Axes>"
            ],
            "image/png": "[encoded data removed]"
          },
          "metadata": {}
        },
        {
          "output_type": "display_data",
          "data": {
            "text/plain": [
              "<Figure size 432x288 with 1 Axes>"
            ],
            "image/png": "[encoded data removed]"
          },
          "metadata": {}
        },
        {
          "output_type": "display_data",
          "data": {
            "text/plain": [
              "<Figure size 432x288 with 0 Axes>"
            ]
          },
          "metadata": {}
        }
      ]
    },
    {
      "cell_type": "markdown",
      "source": [
        ""
      ],
      "metadata": {
        "id": "JFvIcQJ5nwz5"
      },
      "id": "JFvIcQJ5nwz5"
    },
    {
      "cell_type": "code",
      "source": [
        "# check speed limit\n",
        "df.groupby('Speed_limit')['Number_of_Casualties'].mean().plot(kind='bar', color='slategrey', \n",
        "                                                              figsize=(15,4), grid=False)\n",
        "plt.xticks(np.arange(8), \n",
        "           ['None', '10mph', '20mph', '30mph', '40mph', '50mph', '60mph', '70mph'], \n",
        "           rotation='horizontal')\n",
        "plt.ylim((0.6,1.6))\n",
        "plt.xlabel(''), plt.ylabel('Average Number of Casualties\\n')\n",
        "plt.title('\\nAverage Number of Casualties by Speed Limit\\n', fontweight='bold')\n",
        "sns.despine(top=True, right=True, left=True, bottom=True);"
      ],
      "metadata": {
        "colab": {
          "base_uri": "https://localhost:8080/",
          "height": 311
        },
        "id": "54TkG9VRnu6S",
        "outputId": "e2ea447f-19dd-4b2f-e62a-486cc024fa08"
      },
      "id": "54TkG9VRnu6S",
      "execution_count": null,
      "outputs": [
        {
          "output_type": "display_data",
          "data": {
            "text/plain": [
              "<Figure size 1080x288 with 1 Axes>"
            ],
            "image/png": "[encoded data removed]"
          },
          "metadata": {}
        }
      ]
    },
    {
      "cell_type": "code",
      "source": [
        "# check road type\n",
        "df.groupby('Road_Type')['Number_of_Casualties'].mean().plot(kind='bar', color='slategrey', \n",
        "                                                            figsize=(12,4), grid=False)\n",
        "plt.xticks(np.arange(6), \n",
        "           ['Roundabout', 'One way street', 'Dual carriageway', 'Single carriageway', 'Slip road', 'Unknown'], \n",
        "           rotation='horizontal')\n",
        "plt.ylim((1,1.5))\n",
        "plt.xlabel(''), plt.ylabel('Average Number of Casualties\\n')\n",
        "plt.title('\\nAverage Number of Casualties by Road Type\\n', fontweight='bold')\n",
        "sns.despine(top=True, right=True, left=True, bottom=True);"
      ],
      "metadata": {
        "colab": {
          "base_uri": "https://localhost:8080/",
          "height": 311
        },
        "id": "_z19MtZuoTUl",
        "outputId": "82ca34a2-3294-4da2-80e3-c834a8afdbd8"
      },
      "id": "_z19MtZuoTUl",
      "execution_count": null,
      "outputs": [
        {
          "output_type": "display_data",
          "data": {
            "text/plain": [
              "<Figure size 864x288 with 1 Axes>"
            ],
            "image/png": "[encoded data removed]"
          },
          "metadata": {}
        }
      ]
    },
    {
      "cell_type": "markdown",
      "id": "ed9de9d2",
      "metadata": {
        "id": "ed9de9d2"
      },
      "source": [
        "# HYPOTHESIS TESTING\n",
        "#\tWhat impact, if any, does daylight savings have on road traffic accidents in the week after it starts and stops?\n",
        "#\tWhat impact, if any, does sunrise and sunset times have on road traffic accidents?\n",
        "\n",
        "h0-  daylight savings has an impact on road accidents\n",
        "h1- there is no impact of dalight saving on road accidents\n",
        "h0-Sunrise and Sunset times impact on Road traffic accidents\n",
        "h1-Sunrise and Sunset times do not impact on Road traffic accidents"
      ]
    },
    {
      "cell_type": "code",
      "execution_count": null,
      "id": "0101457c",
      "metadata": {
        "id": "0101457c"
      },
      "outputs": [],
      "source": [
        "# df_chi = pd.read_csv('chi-test.csv')\n",
        "# contingency_table=pd.crosstab(df_chi[\"Gender\"],df_chi[\"Shopping?\"])\n",
        "# print('contingency_table :-\\n',contingency_table)\n",
        "# #Observed Values\n",
        "# Observed_Values = contingency_table.values \n",
        "# print(\"Observed Values :-\\n\",Observed_Values)\n",
        "# b=stats.chi2_contingency(contingency_table)\n",
        "# Expected_Values = b[3]\n",
        "# print(\"Expected Values :-\\n\",Expected_Values)\n",
        "# no_of_rows=len(contingency_table.iloc[0:2,0])\n",
        "# no_of_columns=len(contingency_table.iloc[0,0:2])\n",
        "# ddof=(no_of_rows-1)*(no_of_columns-1)\n",
        "# print(\"Degree of Freedom:-\",ddof)\n",
        "# alpha = 0.05\n",
        "# from scipy.stats import chi2\n",
        "# chi_square=sum([(o-e)**2./e for o,e in zip(Observed_Values,Expected_Values)])\n",
        "# chi_square_statistic=chi_square[0]+chi_square[1]\n",
        "# print(\"chi-square statistic:-\",chi_square_statistic)\n",
        "# critical_value=chi2.ppf(q=1-alpha,df=ddof)\n",
        "# print('critical_value:',critical_value)\n",
        "# #p-value\n",
        "# p_value=1-chi2.cdf(x=chi_square_statistic,df=ddof)\n",
        "# print('p-value:',p_value)\n",
        "# print('Significance level: ',alpha)\n",
        "# print('Degree of Freedom: ',ddof)\n",
        "# print('chi-square statistic:',chi_square_statistic)\n",
        "# print('critical_value:',critical_value)\n",
        "# print('p-value:',p_value)\n",
        "# if chi_square_statistic>=critical_value:\n",
        "#     print(\"Reject H0,There is a relationship between 2 categorical variables\")\n",
        "# else:\n",
        "#     print(\"Retain H0,There is no relationship between 2 categorical variables\")\n",
        "    \n",
        "# if p_value<=alpha:\n",
        "#     print(\"Reject H0,There is a relationship between 2 categorical variables\")\n",
        "# else:\n",
        "#     print(\"Retain H0,There is no relationship between 2 categorical variables\")"
      ]
    },
    {
      "cell_type": "markdown",
      "id": "51bd39b1",
      "metadata": {
        "id": "51bd39b1"
      },
      "source": [
        "# CLUSTERING, FEATURE ENGINEERING & PCA\n",
        "(f)\tAre there particular types of vehicles (colour, makes, etc.) that are more frequently involved in road traffic accidents?\n",
        "(g)\tAre there particular conditions (weather, geographic location, situations) that generate more road traffic accidents?\n",
        "(h)\tHow do alcohol or drugs (i.e., driving under the influence) affect road traffic accidents?"
      ]
    },
    {
      "cell_type": "markdown",
      "source": [
        "# Geograhic clustering using kmeans\n",
        "\n"
      ],
      "metadata": {
        "id": "3v_RcuyjDXao"
      },
      "id": "3v_RcuyjDXao"
    },
    {
      "cell_type": "code",
      "source": [
        "from sklearn.cluster import KMeans"
      ],
      "metadata": {
        "id": "jcb5L2R7nRRt"
      },
      "id": "jcb5L2R7nRRt",
      "execution_count": null,
      "outputs": []
    },
    {
      "cell_type": "code",
      "source": [
        "#Use k-means on the geographic coordinates with the number of clusters = 25 and see what happens\n",
        "cordinates = df[['Longitude','Latitude']]"
      ],
      "metadata": {
        "id": "KrZPS6tXEWue"
      },
      "id": "KrZPS6tXEWue",
      "execution_count": null,
      "outputs": []
    },
    {
      "cell_type": "code",
      "source": [
        "kmeans = KMeans(n_clusters= 25)\n",
        "kmeans.fit(cordinates)"
      ],
      "metadata": {
        "colab": {
          "base_uri": "https://localhost:8080/"
        },
        "id": "WASn0nUrEW3S",
        "outputId": "ad855409-6660-4af3-93d2-3df473157959"
      },
      "id": "WASn0nUrEW3S",
      "execution_count": null,
      "outputs": [
        {
          "output_type": "execute_result",
          "data": {
            "text/plain": [
              "KMeans(n_clusters=25)"
            ]
          },
          "metadata": {},
          "execution_count": 236
        }
      ]
    },
    {
      "cell_type": "code",
      "source": [
        "labels = kmeans.predict(cordinates)"
      ],
      "metadata": {
        "id": "-q3UAZCTEmCR"
      },
      "id": "-q3UAZCTEmCR",
      "execution_count": null,
      "outputs": []
    },
    {
      "cell_type": "code",
      "source": [
        "centroids = kmeans.cluster_centers_"
      ],
      "metadata": {
        "id": "4xSEeAO7ErG5"
      },
      "id": "4xSEeAO7ErG5",
      "execution_count": null,
      "outputs": []
    },
    {
      "cell_type": "code",
      "source": [
        "fig = plt.figure(figsize = (10,15))\n",
        "colors = map(lambda x: colmap[x+1],labels)\n",
        "plt.scatter(cordinates['Longitude'], cordinates['Latitude'], color = 'blue')\n",
        "#plt.xlim(-10, 10)\n",
        "#plt.ylim(-10, 1500)\n",
        "plt.scatter(centroids[:,0],centroids[:,1], color = 'orange')\n",
        "plt.show()"
      ],
      "metadata": {
        "colab": {
          "base_uri": "https://localhost:8080/",
          "height": 863
        },
        "id": "vXB0d9pbEy0y",
        "outputId": "294e5a46-adde-4bb4-f405-3fba37d73e91"
      },
      "id": "vXB0d9pbEy0y",
      "execution_count": null,
      "outputs": [
        {
          "output_type": "display_data",
          "data": {
            "text/plain": [
              "<Figure size 720x1080 with 1 Axes>"
            ],
            "image/png": "[encoded data removed]"
          },
          "metadata": {}
        }
      ]
    },
    {
      "cell_type": "code",
      "source": [
        "# we now get the inertia to get the right k \n",
        "kmeans.inertia_"
      ],
      "metadata": {
        "colab": {
          "base_uri": "https://localhost:8080/"
        },
        "id": "kd5NXDdTE7mM",
        "outputId": "4c700990-3639-4aff-d328-92a8e1817202"
      },
      "id": "kd5NXDdTE7mM",
      "execution_count": null,
      "outputs": [
        {
          "output_type": "execute_result",
          "data": {
            "text/plain": [
              "18919.13183812167"
            ]
          },
          "metadata": {},
          "execution_count": 240
        }
      ]
    },
    {
      "cell_type": "code",
      "source": [
        "# to get the optimal k, we check for the elbow\n",
        "cluster_list = []\n",
        "\n",
        "for i in range (1, 10):\n",
        "  k_means = KMeans(n_clusters = i)\n",
        "  k_means.fit(cordinates)\n",
        "  cluster_list.append(k_means.inertia_)\n",
        "\n",
        "plt.figure()\n",
        "plt.plot(range(1,10), cluster_list)\n",
        "plt.show()"
      ],
      "metadata": {
        "colab": {
          "base_uri": "https://localhost:8080/",
          "height": 265
        },
        "id": "OgejLTEDFHG7",
        "outputId": "59898ed1-f9a0-4c50-da40-bb433d0a5728"
      },
      "id": "OgejLTEDFHG7",
      "execution_count": null,
      "outputs": [
        {
          "output_type": "display_data",
          "data": {
            "text/plain": [
              "<Figure size 432x288 with 1 Axes>"
            ],
            "image/png": "[encoded data removed]"
          },
          "metadata": {}
        }
      ]
    },
    {
      "cell_type": "code",
      "source": [
        "# using 4 clusters based on the elbow\n",
        "kmeans = KMeans(n_clusters= 4)\n",
        "kmeans.fit(cordinates)"
      ],
      "metadata": {
        "colab": {
          "base_uri": "https://localhost:8080/"
        },
        "id": "a0ZlLYhUJyX7",
        "outputId": "8c3d2257-605a-4401-d240-8a6807c2faa1"
      },
      "id": "a0ZlLYhUJyX7",
      "execution_count": null,
      "outputs": [
        {
          "output_type": "execute_result",
          "data": {
            "text/plain": [
              "KMeans(n_clusters=4)"
            ]
          },
          "metadata": {},
          "execution_count": 242
        }
      ]
    },
    {
      "cell_type": "code",
      "source": [
        "labels = kmeans.predict(cordinates)"
      ],
      "metadata": {
        "id": "v0IXgRB1KXin"
      },
      "id": "v0IXgRB1KXin",
      "execution_count": null,
      "outputs": []
    },
    {
      "cell_type": "code",
      "source": [
        "centroids = kmeans.cluster_centers_"
      ],
      "metadata": {
        "id": "n1anLPi5KeyS"
      },
      "id": "n1anLPi5KeyS",
      "execution_count": null,
      "outputs": []
    },
    {
      "cell_type": "code",
      "source": [
        "fig = plt.figure(figsize = (10,15))\n",
        "colors = map(lambda x: colmap[x+1],labels)\n",
        "plt.scatter(cordinates['Longitude'], cordinates['Latitude'], color = 'blue')\n",
        "#plt.xlim(-10, 10)\n",
        "#plt.ylim(-10, 1500)\n",
        "plt.scatter(centroids[:,0],centroids[:,1], color = 'orange')\n",
        "plt.show()"
      ],
      "metadata": {
        "colab": {
          "base_uri": "https://localhost:8080/",
          "height": 863
        },
        "id": "uBF2exm3KKxr",
        "outputId": "677a0734-84c8-4fb1-f488-67ef91b7c086"
      },
      "id": "uBF2exm3KKxr",
      "execution_count": null,
      "outputs": [
        {
          "output_type": "display_data",
          "data": {
            "text/plain": [
              "<Figure size 720x1080 with 1 Axes>"
            ],
            "image/png": "[encoded data removed]"
          },
          "metadata": {}
        }
      ]
    },
    {
      "cell_type": "markdown",
      "source": [
        "# Clustering speed and weather"
      ],
      "metadata": {
        "id": "RDzenqcyGnXM"
      },
      "id": "RDzenqcyGnXM"
    },
    {
      "cell_type": "code",
      "source": [
        "speedandweather = df[['Speed_limit','Weather_Conditions']]"
      ],
      "metadata": {
        "id": "JKCf0U1gGdW0"
      },
      "id": "JKCf0U1gGdW0",
      "execution_count": null,
      "outputs": []
    },
    {
      "cell_type": "code",
      "source": [
        "# to get the optimal k, we check for the elbow\n",
        "cluster_list = []\n",
        "\n",
        "for i in range (1, 10):\n",
        "  k_means = KMeans(n_clusters = i)\n",
        "  k_means.fit(speedandweather)\n",
        "  cluster_list.append(k_means.inertia_)\n",
        "\n",
        "plt.figure()\n",
        "plt.plot(range(1,10), cluster_list)\n",
        "plt.show()"
      ],
      "metadata": {
        "colab": {
          "base_uri": "https://localhost:8080/",
          "height": 276
        },
        "id": "jg0TXy3fKw13",
        "outputId": "e1f52faf-8224-48f7-f695-47d7a58fe34f"
      },
      "id": "jg0TXy3fKw13",
      "execution_count": null,
      "outputs": [
        {
          "output_type": "display_data",
          "data": {
            "text/plain": [
              "<Figure size 432x288 with 1 Axes>"
            ],
            "image/png": "[encoded data removed]"
          },
          "metadata": {}
        }
      ]
    },
    {
      "cell_type": "code",
      "source": [
        "kmeans = KMeans(n_clusters= 2)\n",
        "kmeans.fit(speedandweather)"
      ],
      "metadata": {
        "colab": {
          "base_uri": "https://localhost:8080/"
        },
        "id": "hlKHT6xFG0_B",
        "outputId": "4f991d25-1af7-433f-b33f-03acb29a16b6"
      },
      "id": "hlKHT6xFG0_B",
      "execution_count": null,
      "outputs": [
        {
          "output_type": "execute_result",
          "data": {
            "text/plain": [
              "KMeans(n_clusters=2)"
            ]
          },
          "metadata": {},
          "execution_count": 248
        }
      ]
    },
    {
      "cell_type": "code",
      "source": [
        "labels = kmeans.predict(speedandweather)"
      ],
      "metadata": {
        "id": "pj6rLf_vG6rJ"
      },
      "id": "pj6rLf_vG6rJ",
      "execution_count": null,
      "outputs": []
    },
    {
      "cell_type": "code",
      "source": [
        "centroids = kmeans.cluster_centers_"
      ],
      "metadata": {
        "id": "DFvyMF30G_ur"
      },
      "id": "DFvyMF30G_ur",
      "execution_count": null,
      "outputs": []
    },
    {
      "cell_type": "code",
      "source": [
        "fig = plt.figure(figsize = (5,5))\n",
        "colors = map(lambda x: colmap[x+1],labels)\n",
        "plt.scatter(speedandweather['Speed_limit'], speedandweather['Weather_Conditions'], color = 'blue')\n",
        "plt.xlim(0, 10)\n",
        "plt.ylim(1, 9)\n",
        "plt.scatter(centroids[:,0],centroids[:,1], color = 'orange')\n",
        "plt.show()"
      ],
      "metadata": {
        "colab": {
          "base_uri": "https://localhost:8080/",
          "height": 320
        },
        "id": "W4oPVepkHDiJ",
        "outputId": "742b79f3-d2ee-46cf-f029-93177a62a306"
      },
      "id": "W4oPVepkHDiJ",
      "execution_count": null,
      "outputs": [
        {
          "output_type": "display_data",
          "data": {
            "text/plain": [
              "<Figure size 360x360 with 1 Axes>"
            ],
            "image/png": "[encoded data removed]"
          },
          "metadata": {}
        }
      ]
    },
    {
      "cell_type": "markdown",
      "source": [
        "# PRINCIPAL COMPONENT ANALYSIS"
      ],
      "metadata": {
        "id": "R4FHcGcwHxQS"
      },
      "id": "R4FHcGcwHxQS"
    },
    {
      "cell_type": "code",
      "source": [
        "usethis =df.dropna()#.reset_index(drop=True)\n",
        "usethis"
      ],
      "metadata": {
        "colab": {
          "base_uri": "https://localhost:8080/",
          "height": 783
        },
        "id": "dSnp_OUtHwei",
        "outputId": "10c19a37-10b9-4864-906b-fd70c13305fd"
      },
      "id": "dSnp_OUtHwei",
      "execution_count": null,
      "outputs": [
        {
          "output_type": "execute_result",
          "data": {
            "text/plain": [
              "       Accident_Index  Location_Easting_OSGR  Location_Northing_OSGR  \\\n",
              "37      2019010155206               548535.0                188113.0   \n",
              "43      2019010155210               537356.0                183448.0   \n",
              "46      2019010155217               543616.0                186274.0   \n",
              "146     2019010155425               533271.0                186512.0   \n",
              "248     2019010155627               520571.0                179155.0   \n",
              "...               ...                    ...                     ...   \n",
              "210435  2019984107019               337522.0                591682.0   \n",
              "210436  2019984107219               318544.0                567087.0   \n",
              "210437  2019984107219               318544.0                567087.0   \n",
              "210438  2019984107419               336525.0                584226.0   \n",
              "210439  201998QC01004               291367.0                608364.0   \n",
              "\n",
              "        Longitude   Latitude  Police_Force  Accident_Severity  \\\n",
              "37       0.141957  51.572326             1                  3   \n",
              "43      -0.021065  51.533238             1                  1   \n",
              "46       0.070277  51.557075             1                  2   \n",
              "146     -0.078765  51.561751             1                  3   \n",
              "248     -0.264403  51.498486             1                  2   \n",
              "...           ...        ...           ...                ...   \n",
              "210435  -2.983499  55.215407            98                  3   \n",
              "210436  -3.274645  54.991685            98                  3   \n",
              "210437  -3.274645  54.991685            98                  3   \n",
              "210438  -2.997491  55.148292            98                  3   \n",
              "210439  -3.715064  55.357237            98                  2   \n",
              "\n",
              "        Number_of_Vehicles  Number_of_Casualties        Date  ...  \\\n",
              "37                       2                     1  01/01/2019  ...   \n",
              "43                       1                     1  01/01/2019  ...   \n",
              "46                       2                     1  01/01/2019  ...   \n",
              "146                      1                     1  02/01/2019  ...   \n",
              "248                      2                     1  03/01/2019  ...   \n",
              "...                    ...                   ...         ...  ...   \n",
              "210435                   4                     1  30/05/2019  ...   \n",
              "210436                   2                     1  21/06/2019  ...   \n",
              "210437                   2                     1  21/06/2019  ...   \n",
              "210438                   1                     1  29/06/2019  ...   \n",
              "210439                   1                     1  21/04/2019  ...   \n",
              "\n",
              "        Engine_Capacity_(CC) Propulsion_Code  Age_of_Vehicle  \\\n",
              "37                      1242               1        1.386294   \n",
              "43                      2198               2        1.386294   \n",
              "46                      1499               1        0.000000   \n",
              "146                     2996               1        0.000000   \n",
              "248                      125               1        0.000000   \n",
              "...                      ...             ...             ...   \n",
              "210435                  2198               2        1.386294   \n",
              "210436                  1997               2        2.484907   \n",
              "210437                  2967               2        1.609438   \n",
              "210438                  1597               2        1.791759   \n",
              "210439                   599               1        2.995732   \n",
              "\n",
              "       Driver_IMD_Decile  Driver_Home_Area_Type  Vehicle_IMD_Decile  \\\n",
              "37                    -1                     -1                  -1   \n",
              "43                    -1                     -1                  -1   \n",
              "46                    -1                     -1                  -1   \n",
              "146                    2                      1                   2   \n",
              "248                   -1                     -1                  -1   \n",
              "...                  ...                    ...                 ...   \n",
              "210435                 5                      3                   5   \n",
              "210436                 3                      2                   3   \n",
              "210437                 7                      3                   7   \n",
              "210438                 8                      3                   8   \n",
              "210439                 4                      1                   4   \n",
              "\n",
              "            converted_time  decimal_time  Hour                 Daytime  \n",
              "37     2022-04-25 01:15:00      1.250000   1.0            night (23-5)  \n",
              "43     2022-04-25 03:00:00      3.000000   3.0            night (23-5)  \n",
              "46     2022-04-25 04:10:00      4.166667   4.0            night (23-5)  \n",
              "146    2022-04-25 15:07:00     15.116667  15.0  afternoon rush (15-19)  \n",
              "248    2022-04-25 18:45:00     18.750000  18.0  afternoon rush (15-19)  \n",
              "...                    ...           ...   ...                     ...  \n",
              "210435 2022-04-25 08:46:00      8.766667   8.0     morning rush (5-10)  \n",
              "210436 2022-04-25 15:30:00     15.500000  15.0  afternoon rush (15-19)  \n",
              "210437 2022-04-25 15:30:00     15.500000  15.0  afternoon rush (15-19)  \n",
              "210438 2022-04-25 14:10:00     14.166667  14.0    office hours (10-15)  \n",
              "210439 2022-04-25 12:45:00     12.750000  12.0    office hours (10-15)  \n",
              "\n",
              "[140999 rows x 73 columns]"
            ],
            "text/html": [
              "\n",
              "  <div id=\"df-28668fc6-3346-47a6-939c-740feaba1c92\">\n",
              "    <div class=\"colab-df-container\">\n",
              "      <div>\n",
              "<style scoped>\n",
              "    .dataframe tbody tr th:only-of-type {\n",
              "        vertical-align: middle;\n",
              "    }\n",
              "\n",
              "    .dataframe tbody tr th {\n",
              "        vertical-align: top;\n",
              "    }\n",
              "\n",
              "    .dataframe thead th {\n",
              "        text-align: right;\n",
              "    }\n",
              "</style>\n",
              "<table border=\"1\" class=\"dataframe\">\n",
              "  <thead>\n",
              "    <tr style=\"text-align: right;\">\n",
              "      <th></th>\n",
              "      <th>Accident_Index</th>\n",
              "      <th>Location_Easting_OSGR</th>\n",
              "      <th>Location_Northing_OSGR</th>\n",
              "      <th>Longitude</th>\n",
              "      <th>Latitude</th>\n",
              "      <th>Police_Force</th>\n",
              "      <th>Accident_Severity</th>\n",
              "      <th>Number_of_Vehicles</th>\n",
              "      <th>Number_of_Casualties</th>\n",
              "      <th>Date</th>\n",
              "      <th>...</th>\n",
              "      <th>Engine_Capacity_(CC)</th>\n",
              "      <th>Propulsion_Code</th>\n",
              "      <th>Age_of_Vehicle</th>\n",
              "      <th>Driver_IMD_Decile</th>\n",
              "      <th>Driver_Home_Area_Type</th>\n",
              "      <th>Vehicle_IMD_Decile</th>\n",
              "      <th>converted_time</th>\n",
              "      <th>decimal_time</th>\n",
              "      <th>Hour</th>\n",
              "      <th>Daytime</th>\n",
              "    </tr>\n",
              "  </thead>\n",
              "  <tbody>\n",
              "    <tr>\n",
              "      <th>37</th>\n",
              "      <td>2019010155206</td>\n",
              "      <td>548535.0</td>\n",
              "      <td>188113.0</td>\n",
              "      <td>0.141957</td>\n",
              "      <td>51.572326</td>\n",
              "      <td>1</td>\n",
              "      <td>3</td>\n",
              "      <td>2</td>\n",
              "      <td>1</td>\n",
              "      <td>01/01/2019</td>\n",
              "      <td>...</td>\n",
              "      <td>1242</td>\n",
              "      <td>1</td>\n",
              "      <td>1.386294</td>\n",
              "      <td>-1</td>\n",
              "      <td>-1</td>\n",
              "      <td>-1</td>\n",
              "      <td>2022-04-25 01:15:00</td>\n",
              "      <td>1.250000</td>\n",
              "      <td>1.0</td>\n",
              "      <td>night (23-5)</td>\n",
              "    </tr>\n",
              "    <tr>\n",
              "      <th>43</th>\n",
              "      <td>2019010155210</td>\n",
              "      <td>537356.0</td>\n",
              "      <td>183448.0</td>\n",
              "      <td>-0.021065</td>\n",
              "      <td>51.533238</td>\n",
              "      <td>1</td>\n",
              "      <td>1</td>\n",
              "      <td>1</td>\n",
              "      <td>1</td>\n",
              "      <td>01/01/2019</td>\n",
              "      <td>...</td>\n",
              "      <td>2198</td>\n",
              "      <td>2</td>\n",
              "      <td>1.386294</td>\n",
              "      <td>-1</td>\n",
              "      <td>-1</td>\n",
              "      <td>-1</td>\n",
              "      <td>2022-04-25 03:00:00</td>\n",
              "      <td>3.000000</td>\n",
              "      <td>3.0</td>\n",
              "      <td>night (23-5)</td>\n",
              "    </tr>\n",
              "    <tr>\n",
              "      <th>46</th>\n",
              "      <td>2019010155217</td>\n",
              "      <td>543616.0</td>\n",
              "      <td>186274.0</td>\n",
              "      <td>0.070277</td>\n",
              "      <td>51.557075</td>\n",
              "      <td>1</td>\n",
              "      <td>2</td>\n",
              "      <td>2</td>\n",
              "      <td>1</td>\n",
              "      <td>01/01/2019</td>\n",
              "      <td>...</td>\n",
              "      <td>1499</td>\n",
              "      <td>1</td>\n",
              "      <td>0.000000</td>\n",
              "      <td>-1</td>\n",
              "      <td>-1</td>\n",
              "      <td>-1</td>\n",
              "      <td>2022-04-25 04:10:00</td>\n",
              "      <td>4.166667</td>\n",
              "      <td>4.0</td>\n",
              "      <td>night (23-5)</td>\n",
              "    </tr>\n",
              "    <tr>\n",
              "      <th>146</th>\n",
              "      <td>2019010155425</td>\n",
              "      <td>533271.0</td>\n",
              "      <td>186512.0</td>\n",
              "      <td>-0.078765</td>\n",
              "      <td>51.561751</td>\n",
              "      <td>1</td>\n",
              "      <td>3</td>\n",
              "      <td>1</td>\n",
              "      <td>1</td>\n",
              "      <td>02/01/2019</td>\n",
              "      <td>...</td>\n",
              "      <td>2996</td>\n",
              "      <td>1</td>\n",
              "      <td>0.000000</td>\n",
              "      <td>2</td>\n",
              "      <td>1</td>\n",
              "      <td>2</td>\n",
              "      <td>2022-04-25 15:07:00</td>\n",
              "      <td>15.116667</td>\n",
              "      <td>15.0</td>\n",
              "      <td>afternoon rush (15-19)</td>\n",
              "    </tr>\n",
              "    <tr>\n",
              "      <th>248</th>\n",
              "      <td>2019010155627</td>\n",
              "      <td>520571.0</td>\n",
              "      <td>179155.0</td>\n",
              "      <td>-0.264403</td>\n",
              "      <td>51.498486</td>\n",
              "      <td>1</td>\n",
              "      <td>2</td>\n",
              "      <td>2</td>\n",
              "      <td>1</td>\n",
              "      <td>03/01/2019</td>\n",
              "      <td>...</td>\n",
              "      <td>125</td>\n",
              "      <td>1</td>\n",
              "      <td>0.000000</td>\n",
              "      <td>-1</td>\n",
              "      <td>-1</td>\n",
              "      <td>-1</td>\n",
              "      <td>2022-04-25 18:45:00</td>\n",
              "      <td>18.750000</td>\n",
              "      <td>18.0</td>\n",
              "      <td>afternoon rush (15-19)</td>\n",
              "    </tr>\n",
              "    <tr>\n",
              "      <th>...</th>\n",
              "      <td>...</td>\n",
              "      <td>...</td>\n",
              "      <td>...</td>\n",
              "      <td>...</td>\n",
              "      <td>...</td>\n",
              "      <td>...</td>\n",
              "      <td>...</td>\n",
              "      <td>...</td>\n",
              "      <td>...</td>\n",
              "      <td>...</td>\n",
              "      <td>...</td>\n",
              "      <td>...</td>\n",
              "      <td>...</td>\n",
              "      <td>...</td>\n",
              "      <td>...</td>\n",
              "      <td>...</td>\n",
              "      <td>...</td>\n",
              "      <td>...</td>\n",
              "      <td>...</td>\n",
              "      <td>...</td>\n",
              "      <td>...</td>\n",
              "    </tr>\n",
              "    <tr>\n",
              "      <th>210435</th>\n",
              "      <td>2019984107019</td>\n",
              "      <td>337522.0</td>\n",
              "      <td>591682.0</td>\n",
              "      <td>-2.983499</td>\n",
              "      <td>55.215407</td>\n",
              "      <td>98</td>\n",
              "      <td>3</td>\n",
              "      <td>4</td>\n",
              "      <td>1</td>\n",
              "      <td>30/05/2019</td>\n",
              "      <td>...</td>\n",
              "      <td>2198</td>\n",
              "      <td>2</td>\n",
              "      <td>1.386294</td>\n",
              "      <td>5</td>\n",
              "      <td>3</td>\n",
              "      <td>5</td>\n",
              "      <td>2022-04-25 08:46:00</td>\n",
              "      <td>8.766667</td>\n",
              "      <td>8.0</td>\n",
              "      <td>morning rush (5-10)</td>\n",
              "    </tr>\n",
              "    <tr>\n",
              "      <th>210436</th>\n",
              "      <td>2019984107219</td>\n",
              "      <td>318544.0</td>\n",
              "      <td>567087.0</td>\n",
              "      <td>-3.274645</td>\n",
              "      <td>54.991685</td>\n",
              "      <td>98</td>\n",
              "      <td>3</td>\n",
              "      <td>2</td>\n",
              "      <td>1</td>\n",
              "      <td>21/06/2019</td>\n",
              "      <td>...</td>\n",
              "      <td>1997</td>\n",
              "      <td>2</td>\n",
              "      <td>2.484907</td>\n",
              "      <td>3</td>\n",
              "      <td>2</td>\n",
              "      <td>3</td>\n",
              "      <td>2022-04-25 15:30:00</td>\n",
              "      <td>15.500000</td>\n",
              "      <td>15.0</td>\n",
              "      <td>afternoon rush (15-19)</td>\n",
              "    </tr>\n",
              "    <tr>\n",
              "      <th>210437</th>\n",
              "      <td>2019984107219</td>\n",
              "      <td>318544.0</td>\n",
              "      <td>567087.0</td>\n",
              "      <td>-3.274645</td>\n",
              "      <td>54.991685</td>\n",
              "      <td>98</td>\n",
              "      <td>3</td>\n",
              "      <td>2</td>\n",
              "      <td>1</td>\n",
              "      <td>21/06/2019</td>\n",
              "      <td>...</td>\n",
              "      <td>2967</td>\n",
              "      <td>2</td>\n",
              "      <td>1.609438</td>\n",
              "      <td>7</td>\n",
              "      <td>3</td>\n",
              "      <td>7</td>\n",
              "      <td>2022-04-25 15:30:00</td>\n",
              "      <td>15.500000</td>\n",
              "      <td>15.0</td>\n",
              "      <td>afternoon rush (15-19)</td>\n",
              "    </tr>\n",
              "    <tr>\n",
              "      <th>210438</th>\n",
              "      <td>2019984107419</td>\n",
              "      <td>336525.0</td>\n",
              "      <td>584226.0</td>\n",
              "      <td>-2.997491</td>\n",
              "      <td>55.148292</td>\n",
              "      <td>98</td>\n",
              "      <td>3</td>\n",
              "      <td>1</td>\n",
              "      <td>1</td>\n",
              "      <td>29/06/2019</td>\n",
              "      <td>...</td>\n",
              "      <td>1597</td>\n",
              "      <td>2</td>\n",
              "      <td>1.791759</td>\n",
              "      <td>8</td>\n",
              "      <td>3</td>\n",
              "      <td>8</td>\n",
              "      <td>2022-04-25 14:10:00</td>\n",
              "      <td>14.166667</td>\n",
              "      <td>14.0</td>\n",
              "      <td>office hours (10-15)</td>\n",
              "    </tr>\n",
              "    <tr>\n",
              "      <th>210439</th>\n",
              "      <td>201998QC01004</td>\n",
              "      <td>291367.0</td>\n",
              "      <td>608364.0</td>\n",
              "      <td>-3.715064</td>\n",
              "      <td>55.357237</td>\n",
              "      <td>98</td>\n",
              "      <td>2</td>\n",
              "      <td>1</td>\n",
              "      <td>1</td>\n",
              "      <td>21/04/2019</td>\n",
              "      <td>...</td>\n",
              "      <td>599</td>\n",
              "      <td>1</td>\n",
              "      <td>2.995732</td>\n",
              "      <td>4</td>\n",
              "      <td>1</td>\n",
              "      <td>4</td>\n",
              "      <td>2022-04-25 12:45:00</td>\n",
              "      <td>12.750000</td>\n",
              "      <td>12.0</td>\n",
              "      <td>office hours (10-15)</td>\n",
              "    </tr>\n",
              "  </tbody>\n",
              "</table>\n",
              "<p>140999 rows × 73 columns</p>\n",
              "</div>\n",
              "      <button class=\"colab-df-convert\" onclick=\"convertToInteractive('df-28668fc6-3346-47a6-939c-740feaba1c92')\"\n",
              "              title=\"Convert this dataframe to an interactive table.\"\n",
              "              style=\"display:none;\">\n",
              "        \n",
              "  <svg xmlns=\"http://www.w3.org/2000/svg\" height=\"24px\"viewBox=\"0 0 24 24\"\n",
              "       width=\"24px\">\n",
              "    <path d=\"M0 0h24v24H0V0z\" fill=\"none\"/>\n",
              "    <path d=\"M18.56 5.44l.94 2.06.94-2.06 2.06-.94-2.06-.94-.94-2.06-.94 2.06-2.06.94zm-11 1L8.5 8.5l.94-2.06 2.06-.94-2.06-.94L8.5 2.5l-.94 2.06-2.06.94zm10 10l.94 2.06.94-2.06 2.06-.94-2.06-.94-.94-2.06-.94 2.06-2.06.94z\"/><path d=\"M17.41 7.96l-1.37-1.37c-.4-.4-.92-.59-1.43-.59-.52 0-1.04.2-1.43.59L10.3 9.45l-7.72 7.72c-.78.78-.78 2.05 0 2.83L4 21.41c.39.39.9.59 1.41.59.51 0 1.02-.2 1.41-.59l7.78-7.78 2.81-2.81c.8-.78.8-2.07 0-2.86zM5.41 20L4 18.59l7.72-7.72 1.47 1.35L5.41 20z\"/>\n",
              "  </svg>\n",
              "      </button>\n",
              "      \n",
              "  <style>\n",
              "    .colab-df-container {\n",
              "      display:flex;\n",
              "      flex-wrap:wrap;\n",
              "      gap: 12px;\n",
              "    }\n",
              "\n",
              "    .colab-df-convert {\n",
              "      background-color: #E8F0FE;\n",
              "      border: none;\n",
              "      border-radius: 50%;\n",
              "      cursor: pointer;\n",
              "      display: none;\n",
              "      fill: #1967D2;\n",
              "      height: 32px;\n",
              "      padding: 0 0 0 0;\n",
              "      width: 32px;\n",
              "    }\n",
              "\n",
              "    .colab-df-convert:hover {\n",
              "      background-color: #E2EBFA;\n",
              "      box-shadow: 0px 1px 2px rgba(60, 64, 67, 0.3), 0px 1px 3px 1px rgba(60, 64, 67, 0.15);\n",
              "      fill: #174EA6;\n",
              "    }\n",
              "\n",
              "    [theme=dark] .colab-df-convert {\n",
              "      background-color: #3B4455;\n",
              "      fill: #D2E3FC;\n",
              "    }\n",
              "\n",
              "    [theme=dark] .colab-df-convert:hover {\n",
              "      background-color: #434B5C;\n",
              "      box-shadow: 0px 1px 3px 1px rgba(0, 0, 0, 0.15);\n",
              "      filter: drop-shadow(0px 1px 2px rgba(0, 0, 0, 0.3));\n",
              "      fill: #FFFFFF;\n",
              "    }\n",
              "  </style>\n",
              "\n",
              "      <script>\n",
              "        const buttonEl =\n",
              "          document.querySelector('#df-28668fc6-3346-47a6-939c-740feaba1c92 button.colab-df-convert');\n",
              "        buttonEl.style.display =\n",
              "          google.colab.kernel.accessAllowed ? 'block' : 'none';\n",
              "\n",
              "        async function convertToInteractive(key) {\n",
              "          const element = document.querySelector('#df-28668fc6-3346-47a6-939c-740feaba1c92');\n",
              "          const dataTable =\n",
              "            await google.colab.kernel.invokeFunction('convertToInteractive',\n",
              "                                                     [key], {});\n",
              "          if (!dataTable) return;\n",
              "\n",
              "          const docLinkHtml = 'Like what you see? Visit the ' +\n",
              "            '<a target=\"_blank\" href=https://colab.research.google.com/notebooks/data_table.ipynb>data table notebook</a>'\n",
              "            + ' to learn more about interactive tables.';\n",
              "          element.innerHTML = '';\n",
              "          dataTable['output_type'] = 'display_data';\n",
              "          await google.colab.output.renderOutput(dataTable, element);\n",
              "          const docLink = document.createElement('div');\n",
              "          docLink.innerHTML = docLinkHtml;\n",
              "          element.appendChild(docLink);\n",
              "        }\n",
              "      </script>\n",
              "    </div>\n",
              "  </div>\n",
              "  "
            ]
          },
          "metadata": {},
          "execution_count": 252
        }
      ]
    },
    {
      "cell_type": "code",
      "source": [
        "features = usethis.drop(['Accident_Severity', 'Accident_Index','Date', 'Day_of_Week', 'Time','Local_Authority_(District)', 'Local_Authority_(Highway)','LSOA_of_Accident_Location','converted_time', 'decimal_time', 'Hour',\n",
        "       'Daytime'], axis=1)\n",
        "target = ['Accident_Severity']\n",
        "features.columns"
      ],
      "metadata": {
        "colab": {
          "base_uri": "https://localhost:8080/"
        },
        "id": "Yz2nh9_GIAO1",
        "outputId": "e417d9a1-bc9e-4235-c517-522ef8cffece"
      },
      "id": "Yz2nh9_GIAO1",
      "execution_count": null,
      "outputs": [
        {
          "output_type": "execute_result",
          "data": {
            "text/plain": [
              "Index(['Location_Easting_OSGR', 'Location_Northing_OSGR', 'Longitude',\n",
              "       'Latitude', 'Police_Force', 'Number_of_Vehicles',\n",
              "       'Number_of_Casualties', '1st_Road_Class', '1st_Road_Number',\n",
              "       'Road_Type', 'Speed_limit', 'Junction_Detail', 'Junction_Control',\n",
              "       '2nd_Road_Class', '2nd_Road_Number',\n",
              "       'Pedestrian_Crossing-Human_Control',\n",
              "       'Pedestrian_Crossing-Physical_Facilities', 'Light_Conditions',\n",
              "       'Weather_Conditions', 'Road_Surface_Conditions',\n",
              "       'Special_Conditions_at_Site', 'Carriageway_Hazards',\n",
              "       'Urban_or_Rural_Area', 'Did_Police_Officer_Attend_Scene_of_Accident',\n",
              "       'Vehicle_Reference_x', 'Casualty_Reference', 'Casualty_Class',\n",
              "       'Sex_of_Casualty', 'Age_of_Casualty', 'Age_Band_of_Casualty',\n",
              "       'Casualty_Severity', 'Pedestrian_Location', 'Pedestrian_Movement',\n",
              "       'Car_Passenger', 'Bus_or_Coach_Passenger',\n",
              "       'Pedestrian_Road_Maintenance_Worker', 'Casualty_Type',\n",
              "       'Casualty_Home_Area_Type', 'Casualty_IMD_Decile', 'Vehicle_Reference_y',\n",
              "       'Vehicle_Type', 'Towing_and_Articulation', 'Vehicle_Manoeuvre',\n",
              "       'Vehicle_Location-Restricted_Lane', 'Junction_Location',\n",
              "       'Skidding_and_Overturning', 'Hit_Object_in_Carriageway',\n",
              "       'Vehicle_Leaving_Carriageway', 'Hit_Object_off_Carriageway',\n",
              "       '1st_Point_of_Impact', 'Was_Vehicle_Left_Hand_Drive?',\n",
              "       'Journey_Purpose_of_Driver', 'Sex_of_Driver', 'Age_of_Driver',\n",
              "       'Age_Band_of_Driver', 'Engine_Capacity_(CC)', 'Propulsion_Code',\n",
              "       'Age_of_Vehicle', 'Driver_IMD_Decile', 'Driver_Home_Area_Type',\n",
              "       'Vehicle_IMD_Decile'],\n",
              "      dtype='object')"
            ]
          },
          "metadata": {},
          "execution_count": 253
        }
      ]
    },
    {
      "cell_type": "code",
      "source": [
        "x =features.values# usethis.loc[:, features].values\n",
        "y = usethis.loc[:, target].values"
      ],
      "metadata": {
        "id": "HG1FgGkBIT2B"
      },
      "id": "HG1FgGkBIT2B",
      "execution_count": null,
      "outputs": []
    },
    {
      "cell_type": "code",
      "source": [
        "from sklearn.decomposition import PCA"
      ],
      "metadata": {
        "id": "D7WSzOjzIZfj"
      },
      "id": "D7WSzOjzIZfj",
      "execution_count": null,
      "outputs": []
    },
    {
      "cell_type": "code",
      "source": [
        "pca = PCA(n_components=2)\n",
        "principalComponents = pca.fit_transform(x)\n",
        "principalDf = pd.DataFrame(data = principalComponents\n",
        "             , columns = ['principal component 1', 'principal component 2'])"
      ],
      "metadata": {
        "id": "-MC8mbz0IgnF"
      },
      "id": "-MC8mbz0IgnF",
      "execution_count": null,
      "outputs": []
    },
    {
      "cell_type": "code",
      "source": [
        "finalDf = pd.concat([principalDf, usethis[target]], axis = 1)\n",
        "finalDf"
      ],
      "metadata": {
        "colab": {
          "base_uri": "https://localhost:8080/",
          "height": 424
        },
        "id": "YO7P75rkImMG",
        "outputId": "b9e13f89-a105-4726-fc46-7abcd02faa3c"
      },
      "id": "YO7P75rkImMG",
      "execution_count": null,
      "outputs": [
        {
          "output_type": "execute_result",
          "data": {
            "text/plain": [
              "        principal component 1  principal component 2  Accident_Severity\n",
              "0              -162624.853890          -82818.300299                NaN\n",
              "1              -164295.025333          -70824.260216                NaN\n",
              "2              -163153.254689          -77596.434648                NaN\n",
              "3              -160293.097452          -67652.606904                NaN\n",
              "4              -164180.693489          -53497.367342                NaN\n",
              "...                       ...                    ...                ...\n",
              "210435                    NaN                    NaN                3.0\n",
              "210436                    NaN                    NaN                3.0\n",
              "210437                    NaN                    NaN                3.0\n",
              "210438                    NaN                    NaN                3.0\n",
              "210439                    NaN                    NaN                2.0\n",
              "\n",
              "[190079 rows x 3 columns]"
            ],
            "text/html": [
              "\n",
              "  <div id=\"df-89b116fb-d842-4df2-9a44-22cfd21ec86b\">\n",
              "    <div class=\"colab-df-container\">\n",
              "      <div>\n",
              "<style scoped>\n",
              "    .dataframe tbody tr th:only-of-type {\n",
              "        vertical-align: middle;\n",
              "    }\n",
              "\n",
              "    .dataframe tbody tr th {\n",
              "        vertical-align: top;\n",
              "    }\n",
              "\n",
              "    .dataframe thead th {\n",
              "        text-align: right;\n",
              "    }\n",
              "</style>\n",
              "<table border=\"1\" class=\"dataframe\">\n",
              "  <thead>\n",
              "    <tr style=\"text-align: right;\">\n",
              "      <th></th>\n",
              "      <th>principal component 1</th>\n",
              "      <th>principal component 2</th>\n",
              "      <th>Accident_Severity</th>\n",
              "    </tr>\n",
              "  </thead>\n",
              "  <tbody>\n",
              "    <tr>\n",
              "      <th>0</th>\n",
              "      <td>-162624.853890</td>\n",
              "      <td>-82818.300299</td>\n",
              "      <td>NaN</td>\n",
              "    </tr>\n",
              "    <tr>\n",
              "      <th>1</th>\n",
              "      <td>-164295.025333</td>\n",
              "      <td>-70824.260216</td>\n",
              "      <td>NaN</td>\n",
              "    </tr>\n",
              "    <tr>\n",
              "      <th>2</th>\n",
              "      <td>-163153.254689</td>\n",
              "      <td>-77596.434648</td>\n",
              "      <td>NaN</td>\n",
              "    </tr>\n",
              "    <tr>\n",
              "      <th>3</th>\n",
              "      <td>-160293.097452</td>\n",
              "      <td>-67652.606904</td>\n",
              "      <td>NaN</td>\n",
              "    </tr>\n",
              "    <tr>\n",
              "      <th>4</th>\n",
              "      <td>-164180.693489</td>\n",
              "      <td>-53497.367342</td>\n",
              "      <td>NaN</td>\n",
              "    </tr>\n",
              "    <tr>\n",
              "      <th>...</th>\n",
              "      <td>...</td>\n",
              "      <td>...</td>\n",
              "      <td>...</td>\n",
              "    </tr>\n",
              "    <tr>\n",
              "      <th>210435</th>\n",
              "      <td>NaN</td>\n",
              "      <td>NaN</td>\n",
              "      <td>3.0</td>\n",
              "    </tr>\n",
              "    <tr>\n",
              "      <th>210436</th>\n",
              "      <td>NaN</td>\n",
              "      <td>NaN</td>\n",
              "      <td>3.0</td>\n",
              "    </tr>\n",
              "    <tr>\n",
              "      <th>210437</th>\n",
              "      <td>NaN</td>\n",
              "      <td>NaN</td>\n",
              "      <td>3.0</td>\n",
              "    </tr>\n",
              "    <tr>\n",
              "      <th>210438</th>\n",
              "      <td>NaN</td>\n",
              "      <td>NaN</td>\n",
              "      <td>3.0</td>\n",
              "    </tr>\n",
              "    <tr>\n",
              "      <th>210439</th>\n",
              "      <td>NaN</td>\n",
              "      <td>NaN</td>\n",
              "      <td>2.0</td>\n",
              "    </tr>\n",
              "  </tbody>\n",
              "</table>\n",
              "<p>190079 rows × 3 columns</p>\n",
              "</div>\n",
              "      <button class=\"colab-df-convert\" onclick=\"convertToInteractive('df-89b116fb-d842-4df2-9a44-22cfd21ec86b')\"\n",
              "              title=\"Convert this dataframe to an interactive table.\"\n",
              "              style=\"display:none;\">\n",
              "        \n",
              "  <svg xmlns=\"http://www.w3.org/2000/svg\" height=\"24px\"viewBox=\"0 0 24 24\"\n",
              "       width=\"24px\">\n",
              "    <path d=\"M0 0h24v24H0V0z\" fill=\"none\"/>\n",
              "    <path d=\"M18.56 5.44l.94 2.06.94-2.06 2.06-.94-2.06-.94-.94-2.06-.94 2.06-2.06.94zm-11 1L8.5 8.5l.94-2.06 2.06-.94-2.06-.94L8.5 2.5l-.94 2.06-2.06.94zm10 10l.94 2.06.94-2.06 2.06-.94-2.06-.94-.94-2.06-.94 2.06-2.06.94z\"/><path d=\"M17.41 7.96l-1.37-1.37c-.4-.4-.92-.59-1.43-.59-.52 0-1.04.2-1.43.59L10.3 9.45l-7.72 7.72c-.78.78-.78 2.05 0 2.83L4 21.41c.39.39.9.59 1.41.59.51 0 1.02-.2 1.41-.59l7.78-7.78 2.81-2.81c.8-.78.8-2.07 0-2.86zM5.41 20L4 18.59l7.72-7.72 1.47 1.35L5.41 20z\"/>\n",
              "  </svg>\n",
              "      </button>\n",
              "      \n",
              "  <style>\n",
              "    .colab-df-container {\n",
              "      display:flex;\n",
              "      flex-wrap:wrap;\n",
              "      gap: 12px;\n",
              "    }\n",
              "\n",
              "    .colab-df-convert {\n",
              "      background-color: #E8F0FE;\n",
              "      border: none;\n",
              "      border-radius: 50%;\n",
              "      cursor: pointer;\n",
              "      display: none;\n",
              "      fill: #1967D2;\n",
              "      height: 32px;\n",
              "      padding: 0 0 0 0;\n",
              "      width: 32px;\n",
              "    }\n",
              "\n",
              "    .colab-df-convert:hover {\n",
              "      background-color: #E2EBFA;\n",
              "      box-shadow: 0px 1px 2px rgba(60, 64, 67, 0.3), 0px 1px 3px 1px rgba(60, 64, 67, 0.15);\n",
              "      fill: #174EA6;\n",
              "    }\n",
              "\n",
              "    [theme=dark] .colab-df-convert {\n",
              "      background-color: #3B4455;\n",
              "      fill: #D2E3FC;\n",
              "    }\n",
              "\n",
              "    [theme=dark] .colab-df-convert:hover {\n",
              "      background-color: #434B5C;\n",
              "      box-shadow: 0px 1px 3px 1px rgba(0, 0, 0, 0.15);\n",
              "      filter: drop-shadow(0px 1px 2px rgba(0, 0, 0, 0.3));\n",
              "      fill: #FFFFFF;\n",
              "    }\n",
              "  </style>\n",
              "\n",
              "      <script>\n",
              "        const buttonEl =\n",
              "          document.querySelector('#df-89b116fb-d842-4df2-9a44-22cfd21ec86b button.colab-df-convert');\n",
              "        buttonEl.style.display =\n",
              "          google.colab.kernel.accessAllowed ? 'block' : 'none';\n",
              "\n",
              "        async function convertToInteractive(key) {\n",
              "          const element = document.querySelector('#df-89b116fb-d842-4df2-9a44-22cfd21ec86b');\n",
              "          const dataTable =\n",
              "            await google.colab.kernel.invokeFunction('convertToInteractive',\n",
              "                                                     [key], {});\n",
              "          if (!dataTable) return;\n",
              "\n",
              "          const docLinkHtml = 'Like what you see? Visit the ' +\n",
              "            '<a target=\"_blank\" href=https://colab.research.google.com/notebooks/data_table.ipynb>data table notebook</a>'\n",
              "            + ' to learn more about interactive tables.';\n",
              "          element.innerHTML = '';\n",
              "          dataTable['output_type'] = 'display_data';\n",
              "          await google.colab.output.renderOutput(dataTable, element);\n",
              "          const docLink = document.createElement('div');\n",
              "          docLink.innerHTML = docLinkHtml;\n",
              "          element.appendChild(docLink);\n",
              "        }\n",
              "      </script>\n",
              "    </div>\n",
              "  </div>\n",
              "  "
            ]
          },
          "metadata": {},
          "execution_count": 257
        }
      ]
    },
    {
      "cell_type": "code",
      "source": [
        "percent_variance = np.round(pca.explained_variance_ratio_* 100, decimals =1)\n",
        "print(\"percent_variance=\", percent_variance)"
      ],
      "metadata": {
        "colab": {
          "base_uri": "https://localhost:8080/"
        },
        "id": "Acuyo6kZf9ZC",
        "outputId": "40575591-dd6a-4c55-d7fe-56e25c4c966e"
      },
      "id": "Acuyo6kZf9ZC",
      "execution_count": null,
      "outputs": [
        {
          "output_type": "stream",
          "name": "stdout",
          "text": [
            "percent_variance= [81.8 18.1]\n"
          ]
        }
      ]
    },
    {
      "cell_type": "code",
      "source": [
        "one = finalDf[finalDf['Accident_Severity'] == 1]\n",
        "two = finalDf[finalDf['Accident_Severity'] == 2]\n",
        "three = finalDf[finalDf['Accident_Severity'] == 3]\n",
        "\n",
        "fig = plt.figure(figsize=(8, 8))\n",
        "ax1 = fig.add_subplot(111)\n",
        "\n",
        "ax1.scatter(one['principal component 1'], one['principal component 2'], color='blue', s=25)\n",
        "ax1.scatter(two['principal component 1'], two['principal component 2'], color='green', s=15)\n",
        "ax1.scatter(three['principal component 1'], three['principal component 2'], color='red', s=1)\n",
        "\n",
        "#plt.xlim(-10.1, -9.75)\n",
        "#plt.ylim(-7, 7)\n",
        "\n",
        "plt.show()"
      ],
      "metadata": {
        "colab": {
          "base_uri": "https://localhost:8080/",
          "height": 483
        },
        "id": "xjI1UXeuIvLN",
        "outputId": "9570c95c-ec1b-429b-a837-896e8ae17649"
      },
      "id": "xjI1UXeuIvLN",
      "execution_count": null,
      "outputs": [
        {
          "output_type": "display_data",
          "data": {
            "text/plain": [
              "<Figure size 576x576 with 1 Axes>"
            ],
            "image/png": "[encoded data removed]"
          },
          "metadata": {}
        }
      ]
    },
    {
      "cell_type": "code",
      "source": [
        ""
      ],
      "metadata": {
        "id": "G1dPOZm-IyVF"
      },
      "id": "G1dPOZm-IyVF",
      "execution_count": null,
      "outputs": []
    },
    {
      "cell_type": "markdown",
      "source": [
        "# KMEANS ON PCA DATA"
      ],
      "metadata": {
        "id": "bs086V8wizR_"
      },
      "id": "bs086V8wizR_"
    },
    {
      "cell_type": "code",
      "source": [
        "cluster_list = []\n",
        "\n",
        "for i in range (1, 10):\n",
        "  k_means = KMeans(n_clusters = i)\n",
        "  k_means.fit(principalDf)\n",
        "  cluster_list.append(k_means.inertia_)\n",
        "\n",
        "plt.figure()\n",
        "plt.plot(range(1,10), cluster_list)\n",
        "plt.show()"
      ],
      "metadata": {
        "colab": {
          "base_uri": "https://localhost:8080/",
          "height": 276
        },
        "id": "zUQGkyTih2fN",
        "outputId": "915ebec9-27f2-4382-bcbd-718fb3d724b1"
      },
      "id": "zUQGkyTih2fN",
      "execution_count": null,
      "outputs": [
        {
          "output_type": "display_data",
          "data": {
            "text/plain": [
              "<Figure size 432x288 with 1 Axes>"
            ],
            "image/png": "[encoded data removed]"
          },
          "metadata": {}
        }
      ]
    },
    {
      "cell_type": "code",
      "source": [
        "kmeans = KMeans(n_clusters= 2)\n",
        "kmeans.fit(principalDf)"
      ],
      "metadata": {
        "colab": {
          "base_uri": "https://localhost:8080/"
        },
        "outputId": "32301204-2957-4c75-a299-f827bce77688",
        "id": "csTP1xlRiBoW"
      },
      "execution_count": null,
      "outputs": [
        {
          "output_type": "execute_result",
          "data": {
            "text/plain": [
              "KMeans(n_clusters=2)"
            ]
          },
          "metadata": {},
          "execution_count": 261
        }
      ],
      "id": "csTP1xlRiBoW"
    },
    {
      "cell_type": "code",
      "source": [
        "labels = kmeans.predict(principalDf)"
      ],
      "metadata": {
        "id": "Vy2urHcsiBof"
      },
      "execution_count": null,
      "outputs": [],
      "id": "Vy2urHcsiBof"
    },
    {
      "cell_type": "code",
      "source": [
        "centroids = kmeans.cluster_centers_"
      ],
      "metadata": {
        "id": "EvlI7xoRiBof"
      },
      "execution_count": null,
      "outputs": [],
      "id": "EvlI7xoRiBof"
    },
    {
      "cell_type": "code",
      "source": [
        "fig = plt.figure(figsize = (5,5))\n",
        "colors = map(lambda x: colmap[x+1],labels)\n",
        "plt.scatter(principalDf['principal component 1'], principalDf['principal component 1'], color = 'blue')\n",
        "#plt.xlim(0, 10)\n",
        "#plt.ylim(-10, 80)\n",
        "plt.scatter(centroids[:,0],centroids[:,1], color = 'orange')\n",
        "plt.show()"
      ],
      "metadata": {
        "colab": {
          "base_uri": "https://localhost:8080/",
          "height": 320
        },
        "outputId": "b9aeaa30-7686-470e-f67a-c167a5351fe5",
        "id": "LIY9SsB0iBof"
      },
      "execution_count": null,
      "outputs": [
        {
          "output_type": "display_data",
          "data": {
            "text/plain": [
              "<Figure size 360x360 with 1 Axes>"
            ],
            "image/png": "[encoded data removed]"
          },
          "metadata": {}
        }
      ],
      "id": "LIY9SsB0iBof"
    },
    {
      "cell_type": "code",
      "source": [
        ""
      ],
      "metadata": {
        "id": "CMh_bey_jQe-"
      },
      "id": "CMh_bey_jQe-",
      "execution_count": null,
      "outputs": []
    },
    {
      "cell_type": "markdown",
      "source": [
        "# FEATURE SELECTION\n",
        "which variables actually are the best at predicting fatalities within the accident database?"
      ],
      "metadata": {
        "id": "V70g9FlFjaJc"
      },
      "id": "V70g9FlFjaJc"
    },
    {
      "cell_type": "code",
      "source": [
        "from sklearn.feature_selection import SelectKBest, chi2, f_regression, f_classif"
      ],
      "metadata": {
        "id": "TQ79I8TcjhHz"
      },
      "id": "TQ79I8TcjhHz",
      "execution_count": null,
      "outputs": []
    },
    {
      "cell_type": "code",
      "source": [
        "df.columns"
      ],
      "metadata": {
        "colab": {
          "base_uri": "https://localhost:8080/"
        },
        "id": "BIXZlqU7jqgd",
        "outputId": "778db93e-d1bf-4f68-9724-54e628d7c48b"
      },
      "id": "BIXZlqU7jqgd",
      "execution_count": null,
      "outputs": [
        {
          "output_type": "execute_result",
          "data": {
            "text/plain": [
              "Index(['Accident_Index', 'Location_Easting_OSGR', 'Location_Northing_OSGR',\n",
              "       'Longitude', 'Latitude', 'Police_Force', 'Accident_Severity',\n",
              "       'Number_of_Vehicles', 'Number_of_Casualties', 'Date', 'Day_of_Week',\n",
              "       'Time', 'Local_Authority_(District)', 'Local_Authority_(Highway)',\n",
              "       '1st_Road_Class', '1st_Road_Number', 'Road_Type', 'Speed_limit',\n",
              "       'Junction_Detail', 'Junction_Control', '2nd_Road_Class',\n",
              "       '2nd_Road_Number', 'Pedestrian_Crossing-Human_Control',\n",
              "       'Pedestrian_Crossing-Physical_Facilities', 'Light_Conditions',\n",
              "       'Weather_Conditions', 'Road_Surface_Conditions',\n",
              "       'Special_Conditions_at_Site', 'Carriageway_Hazards',\n",
              "       'Urban_or_Rural_Area', 'Did_Police_Officer_Attend_Scene_of_Accident',\n",
              "       'LSOA_of_Accident_Location', 'Vehicle_Reference_x',\n",
              "       'Casualty_Reference', 'Casualty_Class', 'Sex_of_Casualty',\n",
              "       'Age_of_Casualty', 'Age_Band_of_Casualty', 'Casualty_Severity',\n",
              "       'Pedestrian_Location', 'Pedestrian_Movement', 'Car_Passenger',\n",
              "       'Bus_or_Coach_Passenger', 'Pedestrian_Road_Maintenance_Worker',\n",
              "       'Casualty_Type', 'Casualty_Home_Area_Type', 'Casualty_IMD_Decile',\n",
              "       'Vehicle_Reference_y', 'Vehicle_Type', 'Towing_and_Articulation',\n",
              "       'Vehicle_Manoeuvre', 'Vehicle_Location-Restricted_Lane',\n",
              "       'Junction_Location', 'Skidding_and_Overturning',\n",
              "       'Hit_Object_in_Carriageway', 'Vehicle_Leaving_Carriageway',\n",
              "       'Hit_Object_off_Carriageway', '1st_Point_of_Impact',\n",
              "       'Was_Vehicle_Left_Hand_Drive?', 'Journey_Purpose_of_Driver',\n",
              "       'Sex_of_Driver', 'Age_of_Driver', 'Age_Band_of_Driver',\n",
              "       'Engine_Capacity_(CC)', 'Propulsion_Code', 'Age_of_Vehicle',\n",
              "       'Driver_IMD_Decile', 'Driver_Home_Area_Type', 'Vehicle_IMD_Decile',\n",
              "       'converted_time', 'decimal_time', 'Hour', 'Daytime'],\n",
              "      dtype='object')"
            ]
          },
          "metadata": {},
          "execution_count": 266
        }
      ]
    },
    {
      "cell_type": "code",
      "source": [
        "#Expand the features that you are considering. Which ones at the top X (where X might be 4, 5, or so)?\n",
        "\n",
        "predictors = [\"Weather_Conditions\", \"Speed_limit\", \"Road_Surface_Conditions\", \"Light_Conditions\", \"Road_Type\", \"Urban_or_Rural_Area\",\"Carriageway_Hazards\", \"Special_Conditions_at_Site\",'Age_of_Driver','Journey_Purpose_of_Driver','Vehicle_Manoeuvre','Vehicle_Type','Sex_of_Driver','Engine_Capacity_(CC)', 'Age_of_Vehicle']\n",
        "\n",
        "usethis = df.dropna()\n",
        "usethis.reset_index(drop=True)\n",
        "\n",
        "usethis = usethis.filter(['Weather_Conditions','Speed_limit','Road_Surface_Conditions', 'Light_Conditions',\n",
        "                          'Road_Type','Urban_or_Rural_Area','Carriageway_Hazards','Special_Conditions_at_Site','Age_of_Driver','Journey_Purpose_of_Driver','Vehicle_Manoeuvre','Vehicle_Type','Sex_of_Driver','Engine_Capacity_(CC)', 'Age_of_Vehicle','Accident_Severity'], axis=1)\n",
        "\n",
        "\n",
        "\n",
        "usethisnow = usethis[(usethis['Weather_Conditions']>0) & (usethis['Speed_limit']>0) & (usethis['Road_Surface_Conditions']>0) & (usethis['Light_Conditions']>0)& (usethis['Road_Type']>0) & (usethis['Urban_or_Rural_Area']>0) & (usethis['Carriageway_Hazards']>0) & (usethis['Special_Conditions_at_Site']>0) & (usethis['Age_of_Driver']>0) & (usethis['Journey_Purpose_of_Driver']>0) & (usethis['Vehicle_Manoeuvre']>0) & (usethis['Vehicle_Type']>0) & (usethis['Sex_of_Driver']>0) & (usethis['Engine_Capacity_(CC)']>0) & (usethis['Age_of_Vehicle']>0)]"
      ],
      "metadata": {
        "id": "tLmhpZFcjwbS"
      },
      "id": "tLmhpZFcjwbS",
      "execution_count": null,
      "outputs": []
    },
    {
      "cell_type": "code",
      "source": [
        "y_target = usethisnow[\"Accident_Severity\"].values\n",
        "Xfeatures = usethisnow.drop(\"Accident_Severity\", axis=1)\n"
      ],
      "metadata": {
        "id": "N50YSRN0aJ3z"
      },
      "id": "N50YSRN0aJ3z",
      "execution_count": null,
      "outputs": []
    },
    {
      "cell_type": "markdown",
      "source": [
        ""
      ],
      "metadata": {
        "id": "lzlmxP6_aOD1"
      },
      "id": "lzlmxP6_aOD1"
    },
    {
      "cell_type": "code",
      "source": [
        "# Perform the feature selection\n",
        "selector = SelectKBest(f_classif, k=\"all\")\n",
        "selector.fit(usethisnow[predictors], usethisnow[\"Accident_Severity\"])"
      ],
      "metadata": {
        "colab": {
          "base_uri": "https://localhost:8080/"
        },
        "id": "mBzS4jx5oPP3",
        "outputId": "371cb365-644b-4829-a6c7-8a5aed103ebe"
      },
      "id": "mBzS4jx5oPP3",
      "execution_count": null,
      "outputs": [
        {
          "output_type": "execute_result",
          "data": {
            "text/plain": [
              "SelectKBest(k='all')"
            ]
          },
          "metadata": {},
          "execution_count": 269
        }
      ]
    },
    {
      "cell_type": "code",
      "source": [
        "# Here we will get the p-values for each feature and then transform from p-values into some scores\n",
        "scores = -np.log10(selector.pvalues_)"
      ],
      "metadata": {
        "id": "nnZlcavooW9u"
      },
      "id": "nnZlcavooW9u",
      "execution_count": null,
      "outputs": []
    },
    {
      "cell_type": "code",
      "source": [
        "# Use plt to plot the scores!  \n",
        "plt.bar(range(len(predictors)), scores)\n",
        "plt.xticks(range(len(predictors)), predictors, rotation='vertical')\n",
        "plt.show()"
      ],
      "metadata": {
        "colab": {
          "base_uri": "https://localhost:8080/",
          "height": 388
        },
        "id": "begDc0T-ogMX",
        "outputId": "9f6e7487-3186-41ff-e340-bc2080692408"
      },
      "id": "begDc0T-ogMX",
      "execution_count": null,
      "outputs": [
        {
          "output_type": "display_data",
          "data": {
            "text/plain": [
              "<Figure size 432x288 with 1 Axes>"
            ],
            "image/png": "[encoded data removed]"
          },
          "metadata": {}
        }
      ]
    },
    {
      "cell_type": "markdown",
      "id": "76b66e9a",
      "metadata": {
        "id": "76b66e9a"
      },
      "source": [
        "# MODEL BUILDING & EVALUATION"
      ]
    },
    {
      "cell_type": "markdown",
      "id": "97c34e56",
      "metadata": {
        "id": "97c34e56"
      },
      "source": [
        "(i)\tCan we make predictions about when and where accidents will occur, and the severity of the injuries sustained from the data supplied to improve road safety? How well do our models compare to government models? "
      ]
    },
    {
      "cell_type": "code",
      "source": [
        "from numpy import mean\n",
        "from numpy import std\n",
        "from sklearn.model_selection import cross_val_score\n",
        "from sklearn.model_selection import RepeatedStratifiedKFold,StratifiedKFold\n",
        "from sklearn.linear_model import LogisticRegression\n",
        "from sklearn.neighbors import KNeighborsClassifier\n",
        "from sklearn.ensemble import RandomForestClassifier\n",
        "from sklearn.tree import DecisionTreeClassifier\n",
        "from sklearn.naive_bayes import GaussianNB\n",
        "from matplotlib import pyplot\n",
        "#Import scikit-learn metrics module for accuracy calculation\n",
        "from sklearn import metrics\n",
        "from sklearn.svm import SVC\n",
        "from sklearn.model_selection import train_test_split\n",
        "# Model Accuracy, how often is the classifier correct?\n",
        "#print(\"Accuracy:\",metrics.accuracy_score(y_test, y_pred))\n"
      ],
      "metadata": {
        "id": "H0V8lnZaUmqV"
      },
      "id": "H0V8lnZaUmqV",
      "execution_count": null,
      "outputs": []
    },
    {
      "cell_type": "code",
      "source": [
        "def get_models():\n",
        "    models = dict()\n",
        "    models['dtree'] = DecisionTreeClassifier(criterion=\"gini\")\n",
        "    models['knn'] = KNeighborsClassifier()\n",
        "    models['lr'] = LogisticRegression()\n",
        "    models['bayes'] = GaussianNB()\n",
        "    models['svm'] = SVC()\n",
        "    models['randomf'] = RandomForestClassifier(n_estimators=100)\n",
        "    return models"
      ],
      "metadata": {
        "id": "VXZLQWUNNjmY"
      },
      "id": "VXZLQWUNNjmY",
      "execution_count": null,
      "outputs": []
    },
    {
      "cell_type": "code",
      "source": [
        "y_target = usethisnow[\"Accident_Severity\"].values.ravel()\n",
        "Xfeatures = usethisnow.drop(\"Accident_Severity\", axis=1)\n",
        "\n",
        "#The new bit is to use test-train split like so:\n",
        "def get_dataset():\n",
        "    X_train, X_validation, y_train, y_validation = train_test_split(Xfeatures,y_target,test_size=.25,random_state=1)\n",
        "    return X_train, y_train\n"
      ],
      "metadata": {
        "id": "MpKd2h4EZrki"
      },
      "id": "MpKd2h4EZrki",
      "execution_count": null,
      "outputs": []
    },
    {
      "cell_type": "markdown",
      "id": "5b6b16da",
      "metadata": {
        "id": "5b6b16da"
      },
      "source": [
        "# MODEL EVALUATION\n",
        "How well do our models compare to government models? "
      ]
    },
    {
      "cell_type": "code",
      "execution_count": null,
      "id": "b590a4d6",
      "metadata": {
        "id": "b590a4d6",
        "colab": {
          "base_uri": "https://localhost:8080/",
          "height": 235
        },
        "outputId": "b602b03f-1a00-457c-d2b6-3a8a9a155bf2"
      },
      "outputs": [
        {
          "output_type": "error",
          "ename": "NameError",
          "evalue": "ignored",
          "traceback": [
            "\u001b[0;31m---------------------------------------------------------------------------\u001b[0m",
            "\u001b[0;31mNameError\u001b[0m                                 Traceback (most recent call last)",
            "\u001b[0;32m<ipython-input-1-ef6d10f53382>\u001b[0m in \u001b[0;36m<module>\u001b[0;34m()\u001b[0m\n\u001b[1;32m      5\u001b[0m \u001b[0;34m\u001b[0m\u001b[0m\n\u001b[1;32m      6\u001b[0m \u001b[0;31m#Grab hold of the dataset.\u001b[0m\u001b[0;34m\u001b[0m\u001b[0;34m\u001b[0m\u001b[0;34m\u001b[0m\u001b[0m\n\u001b[0;32m----> 7\u001b[0;31m \u001b[0mX\u001b[0m\u001b[0;34m,\u001b[0m \u001b[0my\u001b[0m \u001b[0;34m=\u001b[0m \u001b[0mget_dataset\u001b[0m\u001b[0;34m(\u001b[0m\u001b[0;34m)\u001b[0m\u001b[0;34m\u001b[0m\u001b[0;34m\u001b[0m\u001b[0m\n\u001b[0m\u001b[1;32m      8\u001b[0m \u001b[0;31m#Grab the models to use.\u001b[0m\u001b[0;34m\u001b[0m\u001b[0;34m\u001b[0m\u001b[0;34m\u001b[0m\u001b[0m\n\u001b[1;32m      9\u001b[0m \u001b[0mmodels\u001b[0m \u001b[0;34m=\u001b[0m \u001b[0mget_models\u001b[0m\u001b[0;34m(\u001b[0m\u001b[0;34m)\u001b[0m\u001b[0;34m\u001b[0m\u001b[0;34m\u001b[0m\u001b[0m\n",
            "\u001b[0;31mNameError\u001b[0m: name 'get_dataset' is not defined"
          ]
        }
      ],
      "source": [
        "def evaluate_model(model, X, y):\n",
        "    cv=RepeatedStratifiedKFold(n_splits=20, n_repeats=4, random_state=2) #n_repeats=4, random_state=2)\n",
        "    scores = cross_val_score(model, X, y, scoring='accuracy', cv=cv, n_jobs=-1, error_score='raise')\n",
        "    return scores\n",
        "\n",
        "#Grab hold of the dataset.\n",
        "X, y = get_dataset()\n",
        "#Grab the models to use.\n",
        "models = get_models()\n",
        "#Run and Evaluate the models.\n",
        "results, names = list(), list()\n",
        "for name, model in models.items():\n",
        "    scores = evaluate_model(model, X, y)\n",
        "    results.append(scores)\n",
        "    names.append(name)\n",
        "    print('>%s %.3f (%.3f)' % (name, mean(scores), std(scores)))\n",
        "ax = sns.boxplot(data=results, labels=names,orient='v',showmeans=True)"
      ]
    },
    {
      "cell_type": "code",
      "source": [
        "import sklearn"
      ],
      "metadata": {
        "id": "UrdpI2wutEQ2"
      },
      "id": "UrdpI2wutEQ2",
      "execution_count": null,
      "outputs": []
    },
    {
      "cell_type": "code",
      "source": [
        "pyplot.boxplot(results, labels=names, showmeans=True)\n",
        "pyplot.show()"
      ],
      "metadata": {
        "colab": {
          "base_uri": "https://localhost:8080/",
          "height": 265
        },
        "id": "ULyquyDifGTP",
        "outputId": "7a11c7ae-1556-4707-8f0f-9326465a984a"
      },
      "id": "ULyquyDifGTP",
      "execution_count": null,
      "outputs": [
        {
          "output_type": "display_data",
          "data": {
            "text/plain": [
              "<Figure size 432x288 with 1 Axes>"
            ],
            "image/png": "[encoded data removed]"
          },
          "metadata": {}
        }
      ]
    },
    {
      "cell_type": "markdown",
      "source": [
        "# MODEL STACKING"
      ],
      "metadata": {
        "id": "eM4Ql7U4lOfh"
      },
      "id": "eM4Ql7U4lOfh"
    },
    {
      "cell_type": "code",
      "source": [
        "def new_stacking():\n",
        "  level0 = list()\n",
        "  level0.append(('lr', LogisticRegression()))\n",
        "  level0.append(('knn', KNeighborsClassifier()))\n",
        "  level0.append(('cart', DecisionTreeClassifier()))\n",
        "  level0.append(('svm', SVC()))\n",
        "  level0.append(('bayes', GaussianNB()))\n",
        "  level1 = LogisticRegression()\n",
        "  model = StratifiedKFold(n_splits=2, random_state=None, shuffle=False)\n",
        "  return model\n",
        "  StratifiedKFold(estimators=level0, final_estimator=level1, cv=5)"
      ],
      "metadata": {
        "id": "IRt4aINZVJhf"
      },
      "id": "IRt4aINZVJhf",
      "execution_count": null,
      "outputs": []
    },
    {
      "cell_type": "code",
      "source": [
        "def get_models():\n",
        "    models = dict()\n",
        "    models['dtree'] = DecisionTreeClassifier(criterion=\"gini\")\n",
        "    models['knn'] = KNeighborsClassifier()\n",
        "    models['lr'] = LogisticRegression()\n",
        "    models['bayes'] = GaussianNB()\n",
        "    models['svm'] = SVC()\n",
        "    models['randomf'] = RandomForestClassifier(n_estimators=100)\n",
        "    models['stacking'] = get_stacking()\n",
        "    return models"
      ],
      "metadata": {
        "id": "Iq18q_q3wacu"
      },
      "id": "Iq18q_q3wacu",
      "execution_count": null,
      "outputs": []
    },
    {
      "cell_type": "code",
      "source": [
        "def evaluate_model(model, X, y):\n",
        "    cv=RepeatedStratifiedKFold(n_splits=20, n_repeats=4, random_state=2) #n_repeats=4, random_state=2)\n",
        "    scores = cross_val_score(model, X, y, scoring='accuracy', cv=cv, n_jobs=-1, error_score='raise')\n",
        "    return scores\n",
        "\n",
        "#Grab hold of the dataset.\n",
        "X, y = get_dataset()\n",
        "#Grab the models to use.\n",
        "models = get_models()\n",
        "#Run and Evaluate the models.\n",
        "results, names = list(), list()\n",
        "for name, model in models.items():\n",
        "    scores = evaluate_model(model, X, y)\n",
        "    results.append(scores)\n",
        "    names.append(name)\n",
        "    print('>%s %.3f (%.3f)' % (name, mean(scores), std(scores)))\n",
        "ax = sns.boxplot(data=results, labels=names,orient='v',showmeans=True)"
      ],
      "metadata": {
        "id": "JNutDbxHwsP4"
      },
      "id": "JNutDbxHwsP4",
      "execution_count": null,
      "outputs": []
    },
    {
      "cell_type": "code",
      "source": [
        "from sklearn.ensemble import StackingClassifier\n",
        "\n",
        "def get_stacking():\n",
        "    level0 = list()\n",
        "    level0.append(('dtree', DecisionTreeClassifier()))\n",
        "    level0.append(('knn', KNeighborsClassifier()))\n",
        "    level0.append(('lr', LogisticRegression()))\n",
        "    level0.append(('bayes', GaussianNB()))\n",
        "    level0.append(('svm', SVC()))\n",
        "    level0.append(('randomf', RandomForestClassifier()))\n",
        "    \n",
        "    level1 = LogisticRegression()\n",
        "    model1 = StackingClassifier(estimators=level0, final_estimator=level1, cv=5)\n",
        "    return model1\n",
        "\n"
      ],
      "metadata": {
        "id": "CFJJVuMxlE8I"
      },
      "id": "CFJJVuMxlE8I",
      "execution_count": null,
      "outputs": []
    },
    {
      "cell_type": "markdown",
      "source": [
        "# PROBABILITIES"
      ],
      "metadata": {
        "id": "tWnQu1v7uuwc"
      },
      "id": "tWnQu1v7uuwc"
    },
    {
      "cell_type": "code",
      "source": [
        "X_train, X_validation, y_train, y_validation = train_test_split(Xfeatures,y_target,test_size=.25,random_state=1)"
      ],
      "metadata": {
        "id": "bGYBKfIUs-rR",
        "colab": {
          "base_uri": "https://localhost:8080/",
          "height": 172
        },
        "outputId": "8cd1686d-8d4b-497c-8478-71f295d1443e"
      },
      "id": "bGYBKfIUs-rR",
      "execution_count": null,
      "outputs": [
        {
          "output_type": "error",
          "ename": "NameError",
          "evalue": "ignored",
          "traceback": [
            "\u001b[0;31m---------------------------------------------------------------------------\u001b[0m",
            "\u001b[0;31mNameError\u001b[0m                                 Traceback (most recent call last)",
            "\u001b[0;32m<ipython-input-4-0ac9e4294e01>\u001b[0m in \u001b[0;36m<module>\u001b[0;34m()\u001b[0m\n\u001b[0;32m----> 1\u001b[0;31m \u001b[0mX_train\u001b[0m\u001b[0;34m,\u001b[0m \u001b[0mX_validation\u001b[0m\u001b[0;34m,\u001b[0m \u001b[0my_train\u001b[0m\u001b[0;34m,\u001b[0m \u001b[0my_validation\u001b[0m \u001b[0;34m=\u001b[0m \u001b[0mtrain_test_split\u001b[0m\u001b[0;34m(\u001b[0m\u001b[0mXfeatures\u001b[0m\u001b[0;34m,\u001b[0m\u001b[0my_target\u001b[0m\u001b[0;34m,\u001b[0m\u001b[0mtest_size\u001b[0m\u001b[0;34m=\u001b[0m\u001b[0;36m.25\u001b[0m\u001b[0;34m,\u001b[0m\u001b[0mrandom_state\u001b[0m\u001b[0;34m=\u001b[0m\u001b[0;36m1\u001b[0m\u001b[0;34m)\u001b[0m\u001b[0;34m\u001b[0m\u001b[0;34m\u001b[0m\u001b[0m\n\u001b[0m",
            "\u001b[0;31mNameError\u001b[0m: name 'train_test_split' is not defined"
          ]
        }
      ]
    },
    {
      "cell_type": "code",
      "source": [
        "decision_tree = DecisionTreeClassifier(criterion=\"gini\") \n",
        "\n",
        "decision_tree.fit(X_train, y_train)  \n",
        "Y_pred = decision_tree.predict(X_validation)  \n",
        "# Model Accuracy, how often is the classifier correct?\n",
        "print(\"Accuracy:\",metrics.accuracy_score(y_validation, Y_pred))"
      ],
      "metadata": {
        "colab": {
          "base_uri": "https://localhost:8080/"
        },
        "id": "c3AmC-ersVhu",
        "outputId": "5672bbe8-d8bb-4942-9654-39ef821dbb6d"
      },
      "id": "c3AmC-ersVhu",
      "execution_count": null,
      "outputs": [
        {
          "output_type": "stream",
          "name": "stdout",
          "text": [
            "Accuracy: 0.8043478260869565\n"
          ]
        }
      ]
    },
    {
      "cell_type": "code",
      "source": [
        "Y_pred_probability= decision_tree.predict_proba(X_validation)\n",
        "mean(Y_pred_probability)\n"
      ],
      "metadata": {
        "colab": {
          "base_uri": "https://localhost:8080/"
        },
        "id": "_lEA8fk9sw8s",
        "outputId": "e58fe529-9f65-4434-a662-5e2a5e6d0108"
      },
      "id": "_lEA8fk9sw8s",
      "execution_count": null,
      "outputs": [
        {
          "output_type": "execute_result",
          "data": {
            "text/plain": [
              "0.3333333333333333"
            ]
          },
          "metadata": {},
          "execution_count": 287
        }
      ]
    },
    {
      "cell_type": "code",
      "source": [
        "#Import Random Forest Model\n",
        "from sklearn.ensemble import RandomForestClassifier\n",
        "\n",
        "#Create a Gaussian Classifier\n",
        "clf=RandomForestClassifier(n_estimators=100)\n",
        "\n",
        "#Train the model using the training sets y_pred=clf.predict(X_test)\n",
        "clf.fit(X_train,y_train)\n",
        "\n",
        "y_pred2=clf.predict(X_validation)"
      ],
      "metadata": {
        "id": "RW5n82r3vLEd"
      },
      "id": "RW5n82r3vLEd",
      "execution_count": null,
      "outputs": []
    },
    {
      "cell_type": "code",
      "source": [
        "# Model Accuracy, how often is the classifier correct?\n",
        "print(\"Accuracy:\",metrics.accuracy_score(y_validation, y_pred2))"
      ],
      "metadata": {
        "colab": {
          "base_uri": "https://localhost:8080/"
        },
        "id": "BL-yhyiNvdVm",
        "outputId": "9b22198d-9787-49be-fe86-dd7313eb3fc9"
      },
      "id": "BL-yhyiNvdVm",
      "execution_count": null,
      "outputs": [
        {
          "output_type": "stream",
          "name": "stdout",
          "text": [
            "Accuracy: 0.8913043478260869\n"
          ]
        }
      ]
    },
    {
      "cell_type": "code",
      "source": [
        "Y_pred2_probability= clf.predict_proba(X_validation)\n",
        "mean(Y_pred2_probability)"
      ],
      "metadata": {
        "colab": {
          "base_uri": "https://localhost:8080/"
        },
        "id": "_-lgaY2Dvjdu",
        "outputId": "5bb5151d-cc5f-467c-fc3e-8d3a5439a955"
      },
      "id": "_-lgaY2Dvjdu",
      "execution_count": null,
      "outputs": [
        {
          "output_type": "execute_result",
          "data": {
            "text/plain": [
              "0.3333333333333333"
            ]
          },
          "metadata": {},
          "execution_count": 290
        }
      ]
    },
    {
      "cell_type": "code",
      "source": [
        ""
      ],
      "metadata": {
        "id": "ocSl5o7D3Gnf"
      },
      "id": "ocSl5o7D3Gnf",
      "execution_count": null,
      "outputs": []
    },
    {
      "cell_type": "markdown",
      "source": [
        "# REFERENCES\n",
        "\n",
        "https://scikit-learn.org/stable/index.html, OFFICIAL SCIKIT-LEARN DOCUMENTATION, \n",
        "\n",
        "https://scikit-learn.org/stable/modules/generated/sklearn.metrics.balanced_accuracy_score.html\n",
        "\n",
        "https://seaborn.pydata.org/generated/seaborn.boxplot.html\n",
        "\n",
        "\n",
        "https://stackoverflow.com/questions/48734388/valueerror-cannot-index-with-multidimensional-key"
      ],
      "metadata": {
        "id": "3c92pn0o3IBS"
      },
      "id": "3c92pn0o3IBS"
    },
    {
      "cell_type": "code",
      "source": [
        ""
      ],
      "metadata": {
        "id": "sNDfD2bc3KFT"
      },
      "id": "sNDfD2bc3KFT",
      "execution_count": null,
      "outputs": []
    }
  ],
  "metadata": {
    "kernelspec": {
      "display_name": "Python 3",
      "language": "python",
      "name": "python3"
    },
    "language_info": {
      "codemirror_mode": {
        "name": "ipython",
        "version": 3
      },
      "file_extension": ".py",
      "mimetype": "text/x-python",
      "name": "python",
      "nbconvert_exporter": "python",
      "pygments_lexer": "ipython3",
      "version": "3.8.8"
    },
    "colab": {
      "name": "ROAD SAFETY UK DATA ANALYSIS-2019.ipynb",
      "provenance": [],
      "collapsed_sections": [],
      "include_colab_link": true
    }
  },
  "nbformat": 4,
  "nbformat_minor": 5
}